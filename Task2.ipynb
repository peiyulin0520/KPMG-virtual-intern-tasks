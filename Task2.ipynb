{
  "nbformat": 4,
  "nbformat_minor": 0,
  "metadata": {
    "colab": {
      "provenance": [],
      "toc_visible": true,
      "authorship_tag": "ABX9TyNTbn6MxC4DsF/YBcioImKg",
      "include_colab_link": true
    },
    "kernelspec": {
      "name": "python3",
      "display_name": "Python 3"
    },
    "language_info": {
      "name": "python"
    }
  },
  "cells": [
    {
      "cell_type": "markdown",
      "metadata": {
        "id": "view-in-github",
        "colab_type": "text"
      },
      "source": [
        "<a href=\"https://colab.research.google.com/github/peiyulin0520/KPMG-virtual-intern-tasks/blob/main/Task2.ipynb\" target=\"_parent\"><img src=\"https://colab.research.google.com/assets/colab-badge.svg\" alt=\"Open In Colab\"/></a>"
      ]
    },
    {
      "cell_type": "code",
      "execution_count": 1,
      "metadata": {
        "colab": {
          "base_uri": "https://localhost:8080/",
          "height": 94
        },
        "id": "dDntSyQgN-1P",
        "outputId": "f44c969b-30b4-4038-b508-e06b94973dce"
      },
      "outputs": [
        {
          "output_type": "display_data",
          "data": {
            "text/plain": [
              "<IPython.core.display.HTML object>"
            ],
            "text/html": [
              "\n",
              "     <input type=\"file\" id=\"files-a3f3b65c-0250-4a83-92dc-5de9be347566\" name=\"files[]\" multiple disabled\n",
              "        style=\"border:none\" />\n",
              "     <output id=\"result-a3f3b65c-0250-4a83-92dc-5de9be347566\">\n",
              "      Upload widget is only available when the cell has been executed in the\n",
              "      current browser session. Please rerun this cell to enable.\n",
              "      </output>\n",
              "      <script>// Copyright 2017 Google LLC\n",
              "//\n",
              "// Licensed under the Apache License, Version 2.0 (the \"License\");\n",
              "// you may not use this file except in compliance with the License.\n",
              "// You may obtain a copy of the License at\n",
              "//\n",
              "//      http://www.apache.org/licenses/LICENSE-2.0\n",
              "//\n",
              "// Unless required by applicable law or agreed to in writing, software\n",
              "// distributed under the License is distributed on an \"AS IS\" BASIS,\n",
              "// WITHOUT WARRANTIES OR CONDITIONS OF ANY KIND, either express or implied.\n",
              "// See the License for the specific language governing permissions and\n",
              "// limitations under the License.\n",
              "\n",
              "/**\n",
              " * @fileoverview Helpers for google.colab Python module.\n",
              " */\n",
              "(function(scope) {\n",
              "function span(text, styleAttributes = {}) {\n",
              "  const element = document.createElement('span');\n",
              "  element.textContent = text;\n",
              "  for (const key of Object.keys(styleAttributes)) {\n",
              "    element.style[key] = styleAttributes[key];\n",
              "  }\n",
              "  return element;\n",
              "}\n",
              "\n",
              "// Max number of bytes which will be uploaded at a time.\n",
              "const MAX_PAYLOAD_SIZE = 100 * 1024;\n",
              "\n",
              "function _uploadFiles(inputId, outputId) {\n",
              "  const steps = uploadFilesStep(inputId, outputId);\n",
              "  const outputElement = document.getElementById(outputId);\n",
              "  // Cache steps on the outputElement to make it available for the next call\n",
              "  // to uploadFilesContinue from Python.\n",
              "  outputElement.steps = steps;\n",
              "\n",
              "  return _uploadFilesContinue(outputId);\n",
              "}\n",
              "\n",
              "// This is roughly an async generator (not supported in the browser yet),\n",
              "// where there are multiple asynchronous steps and the Python side is going\n",
              "// to poll for completion of each step.\n",
              "// This uses a Promise to block the python side on completion of each step,\n",
              "// then passes the result of the previous step as the input to the next step.\n",
              "function _uploadFilesContinue(outputId) {\n",
              "  const outputElement = document.getElementById(outputId);\n",
              "  const steps = outputElement.steps;\n",
              "\n",
              "  const next = steps.next(outputElement.lastPromiseValue);\n",
              "  return Promise.resolve(next.value.promise).then((value) => {\n",
              "    // Cache the last promise value to make it available to the next\n",
              "    // step of the generator.\n",
              "    outputElement.lastPromiseValue = value;\n",
              "    return next.value.response;\n",
              "  });\n",
              "}\n",
              "\n",
              "/**\n",
              " * Generator function which is called between each async step of the upload\n",
              " * process.\n",
              " * @param {string} inputId Element ID of the input file picker element.\n",
              " * @param {string} outputId Element ID of the output display.\n",
              " * @return {!Iterable<!Object>} Iterable of next steps.\n",
              " */\n",
              "function* uploadFilesStep(inputId, outputId) {\n",
              "  const inputElement = document.getElementById(inputId);\n",
              "  inputElement.disabled = false;\n",
              "\n",
              "  const outputElement = document.getElementById(outputId);\n",
              "  outputElement.innerHTML = '';\n",
              "\n",
              "  const pickedPromise = new Promise((resolve) => {\n",
              "    inputElement.addEventListener('change', (e) => {\n",
              "      resolve(e.target.files);\n",
              "    });\n",
              "  });\n",
              "\n",
              "  const cancel = document.createElement('button');\n",
              "  inputElement.parentElement.appendChild(cancel);\n",
              "  cancel.textContent = 'Cancel upload';\n",
              "  const cancelPromise = new Promise((resolve) => {\n",
              "    cancel.onclick = () => {\n",
              "      resolve(null);\n",
              "    };\n",
              "  });\n",
              "\n",
              "  // Wait for the user to pick the files.\n",
              "  const files = yield {\n",
              "    promise: Promise.race([pickedPromise, cancelPromise]),\n",
              "    response: {\n",
              "      action: 'starting',\n",
              "    }\n",
              "  };\n",
              "\n",
              "  cancel.remove();\n",
              "\n",
              "  // Disable the input element since further picks are not allowed.\n",
              "  inputElement.disabled = true;\n",
              "\n",
              "  if (!files) {\n",
              "    return {\n",
              "      response: {\n",
              "        action: 'complete',\n",
              "      }\n",
              "    };\n",
              "  }\n",
              "\n",
              "  for (const file of files) {\n",
              "    const li = document.createElement('li');\n",
              "    li.append(span(file.name, {fontWeight: 'bold'}));\n",
              "    li.append(span(\n",
              "        `(${file.type || 'n/a'}) - ${file.size} bytes, ` +\n",
              "        `last modified: ${\n",
              "            file.lastModifiedDate ? file.lastModifiedDate.toLocaleDateString() :\n",
              "                                    'n/a'} - `));\n",
              "    const percent = span('0% done');\n",
              "    li.appendChild(percent);\n",
              "\n",
              "    outputElement.appendChild(li);\n",
              "\n",
              "    const fileDataPromise = new Promise((resolve) => {\n",
              "      const reader = new FileReader();\n",
              "      reader.onload = (e) => {\n",
              "        resolve(e.target.result);\n",
              "      };\n",
              "      reader.readAsArrayBuffer(file);\n",
              "    });\n",
              "    // Wait for the data to be ready.\n",
              "    let fileData = yield {\n",
              "      promise: fileDataPromise,\n",
              "      response: {\n",
              "        action: 'continue',\n",
              "      }\n",
              "    };\n",
              "\n",
              "    // Use a chunked sending to avoid message size limits. See b/62115660.\n",
              "    let position = 0;\n",
              "    do {\n",
              "      const length = Math.min(fileData.byteLength - position, MAX_PAYLOAD_SIZE);\n",
              "      const chunk = new Uint8Array(fileData, position, length);\n",
              "      position += length;\n",
              "\n",
              "      const base64 = btoa(String.fromCharCode.apply(null, chunk));\n",
              "      yield {\n",
              "        response: {\n",
              "          action: 'append',\n",
              "          file: file.name,\n",
              "          data: base64,\n",
              "        },\n",
              "      };\n",
              "\n",
              "      let percentDone = fileData.byteLength === 0 ?\n",
              "          100 :\n",
              "          Math.round((position / fileData.byteLength) * 100);\n",
              "      percent.textContent = `${percentDone}% done`;\n",
              "\n",
              "    } while (position < fileData.byteLength);\n",
              "  }\n",
              "\n",
              "  // All done.\n",
              "  yield {\n",
              "    response: {\n",
              "      action: 'complete',\n",
              "    }\n",
              "  };\n",
              "}\n",
              "\n",
              "scope.google = scope.google || {};\n",
              "scope.google.colab = scope.google.colab || {};\n",
              "scope.google.colab._files = {\n",
              "  _uploadFiles,\n",
              "  _uploadFilesContinue,\n",
              "};\n",
              "})(self);\n",
              "</script> "
            ]
          },
          "metadata": {}
        },
        {
          "output_type": "stream",
          "name": "stdout",
          "text": [
            "Saving KPMG_VI_New_raw_data_update_final.xlsx to KPMG_VI_New_raw_data_update_final.xlsx\n"
          ]
        }
      ],
      "source": [
        "#import required libraries\n",
        "import pandas as pd\n",
        "import numpy as np\n",
        "import matplotlib.pyplot as plt\n",
        "import seaborn as sns\n",
        "\n",
        "#upload data\n",
        "from google.colab import files\n",
        "uploaded = files.upload()"
      ]
    },
    {
      "cell_type": "code",
      "source": [
        "#load data\n",
        "Transactions = pd.read_excel('KPMG_VI_New_raw_data_update_final.xlsx', sheet_name =1, header = 1)\n",
        "NewCustomerList = pd.read_excel('KPMG_VI_New_raw_data_update_final.xlsx', sheet_name =2, header = 1)\n",
        "CustomerDemographic = pd.read_excel('KPMG_VI_New_raw_data_update_final.xlsx', sheet_name =3, header = 1)\n",
        "CustomerAddress = pd.read_excel('KPMG_VI_New_raw_data_update_final.xlsx', sheet_name =4, header = 1)"
      ],
      "metadata": {
        "colab": {
          "base_uri": "https://localhost:8080/"
        },
        "id": "6OHRhixeOfRU",
        "outputId": "25590147-5fee-463c-af08-efd7aa4ed5c7"
      },
      "execution_count": 2,
      "outputs": [
        {
          "output_type": "stream",
          "name": "stderr",
          "text": [
            "<ipython-input-2-c1b227bbac12>:3: FutureWarning: Inferring datetime64[ns] from data containing strings is deprecated and will be removed in a future version. To retain the old behavior explicitly pass Series(data, dtype=datetime64[ns])\n",
            "  NewCustomerList = pd.read_excel('KPMG_VI_New_raw_data_update_final.xlsx', sheet_name =2, header = 1)\n",
            "<ipython-input-2-c1b227bbac12>:4: FutureWarning: Inferring datetime64[ns] from data containing strings is deprecated and will be removed in a future version. To retain the old behavior explicitly pass Series(data, dtype=datetime64[ns])\n",
            "  CustomerDemographic = pd.read_excel('KPMG_VI_New_raw_data_update_final.xlsx', sheet_name =3, header = 1)\n"
          ]
        }
      ]
    },
    {
      "cell_type": "markdown",
      "source": [
        "---\n",
        "Task2: get data insight by Data Exploration, Model Development and Interpretation.\n",
        "---\n",
        "The datasets provided inlcude Transactions, CustomerDemographic, CustomerAddress, and NewCustomerList.\n"
      ],
      "metadata": {
        "id": "aC2j1i4NIc1l"
      }
    },
    {
      "cell_type": "markdown",
      "source": [
        "# Data Exploration"
      ],
      "metadata": {
        "id": "ipHpTL8VJhVQ"
      }
    },
    {
      "cell_type": "code",
      "source": [
        "# merge three of the datasets firstly: use inner join because the purpose is to target customers, who would make a purchase\n",
        "all_data = Transactions.merge(CustomerDemographic, how='inner', on='customer_id').merge(CustomerAddress, how='inner', on='customer_id')"
      ],
      "metadata": {
        "id": "Zs-TQ2I8JnQq"
      },
      "execution_count": 11,
      "outputs": []
    },
    {
      "cell_type": "code",
      "source": [
        "all_data.head()"
      ],
      "metadata": {
        "colab": {
          "base_uri": "https://localhost:8080/",
          "height": 473
        },
        "id": "Bbug3OHKKpve",
        "outputId": "c8b39e71-c343-4195-e80c-b8cd06efe76f"
      },
      "execution_count": 12,
      "outputs": [
        {
          "output_type": "execute_result",
          "data": {
            "text/plain": [
              "   transaction_id  product_id  customer_id transaction_date  online_order  \\\n",
              "0               1           2         2950       2017-02-25           0.0   \n",
              "1           11065           1         2950       2017-10-16           0.0   \n",
              "2           18923          62         2950       2017-04-26           0.0   \n",
              "3               2           3         3120       2017-05-21           1.0   \n",
              "4            6862           4         3120       2017-10-05           0.0   \n",
              "\n",
              "  order_status           brand product_line product_class product_size  ...  \\\n",
              "0     Approved           Solex     Standard        medium       medium  ...   \n",
              "1     Approved  Giant Bicycles     Standard        medium       medium  ...   \n",
              "2     Approved           Solex     Standard        medium       medium  ...   \n",
              "3     Approved   Trek Bicycles     Standard        medium        large  ...   \n",
              "4     Approved  Giant Bicycles     Standard          high       medium  ...   \n",
              "\n",
              "   wealth_segment  deceased_indicator                                 default  \\\n",
              "0   Mass Customer                   N                        ã»(ï¿£âï¿£)ã»:*:   \n",
              "1   Mass Customer                   N                        ã»(ï¿£âï¿£)ã»:*:   \n",
              "2   Mass Customer                   N                        ã»(ï¿£âï¿£)ã»:*:   \n",
              "3   Mass Customer                   N  ZÌ®ÌÍÌ ÍÍAÌ¥ÌÌÍÌ»ÌLÌ£ÍÍÌ¯Ì¹ÌÍGÌ»OÌ­ÌÌ®   \n",
              "4   Mass Customer                   N  ZÌ®ÌÍÌ ÍÍAÌ¥ÌÌÍÌ»ÌLÌ£ÍÍÌ¯Ì¹ÌÍGÌ»OÌ­ÌÌ®   \n",
              "\n",
              "  owns_car tenure            address  postcode state    country  \\\n",
              "0      Yes   10.0  984 Hoepker Court      3064   VIC  Australia   \n",
              "1      Yes   10.0  984 Hoepker Court      3064   VIC  Australia   \n",
              "2      Yes   10.0  984 Hoepker Court      3064   VIC  Australia   \n",
              "3      Yes   10.0    4 Shopko Circle      2196   NSW  Australia   \n",
              "4      Yes   10.0    4 Shopko Circle      2196   NSW  Australia   \n",
              "\n",
              "  property_valuation  \n",
              "0                  6  \n",
              "1                  6  \n",
              "2                  6  \n",
              "3                  5  \n",
              "4                  5  \n",
              "\n",
              "[5 rows x 30 columns]"
            ],
            "text/html": [
              "\n",
              "  <div id=\"df-61b4d77f-8111-49be-846b-fb3fb43799fe\">\n",
              "    <div class=\"colab-df-container\">\n",
              "      <div>\n",
              "<style scoped>\n",
              "    .dataframe tbody tr th:only-of-type {\n",
              "        vertical-align: middle;\n",
              "    }\n",
              "\n",
              "    .dataframe tbody tr th {\n",
              "        vertical-align: top;\n",
              "    }\n",
              "\n",
              "    .dataframe thead th {\n",
              "        text-align: right;\n",
              "    }\n",
              "</style>\n",
              "<table border=\"1\" class=\"dataframe\">\n",
              "  <thead>\n",
              "    <tr style=\"text-align: right;\">\n",
              "      <th></th>\n",
              "      <th>transaction_id</th>\n",
              "      <th>product_id</th>\n",
              "      <th>customer_id</th>\n",
              "      <th>transaction_date</th>\n",
              "      <th>online_order</th>\n",
              "      <th>order_status</th>\n",
              "      <th>brand</th>\n",
              "      <th>product_line</th>\n",
              "      <th>product_class</th>\n",
              "      <th>product_size</th>\n",
              "      <th>...</th>\n",
              "      <th>wealth_segment</th>\n",
              "      <th>deceased_indicator</th>\n",
              "      <th>default</th>\n",
              "      <th>owns_car</th>\n",
              "      <th>tenure</th>\n",
              "      <th>address</th>\n",
              "      <th>postcode</th>\n",
              "      <th>state</th>\n",
              "      <th>country</th>\n",
              "      <th>property_valuation</th>\n",
              "    </tr>\n",
              "  </thead>\n",
              "  <tbody>\n",
              "    <tr>\n",
              "      <th>0</th>\n",
              "      <td>1</td>\n",
              "      <td>2</td>\n",
              "      <td>2950</td>\n",
              "      <td>2017-02-25</td>\n",
              "      <td>0.0</td>\n",
              "      <td>Approved</td>\n",
              "      <td>Solex</td>\n",
              "      <td>Standard</td>\n",
              "      <td>medium</td>\n",
              "      <td>medium</td>\n",
              "      <td>...</td>\n",
              "      <td>Mass Customer</td>\n",
              "      <td>N</td>\n",
              "      <td>ã»(ï¿£âï¿£)ã»:*:</td>\n",
              "      <td>Yes</td>\n",
              "      <td>10.0</td>\n",
              "      <td>984 Hoepker Court</td>\n",
              "      <td>3064</td>\n",
              "      <td>VIC</td>\n",
              "      <td>Australia</td>\n",
              "      <td>6</td>\n",
              "    </tr>\n",
              "    <tr>\n",
              "      <th>1</th>\n",
              "      <td>11065</td>\n",
              "      <td>1</td>\n",
              "      <td>2950</td>\n",
              "      <td>2017-10-16</td>\n",
              "      <td>0.0</td>\n",
              "      <td>Approved</td>\n",
              "      <td>Giant Bicycles</td>\n",
              "      <td>Standard</td>\n",
              "      <td>medium</td>\n",
              "      <td>medium</td>\n",
              "      <td>...</td>\n",
              "      <td>Mass Customer</td>\n",
              "      <td>N</td>\n",
              "      <td>ã»(ï¿£âï¿£)ã»:*:</td>\n",
              "      <td>Yes</td>\n",
              "      <td>10.0</td>\n",
              "      <td>984 Hoepker Court</td>\n",
              "      <td>3064</td>\n",
              "      <td>VIC</td>\n",
              "      <td>Australia</td>\n",
              "      <td>6</td>\n",
              "    </tr>\n",
              "    <tr>\n",
              "      <th>2</th>\n",
              "      <td>18923</td>\n",
              "      <td>62</td>\n",
              "      <td>2950</td>\n",
              "      <td>2017-04-26</td>\n",
              "      <td>0.0</td>\n",
              "      <td>Approved</td>\n",
              "      <td>Solex</td>\n",
              "      <td>Standard</td>\n",
              "      <td>medium</td>\n",
              "      <td>medium</td>\n",
              "      <td>...</td>\n",
              "      <td>Mass Customer</td>\n",
              "      <td>N</td>\n",
              "      <td>ã»(ï¿£âï¿£)ã»:*:</td>\n",
              "      <td>Yes</td>\n",
              "      <td>10.0</td>\n",
              "      <td>984 Hoepker Court</td>\n",
              "      <td>3064</td>\n",
              "      <td>VIC</td>\n",
              "      <td>Australia</td>\n",
              "      <td>6</td>\n",
              "    </tr>\n",
              "    <tr>\n",
              "      <th>3</th>\n",
              "      <td>2</td>\n",
              "      <td>3</td>\n",
              "      <td>3120</td>\n",
              "      <td>2017-05-21</td>\n",
              "      <td>1.0</td>\n",
              "      <td>Approved</td>\n",
              "      <td>Trek Bicycles</td>\n",
              "      <td>Standard</td>\n",
              "      <td>medium</td>\n",
              "      <td>large</td>\n",
              "      <td>...</td>\n",
              "      <td>Mass Customer</td>\n",
              "      <td>N</td>\n",
              "      <td>ZÌ®ÌÍÌ ÍÍAÌ¥ÌÌÍÌ»ÌLÌ£ÍÍÌ¯Ì¹ÌÍGÌ»OÌ­ÌÌ®</td>\n",
              "      <td>Yes</td>\n",
              "      <td>10.0</td>\n",
              "      <td>4 Shopko Circle</td>\n",
              "      <td>2196</td>\n",
              "      <td>NSW</td>\n",
              "      <td>Australia</td>\n",
              "      <td>5</td>\n",
              "    </tr>\n",
              "    <tr>\n",
              "      <th>4</th>\n",
              "      <td>6862</td>\n",
              "      <td>4</td>\n",
              "      <td>3120</td>\n",
              "      <td>2017-10-05</td>\n",
              "      <td>0.0</td>\n",
              "      <td>Approved</td>\n",
              "      <td>Giant Bicycles</td>\n",
              "      <td>Standard</td>\n",
              "      <td>high</td>\n",
              "      <td>medium</td>\n",
              "      <td>...</td>\n",
              "      <td>Mass Customer</td>\n",
              "      <td>N</td>\n",
              "      <td>ZÌ®ÌÍÌ ÍÍAÌ¥ÌÌÍÌ»ÌLÌ£ÍÍÌ¯Ì¹ÌÍGÌ»OÌ­ÌÌ®</td>\n",
              "      <td>Yes</td>\n",
              "      <td>10.0</td>\n",
              "      <td>4 Shopko Circle</td>\n",
              "      <td>2196</td>\n",
              "      <td>NSW</td>\n",
              "      <td>Australia</td>\n",
              "      <td>5</td>\n",
              "    </tr>\n",
              "  </tbody>\n",
              "</table>\n",
              "<p>5 rows × 30 columns</p>\n",
              "</div>\n",
              "      <button class=\"colab-df-convert\" onclick=\"convertToInteractive('df-61b4d77f-8111-49be-846b-fb3fb43799fe')\"\n",
              "              title=\"Convert this dataframe to an interactive table.\"\n",
              "              style=\"display:none;\">\n",
              "        \n",
              "  <svg xmlns=\"http://www.w3.org/2000/svg\" height=\"24px\"viewBox=\"0 0 24 24\"\n",
              "       width=\"24px\">\n",
              "    <path d=\"M0 0h24v24H0V0z\" fill=\"none\"/>\n",
              "    <path d=\"M18.56 5.44l.94 2.06.94-2.06 2.06-.94-2.06-.94-.94-2.06-.94 2.06-2.06.94zm-11 1L8.5 8.5l.94-2.06 2.06-.94-2.06-.94L8.5 2.5l-.94 2.06-2.06.94zm10 10l.94 2.06.94-2.06 2.06-.94-2.06-.94-.94-2.06-.94 2.06-2.06.94z\"/><path d=\"M17.41 7.96l-1.37-1.37c-.4-.4-.92-.59-1.43-.59-.52 0-1.04.2-1.43.59L10.3 9.45l-7.72 7.72c-.78.78-.78 2.05 0 2.83L4 21.41c.39.39.9.59 1.41.59.51 0 1.02-.2 1.41-.59l7.78-7.78 2.81-2.81c.8-.78.8-2.07 0-2.86zM5.41 20L4 18.59l7.72-7.72 1.47 1.35L5.41 20z\"/>\n",
              "  </svg>\n",
              "      </button>\n",
              "      \n",
              "  <style>\n",
              "    .colab-df-container {\n",
              "      display:flex;\n",
              "      flex-wrap:wrap;\n",
              "      gap: 12px;\n",
              "    }\n",
              "\n",
              "    .colab-df-convert {\n",
              "      background-color: #E8F0FE;\n",
              "      border: none;\n",
              "      border-radius: 50%;\n",
              "      cursor: pointer;\n",
              "      display: none;\n",
              "      fill: #1967D2;\n",
              "      height: 32px;\n",
              "      padding: 0 0 0 0;\n",
              "      width: 32px;\n",
              "    }\n",
              "\n",
              "    .colab-df-convert:hover {\n",
              "      background-color: #E2EBFA;\n",
              "      box-shadow: 0px 1px 2px rgba(60, 64, 67, 0.3), 0px 1px 3px 1px rgba(60, 64, 67, 0.15);\n",
              "      fill: #174EA6;\n",
              "    }\n",
              "\n",
              "    [theme=dark] .colab-df-convert {\n",
              "      background-color: #3B4455;\n",
              "      fill: #D2E3FC;\n",
              "    }\n",
              "\n",
              "    [theme=dark] .colab-df-convert:hover {\n",
              "      background-color: #434B5C;\n",
              "      box-shadow: 0px 1px 3px 1px rgba(0, 0, 0, 0.15);\n",
              "      filter: drop-shadow(0px 1px 2px rgba(0, 0, 0, 0.3));\n",
              "      fill: #FFFFFF;\n",
              "    }\n",
              "  </style>\n",
              "\n",
              "      <script>\n",
              "        const buttonEl =\n",
              "          document.querySelector('#df-61b4d77f-8111-49be-846b-fb3fb43799fe button.colab-df-convert');\n",
              "        buttonEl.style.display =\n",
              "          google.colab.kernel.accessAllowed ? 'block' : 'none';\n",
              "\n",
              "        async function convertToInteractive(key) {\n",
              "          const element = document.querySelector('#df-61b4d77f-8111-49be-846b-fb3fb43799fe');\n",
              "          const dataTable =\n",
              "            await google.colab.kernel.invokeFunction('convertToInteractive',\n",
              "                                                     [key], {});\n",
              "          if (!dataTable) return;\n",
              "\n",
              "          const docLinkHtml = 'Like what you see? Visit the ' +\n",
              "            '<a target=\"_blank\" href=https://colab.research.google.com/notebooks/data_table.ipynb>data table notebook</a>'\n",
              "            + ' to learn more about interactive tables.';\n",
              "          element.innerHTML = '';\n",
              "          dataTable['output_type'] = 'display_data';\n",
              "          await google.colab.output.renderOutput(dataTable, element);\n",
              "          const docLink = document.createElement('div');\n",
              "          docLink.innerHTML = docLinkHtml;\n",
              "          element.appendChild(docLink);\n",
              "        }\n",
              "      </script>\n",
              "    </div>\n",
              "  </div>\n",
              "  "
            ]
          },
          "metadata": {},
          "execution_count": 12
        }
      ]
    },
    {
      "cell_type": "code",
      "source": [
        "all_data.info()"
      ],
      "metadata": {
        "colab": {
          "base_uri": "https://localhost:8080/"
        },
        "id": "SJj7KzZ0KvpG",
        "outputId": "dbb7e36f-c7cb-4840-a892-290adccf1f4c"
      },
      "execution_count": 13,
      "outputs": [
        {
          "output_type": "stream",
          "name": "stdout",
          "text": [
            "<class 'pandas.core.frame.DataFrame'>\n",
            "Int64Index: 19968 entries, 0 to 19967\n",
            "Data columns (total 30 columns):\n",
            " #   Column                               Non-Null Count  Dtype         \n",
            "---  ------                               --------------  -----         \n",
            " 0   transaction_id                       19968 non-null  int64         \n",
            " 1   product_id                           19968 non-null  int64         \n",
            " 2   customer_id                          19968 non-null  int64         \n",
            " 3   transaction_date                     19968 non-null  datetime64[ns]\n",
            " 4   online_order                         19609 non-null  float64       \n",
            " 5   order_status                         19968 non-null  object        \n",
            " 6   brand                                19773 non-null  object        \n",
            " 7   product_line                         19773 non-null  object        \n",
            " 8   product_class                        19773 non-null  object        \n",
            " 9   product_size                         19773 non-null  object        \n",
            " 10  list_price                           19968 non-null  float64       \n",
            " 11  standard_cost                        19773 non-null  float64       \n",
            " 12  product_first_sold_date              19773 non-null  float64       \n",
            " 13  first_name                           19968 non-null  object        \n",
            " 14  last_name                            19326 non-null  object        \n",
            " 15  gender                               19968 non-null  object        \n",
            " 16  past_3_years_bike_related_purchases  19968 non-null  int64         \n",
            " 17  DOB                                  19522 non-null  datetime64[ns]\n",
            " 18  job_title                            17589 non-null  object        \n",
            " 19  job_industry_category                16746 non-null  object        \n",
            " 20  wealth_segment                       19968 non-null  object        \n",
            " 21  deceased_indicator                   19968 non-null  object        \n",
            " 22  default                              18517 non-null  object        \n",
            " 23  owns_car                             19968 non-null  object        \n",
            " 24  tenure                               19522 non-null  float64       \n",
            " 25  address                              19968 non-null  object        \n",
            " 26  postcode                             19968 non-null  int64         \n",
            " 27  state                                19968 non-null  object        \n",
            " 28  country                              19968 non-null  object        \n",
            " 29  property_valuation                   19968 non-null  int64         \n",
            "dtypes: datetime64[ns](2), float64(5), int64(6), object(17)\n",
            "memory usage: 4.7+ MB\n"
          ]
        }
      ]
    },
    {
      "cell_type": "markdown",
      "source": [
        "From the overview, we can conclude that some customer_id in Transactions are not in CustomerDemographic or CustomerAddress, so the number of data jump from 20,000 to 19,968. The following step is data preprocessing.\n",
        "1. Handle missing values\n",
        "2. Handle unreasonable data\n",
        "3. Change data type: online_order (bool), online_status (bool), deceased_indicator (bool), owns_car (bool), and postcode (str)\n",
        "4. Add additional variables: Age, number of transactions, profit for each transaction, sum profit gain from each customer"
      ],
      "metadata": {
        "id": "zypuySCuLJ2O"
      }
    },
    {
      "cell_type": "code",
      "source": [
        "# data preprocessing - handle missing data\n",
        "## online_order variable: not important for getting new targeted customers\n",
        "\n",
        "##brand; product_line; product_class; product_size and product_first_sold_date \n",
        "## have same amount of missing data\n",
        "### get the data, which is NaN in these columns\n",
        "miss_df = Transactions[Transactions[['brand', 'product_line', 'product_class',\\\n",
        "                                     'product_size', \\\n",
        "                                     'standard_cost',\\\n",
        "                                     'product_first_sold_date']].\\\n",
        "                       isna().any(axis=1)]\n",
        "print('number of unique data','\\n',miss_df.nunique())\n",
        "print('product_id is: ', miss_df['product_id'].unique())\n",
        "\n",
        "##standard_cost\n",
        "### data distribution by plot\n",
        "plt.hist(all_data['standard_cost'], bins=20)\n",
        "plt.show()\n",
        "all_data['standard_cost'].agg(['min', 'max'])\n",
        "\n",
        "## DOB: used for Age calculation\n",
        "### use the datetime package and check the datetime now\n",
        "from datetime import datetime\n",
        "now = datetime.now()\n",
        "### calculate the age\n",
        "all_data['age'] = (now - all_data['DOB']).astype('<m8[Y]')\n",
        "\n",
        "## job_title and job_industry_category\n",
        "### fill NaN data with 'Unknown'\n",
        "all_data['job_industry_category'] = all_data['job_industry_category'].fillna('Unknown')\n",
        "all_data['job_title'] = all_data['job_title'].fillna('Unknown')\n",
        "\n",
        "## remove rows that have missing values\n",
        "all_data_clean = all_data.drop(columns=['online_order','brand', 'product_line', \\\n",
        "                                         'product_class', 'product_size',\\\n",
        "                                         'product_first_sold_date',\\\n",
        "                                         'last_name', 'DOB', 'default'])\n",
        "all_data_clean = all_data_clean.dropna(subset=['standard_cost','age', 'tenure'])"
      ],
      "metadata": {
        "colab": {
          "base_uri": "https://localhost:8080/",
          "height": 716
        },
        "id": "rLjTrJzNK1Zj",
        "outputId": "515c1e9c-e279-4278-d1c1-0ca149a783e2"
      },
      "execution_count": 72,
      "outputs": [
        {
          "output_type": "stream",
          "name": "stdout",
          "text": [
            "number of unique data \n",
            " transaction_id             197\n",
            "product_id                   1\n",
            "customer_id                192\n",
            "transaction_date           154\n",
            "online_order                 2\n",
            "order_status                 2\n",
            "brand                        0\n",
            "product_line                 0\n",
            "product_class                0\n",
            "product_size                 0\n",
            "list_price                 196\n",
            "standard_cost                0\n",
            "product_first_sold_date      0\n",
            "dtype: int64\n",
            "product_id is:  [0]\n"
          ]
        },
        {
          "output_type": "display_data",
          "data": {
            "text/plain": [
              "<Figure size 640x480 with 1 Axes>"
            ],
            "image/png": "[encoded data removed]"
          },
          "metadata": {}
        }
      ]
    },
    {
      "cell_type": "markdown",
      "source": [
        "Missing values:\n",
        "1. online_order: not an important feature when identified new target customers\n",
        "2. brand; product_line; product_class; product_size; product_first_sold_date: they all belong to product_id=0, and not useful to identify new target customers\n",
        "3. standard_cost: they all belong to product_id=0; important to calculated the profit for each transaction, The data distribution is not normal distribtion in the plot and range from 7 to 1,759, I decide to remove NaN data directly to avoid misleading\n",
        "4. last_name : not an important feature for data clustering\n",
        "5. DOB: not an important feature but keep for a calculation of Age variable; remove NaN value to avoid misleading clustering result\n",
        "6. job_title: Fill NaN with 'Unknown' category\n",
        "7. job_industry_category: Fill NaN with 'Unknown' category\n",
        "8. default: not heloful because it does not contain meaningful text or data\n",
        "9. tenure: remove missing value to avoid misleading clustering result"
      ],
      "metadata": {
        "id": "Al91OT4EN0RE"
      }
    },
    {
      "cell_type": "code",
      "source": [
        "# Data Preprocessing - handle unreasonable data\n",
        "## check order status\n",
        "print(all_data_clean['order_status'].value_counts()) # includes 'Approved' 'Cancelled'\n",
        "\n",
        "## check age\n",
        "age_cust = sorted(all_data_clean['age'].unique(), reverse=True)\n",
        "print(age_cust[0:11])\n",
        "plt.hist(all_data_clean['age'], bins=30)\n",
        "plt.title('Age distribution')\n",
        "plt.xlabel('Age')\n",
        "plt.ylabel('Frequency')\n",
        "plt.show()\n",
        "\n",
        "## check the uniqueness for these columns\n",
        "print('Gender categories: ', all_data_clean['gender'].unique())\n",
        "print('wealth_segment: ', all_data_clean['wealth_segment'].unique())\n",
        "print('deceased_indicator: ', all_data_clean['deceased_indicator'].unique())\n",
        "print('owns_car: ', all_data_clean['owns_car'].unique())\n",
        "print('state: ', all_data_clean['state'].unique())\n",
        "print('country: ', all_data_clean['country'].unique())\n",
        "\n",
        "## Modify value to make each value representative and in the uniform format\n",
        "all_data_clean['gender'].replace(['Male', 'Female', 'Femal'], ['M', 'F', 'F'], inplace=True)\n",
        "all_data_clean['state'].replace(['Victoria', 'New South Wales'], ['VIC', 'NSW'], inplace=True)\n",
        "\n",
        "##address\n",
        "all_data_clean['address'].nunique() #3,411 unique address\n",
        "\n",
        "## drop rows that are unreasonable\n",
        "all_data_clean = all_data_clean.drop(all_data_clean[(all_data_clean['age']>100)|\\\n",
        "                                      (all_data_clean['order_status'] == 'Cancelled')].index)\n",
        "all_data_clean = all_data_clean.drop(columns=['country', 'address'])"
      ],
      "metadata": {
        "colab": {
          "base_uri": "https://localhost:8080/",
          "height": 651
        },
        "id": "ASmTT04FarWC",
        "outputId": "069e34c3-89b9-4276-948f-9ff3b2b727b5"
      },
      "execution_count": 73,
      "outputs": [
        {
          "output_type": "stream",
          "name": "stdout",
          "text": [
            "Approved     19160\n",
            "Cancelled      175\n",
            "Name: order_status, dtype: int64\n",
            "[179.0, 91.0, 87.0, 82.0, 79.0, 69.0, 68.0, 67.0, 66.0, 65.0, 64.0]\n"
          ]
        },
        {
          "output_type": "display_data",
          "data": {
            "text/plain": [
              "<Figure size 640x480 with 1 Axes>"
            ],
            "image/png": "[encoded data removed]"
          },
          "metadata": {}
        },
        {
          "output_type": "stream",
          "name": "stdout",
          "text": [
            "Gender categories:  ['Male' 'Female' 'F' 'M' 'U' 'Femal']\n",
            "wealth_segment:  ['Mass Customer' 'Affluent Customer' 'High Net Worth']\n",
            "deceased_indicator:  ['N' 'Y']\n",
            "owns_car:  ['Yes' 'No']\n",
            "state:  ['VIC' 'NSW' 'QLD' 'Victoria' 'New South Wales']\n",
            "country:  ['Australia']\n"
          ]
        }
      ]
    },
    {
      "cell_type": "markdown",
      "source": [
        "Unreasonable data:\n",
        "1. order_status: shouldn't consider transactions that are cancelled\n",
        "2. age: it is unreasonable that the customers would older than 100 when we assumed that the lifespan is 100.\n",
        "3. gender and state: have different categories for the same definition\n",
        "4. address: 3,411 unique addresses. The address is too many for data clustering\n",
        "5. country: each customer comes from Australia, so it is not useful to include country for clustering or analysis"
      ],
      "metadata": {
        "id": "wqKVbo5Na6E4"
      }
    },
    {
      "cell_type": "code",
      "source": [
        "# all_data_clean = all_data_clean.astype({})"
      ],
      "metadata": {
        "colab": {
          "base_uri": "https://localhost:8080/"
        },
        "id": "iy-B2A7OaGVk",
        "outputId": "38b5ffd0-6022-4b9f-b115-7be560fa56b5"
      },
      "execution_count": 67,
      "outputs": [
        {
          "output_type": "execute_result",
          "data": {
            "text/plain": [
              "3409"
            ]
          },
          "metadata": {},
          "execution_count": 67
        }
      ]
    },
    {
      "cell_type": "code",
      "source": [
        "all_data_clean.info()\n"
      ],
      "metadata": {
        "colab": {
          "base_uri": "https://localhost:8080/"
        },
        "id": "IePqQn4zZ7T5",
        "outputId": "aa91240f-1d60-4dce-b8e1-12177630ddb4"
      },
      "execution_count": 71,
      "outputs": [
        {
          "output_type": "stream",
          "name": "stdout",
          "text": [
            "<class 'pandas.core.frame.DataFrame'>\n",
            "Int64Index: 19152 entries, 0 to 19967\n",
            "Data columns (total 20 columns):\n",
            " #   Column                               Non-Null Count  Dtype         \n",
            "---  ------                               --------------  -----         \n",
            " 0   transaction_id                       19152 non-null  int64         \n",
            " 1   product_id                           19152 non-null  int64         \n",
            " 2   customer_id                          19152 non-null  int64         \n",
            " 3   transaction_date                     19152 non-null  datetime64[ns]\n",
            " 4   order_status                         19152 non-null  object        \n",
            " 5   list_price                           19152 non-null  float64       \n",
            " 6   standard_cost                        19152 non-null  float64       \n",
            " 7   first_name                           19152 non-null  object        \n",
            " 8   gender                               19152 non-null  object        \n",
            " 9   past_3_years_bike_related_purchases  19152 non-null  int64         \n",
            " 10  job_title                            19152 non-null  object        \n",
            " 11  job_industry_category                19152 non-null  object        \n",
            " 12  wealth_segment                       19152 non-null  object        \n",
            " 13  deceased_indicator                   19152 non-null  object        \n",
            " 14  owns_car                             19152 non-null  object        \n",
            " 15  tenure                               19152 non-null  float64       \n",
            " 16  postcode                             19152 non-null  int64         \n",
            " 17  state                                19152 non-null  object        \n",
            " 18  property_valuation                   19152 non-null  int64         \n",
            " 19  age                                  19152 non-null  float64       \n",
            "dtypes: datetime64[ns](1), float64(4), int64(6), object(9)\n",
            "memory usage: 3.1+ MB\n"
          ]
        }
      ]
    },
    {
      "cell_type": "code",
      "source": [
        "## change data type\n",
        "all_data = all_data.astype({'online_order':'bool', 'deceased_indicator':'bool',\\\n",
        "                            'owns_car':'bool','order_status':'bool',\\\n",
        "                            'postcode':'str'})"
      ],
      "metadata": {
        "id": "PWn8GQwkNUyG"
      },
      "execution_count": null,
      "outputs": []
    },
    {
      "cell_type": "code",
      "source": [
        "all_data.info()"
      ],
      "metadata": {
        "colab": {
          "base_uri": "https://localhost:8080/"
        },
        "id": "6o4hdmRAM9ht",
        "outputId": "9b77222b-a163-4672-f7b5-42550c3e4018"
      },
      "execution_count": 8,
      "outputs": [
        {
          "output_type": "stream",
          "name": "stdout",
          "text": [
            "<class 'pandas.core.frame.DataFrame'>\n",
            "Int64Index: 20510 entries, 0 to 20509\n",
            "Data columns (total 30 columns):\n",
            " #   Column                               Non-Null Count  Dtype         \n",
            "---  ------                               --------------  -----         \n",
            " 0   transaction_id                       20000 non-null  float64       \n",
            " 1   product_id                           20000 non-null  float64       \n",
            " 2   customer_id                          20510 non-null  int64         \n",
            " 3   transaction_date                     20000 non-null  datetime64[ns]\n",
            " 4   online_order                         20510 non-null  bool          \n",
            " 5   order_status                         20510 non-null  bool          \n",
            " 6   brand                                19803 non-null  object        \n",
            " 7   product_line                         19803 non-null  object        \n",
            " 8   product_class                        19803 non-null  object        \n",
            " 9   product_size                         19803 non-null  object        \n",
            " 10  list_price                           20000 non-null  float64       \n",
            " 11  standard_cost                        19803 non-null  float64       \n",
            " 12  product_first_sold_date              19803 non-null  float64       \n",
            " 13  first_name                           20504 non-null  object        \n",
            " 14  last_name                            19849 non-null  object        \n",
            " 15  gender                               20504 non-null  object        \n",
            " 16  past_3_years_bike_related_purchases  20504 non-null  float64       \n",
            " 17  DOB                                  20047 non-null  datetime64[ns]\n",
            " 18  job_title                            18027 non-null  object        \n",
            " 19  job_industry_category                17180 non-null  object        \n",
            " 20  wealth_segment                       20504 non-null  object        \n",
            " 21  deceased_indicator                   20510 non-null  bool          \n",
            " 22  default                              19005 non-null  object        \n",
            " 23  owns_car                             20510 non-null  bool          \n",
            " 24  tenure                               20047 non-null  float64       \n",
            " 25  address                              20478 non-null  object        \n",
            " 26  postcode                             20510 non-null  object        \n",
            " 27  state                                20478 non-null  object        \n",
            " 28  country                              20478 non-null  object        \n",
            " 29  property_valuation                   20478 non-null  float64       \n",
            "dtypes: bool(4), datetime64[ns](2), float64(8), int64(1), object(15)\n",
            "memory usage: 4.3+ MB\n"
          ]
        }
      ]
    }
  ]
}