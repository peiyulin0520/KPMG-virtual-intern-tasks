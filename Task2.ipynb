{
  "nbformat": 4,
  "nbformat_minor": 0,
  "metadata": {
    "colab": {
      "provenance": [],
      "authorship_tag": "ABX9TyOVeX5/QvcBpozsvouEBFzU",
      "include_colab_link": true
    },
    "kernelspec": {
      "name": "python3",
      "display_name": "Python 3"
    },
    "language_info": {
      "name": "python"
    }
  },
  "cells": [
    {
      "cell_type": "markdown",
      "metadata": {
        "id": "view-in-github",
        "colab_type": "text"
      },
      "source": [
        "<a href=\"https://colab.research.google.com/github/peiyulin0520/KPMG-virtual-intern-tasks/blob/main/Task2.ipynb\" target=\"_parent\"><img src=\"https://colab.research.google.com/assets/colab-badge.svg\" alt=\"Open In Colab\"/></a>"
      ]
    },
    {
      "cell_type": "code",
      "execution_count": 2,
      "metadata": {
        "colab": {
          "base_uri": "https://localhost:8080/",
          "height": 77
        },
        "id": "dDntSyQgN-1P",
        "outputId": "03675b9f-f412-48e0-f236-ae00efbdf4a6"
      },
      "outputs": [
        {
          "output_type": "display_data",
          "data": {
            "text/plain": [
              "<IPython.core.display.HTML object>"
            ],
            "text/html": [
              "\n",
              "     <input type=\"file\" id=\"files-15a1a3cf-fb0f-4f7e-ba84-04c2cd11837b\" name=\"files[]\" multiple disabled\n",
              "        style=\"border:none\" />\n",
              "     <output id=\"result-15a1a3cf-fb0f-4f7e-ba84-04c2cd11837b\">\n",
              "      Upload widget is only available when the cell has been executed in the\n",
              "      current browser session. Please rerun this cell to enable.\n",
              "      </output>\n",
              "      <script>// Copyright 2017 Google LLC\n",
              "//\n",
              "// Licensed under the Apache License, Version 2.0 (the \"License\");\n",
              "// you may not use this file except in compliance with the License.\n",
              "// You may obtain a copy of the License at\n",
              "//\n",
              "//      http://www.apache.org/licenses/LICENSE-2.0\n",
              "//\n",
              "// Unless required by applicable law or agreed to in writing, software\n",
              "// distributed under the License is distributed on an \"AS IS\" BASIS,\n",
              "// WITHOUT WARRANTIES OR CONDITIONS OF ANY KIND, either express or implied.\n",
              "// See the License for the specific language governing permissions and\n",
              "// limitations under the License.\n",
              "\n",
              "/**\n",
              " * @fileoverview Helpers for google.colab Python module.\n",
              " */\n",
              "(function(scope) {\n",
              "function span(text, styleAttributes = {}) {\n",
              "  const element = document.createElement('span');\n",
              "  element.textContent = text;\n",
              "  for (const key of Object.keys(styleAttributes)) {\n",
              "    element.style[key] = styleAttributes[key];\n",
              "  }\n",
              "  return element;\n",
              "}\n",
              "\n",
              "// Max number of bytes which will be uploaded at a time.\n",
              "const MAX_PAYLOAD_SIZE = 100 * 1024;\n",
              "\n",
              "function _uploadFiles(inputId, outputId) {\n",
              "  const steps = uploadFilesStep(inputId, outputId);\n",
              "  const outputElement = document.getElementById(outputId);\n",
              "  // Cache steps on the outputElement to make it available for the next call\n",
              "  // to uploadFilesContinue from Python.\n",
              "  outputElement.steps = steps;\n",
              "\n",
              "  return _uploadFilesContinue(outputId);\n",
              "}\n",
              "\n",
              "// This is roughly an async generator (not supported in the browser yet),\n",
              "// where there are multiple asynchronous steps and the Python side is going\n",
              "// to poll for completion of each step.\n",
              "// This uses a Promise to block the python side on completion of each step,\n",
              "// then passes the result of the previous step as the input to the next step.\n",
              "function _uploadFilesContinue(outputId) {\n",
              "  const outputElement = document.getElementById(outputId);\n",
              "  const steps = outputElement.steps;\n",
              "\n",
              "  const next = steps.next(outputElement.lastPromiseValue);\n",
              "  return Promise.resolve(next.value.promise).then((value) => {\n",
              "    // Cache the last promise value to make it available to the next\n",
              "    // step of the generator.\n",
              "    outputElement.lastPromiseValue = value;\n",
              "    return next.value.response;\n",
              "  });\n",
              "}\n",
              "\n",
              "/**\n",
              " * Generator function which is called between each async step of the upload\n",
              " * process.\n",
              " * @param {string} inputId Element ID of the input file picker element.\n",
              " * @param {string} outputId Element ID of the output display.\n",
              " * @return {!Iterable<!Object>} Iterable of next steps.\n",
              " */\n",
              "function* uploadFilesStep(inputId, outputId) {\n",
              "  const inputElement = document.getElementById(inputId);\n",
              "  inputElement.disabled = false;\n",
              "\n",
              "  const outputElement = document.getElementById(outputId);\n",
              "  outputElement.innerHTML = '';\n",
              "\n",
              "  const pickedPromise = new Promise((resolve) => {\n",
              "    inputElement.addEventListener('change', (e) => {\n",
              "      resolve(e.target.files);\n",
              "    });\n",
              "  });\n",
              "\n",
              "  const cancel = document.createElement('button');\n",
              "  inputElement.parentElement.appendChild(cancel);\n",
              "  cancel.textContent = 'Cancel upload';\n",
              "  const cancelPromise = new Promise((resolve) => {\n",
              "    cancel.onclick = () => {\n",
              "      resolve(null);\n",
              "    };\n",
              "  });\n",
              "\n",
              "  // Wait for the user to pick the files.\n",
              "  const files = yield {\n",
              "    promise: Promise.race([pickedPromise, cancelPromise]),\n",
              "    response: {\n",
              "      action: 'starting',\n",
              "    }\n",
              "  };\n",
              "\n",
              "  cancel.remove();\n",
              "\n",
              "  // Disable the input element since further picks are not allowed.\n",
              "  inputElement.disabled = true;\n",
              "\n",
              "  if (!files) {\n",
              "    return {\n",
              "      response: {\n",
              "        action: 'complete',\n",
              "      }\n",
              "    };\n",
              "  }\n",
              "\n",
              "  for (const file of files) {\n",
              "    const li = document.createElement('li');\n",
              "    li.append(span(file.name, {fontWeight: 'bold'}));\n",
              "    li.append(span(\n",
              "        `(${file.type || 'n/a'}) - ${file.size} bytes, ` +\n",
              "        `last modified: ${\n",
              "            file.lastModifiedDate ? file.lastModifiedDate.toLocaleDateString() :\n",
              "                                    'n/a'} - `));\n",
              "    const percent = span('0% done');\n",
              "    li.appendChild(percent);\n",
              "\n",
              "    outputElement.appendChild(li);\n",
              "\n",
              "    const fileDataPromise = new Promise((resolve) => {\n",
              "      const reader = new FileReader();\n",
              "      reader.onload = (e) => {\n",
              "        resolve(e.target.result);\n",
              "      };\n",
              "      reader.readAsArrayBuffer(file);\n",
              "    });\n",
              "    // Wait for the data to be ready.\n",
              "    let fileData = yield {\n",
              "      promise: fileDataPromise,\n",
              "      response: {\n",
              "        action: 'continue',\n",
              "      }\n",
              "    };\n",
              "\n",
              "    // Use a chunked sending to avoid message size limits. See b/62115660.\n",
              "    let position = 0;\n",
              "    do {\n",
              "      const length = Math.min(fileData.byteLength - position, MAX_PAYLOAD_SIZE);\n",
              "      const chunk = new Uint8Array(fileData, position, length);\n",
              "      position += length;\n",
              "\n",
              "      const base64 = btoa(String.fromCharCode.apply(null, chunk));\n",
              "      yield {\n",
              "        response: {\n",
              "          action: 'append',\n",
              "          file: file.name,\n",
              "          data: base64,\n",
              "        },\n",
              "      };\n",
              "\n",
              "      let percentDone = fileData.byteLength === 0 ?\n",
              "          100 :\n",
              "          Math.round((position / fileData.byteLength) * 100);\n",
              "      percent.textContent = `${percentDone}% done`;\n",
              "\n",
              "    } while (position < fileData.byteLength);\n",
              "  }\n",
              "\n",
              "  // All done.\n",
              "  yield {\n",
              "    response: {\n",
              "      action: 'complete',\n",
              "    }\n",
              "  };\n",
              "}\n",
              "\n",
              "scope.google = scope.google || {};\n",
              "scope.google.colab = scope.google.colab || {};\n",
              "scope.google.colab._files = {\n",
              "  _uploadFiles,\n",
              "  _uploadFilesContinue,\n",
              "};\n",
              "})(self);\n",
              "</script> "
            ]
          },
          "metadata": {}
        },
        {
          "output_type": "stream",
          "name": "stdout",
          "text": [
            "Saving KPMG_VI_New_raw_data_update_final.xlsx to KPMG_VI_New_raw_data_update_final.xlsx\n"
          ]
        }
      ],
      "source": [
        "#import required libraries\n",
        "import pandas as pd\n",
        "import numpy as np\n",
        "import matplotlib.pyplot as plt\n",
        "import seaborn as sns\n",
        "\n",
        "#upload data\n",
        "from google.colab import files\n",
        "uploaded = files.upload()"
      ]
    },
    {
      "cell_type": "code",
      "source": [
        "#load data\n",
        "Transactions = pd.read_excel('KPMG_VI_New_raw_data_update_final.xlsx', sheet_name =1, header = 1)\n",
        "NewCustomerList = pd.read_excel('KPMG_VI_New_raw_data_update_final.xlsx', sheet_name =2, header = 1)\n",
        "CustomerDemographic = pd.read_excel('KPMG_VI_New_raw_data_update_final.xlsx', sheet_name =3, header = 1)\n",
        "CustomerAddress = pd.read_excel('KPMG_VI_New_raw_data_update_final.xlsx', sheet_name =4, header = 1)"
      ],
      "metadata": {
        "colab": {
          "base_uri": "https://localhost:8080/"
        },
        "id": "6OHRhixeOfRU",
        "outputId": "bf2327e4-d61c-4a42-a33f-6d5577557e21"
      },
      "execution_count": 3,
      "outputs": [
        {
          "output_type": "stream",
          "name": "stderr",
          "text": [
            "<ipython-input-3-c1b227bbac12>:3: FutureWarning: Inferring datetime64[ns] from data containing strings is deprecated and will be removed in a future version. To retain the old behavior explicitly pass Series(data, dtype=datetime64[ns])\n",
            "  NewCustomerList = pd.read_excel('KPMG_VI_New_raw_data_update_final.xlsx', sheet_name =2, header = 1)\n",
            "<ipython-input-3-c1b227bbac12>:4: FutureWarning: Inferring datetime64[ns] from data containing strings is deprecated and will be removed in a future version. To retain the old behavior explicitly pass Series(data, dtype=datetime64[ns])\n",
            "  CustomerDemographic = pd.read_excel('KPMG_VI_New_raw_data_update_final.xlsx', sheet_name =3, header = 1)\n"
          ]
        }
      ]
    },
    {
      "cell_type": "code",
      "source": [
        "#Get an overview of each data set - Transactions\n",
        "Transactions.head()"
      ],
      "metadata": {
        "colab": {
          "base_uri": "https://localhost:8080/",
          "height": 340
        },
        "id": "_0zslxbiOxDK",
        "outputId": "5ce339eb-f75e-489d-96bb-4c70a34c5795"
      },
      "execution_count": 4,
      "outputs": [
        {
          "output_type": "execute_result",
          "data": {
            "text/plain": [
              "   transaction_id  product_id  customer_id transaction_date  online_order  \\\n",
              "0               1           2         2950       2017-02-25           0.0   \n",
              "1               2           3         3120       2017-05-21           1.0   \n",
              "2               3          37          402       2017-10-16           0.0   \n",
              "3               4          88         3135       2017-08-31           0.0   \n",
              "4               5          78          787       2017-10-01           1.0   \n",
              "\n",
              "  order_status           brand product_line product_class product_size  \\\n",
              "0     Approved           Solex     Standard        medium       medium   \n",
              "1     Approved   Trek Bicycles     Standard        medium        large   \n",
              "2     Approved      OHM Cycles     Standard           low       medium   \n",
              "3     Approved  Norco Bicycles     Standard        medium       medium   \n",
              "4     Approved  Giant Bicycles     Standard        medium        large   \n",
              "\n",
              "   list_price  standard_cost  product_first_sold_date  \n",
              "0       71.49          53.62                  41245.0  \n",
              "1     2091.47         388.92                  41701.0  \n",
              "2     1793.43         248.82                  36361.0  \n",
              "3     1198.46         381.10                  36145.0  \n",
              "4     1765.30         709.48                  42226.0  "
            ],
            "text/html": [
              "\n",
              "  <div id=\"df-44820205-a662-407b-bb28-cd63ecaeabdb\">\n",
              "    <div class=\"colab-df-container\">\n",
              "      <div>\n",
              "<style scoped>\n",
              "    .dataframe tbody tr th:only-of-type {\n",
              "        vertical-align: middle;\n",
              "    }\n",
              "\n",
              "    .dataframe tbody tr th {\n",
              "        vertical-align: top;\n",
              "    }\n",
              "\n",
              "    .dataframe thead th {\n",
              "        text-align: right;\n",
              "    }\n",
              "</style>\n",
              "<table border=\"1\" class=\"dataframe\">\n",
              "  <thead>\n",
              "    <tr style=\"text-align: right;\">\n",
              "      <th></th>\n",
              "      <th>transaction_id</th>\n",
              "      <th>product_id</th>\n",
              "      <th>customer_id</th>\n",
              "      <th>transaction_date</th>\n",
              "      <th>online_order</th>\n",
              "      <th>order_status</th>\n",
              "      <th>brand</th>\n",
              "      <th>product_line</th>\n",
              "      <th>product_class</th>\n",
              "      <th>product_size</th>\n",
              "      <th>list_price</th>\n",
              "      <th>standard_cost</th>\n",
              "      <th>product_first_sold_date</th>\n",
              "    </tr>\n",
              "  </thead>\n",
              "  <tbody>\n",
              "    <tr>\n",
              "      <th>0</th>\n",
              "      <td>1</td>\n",
              "      <td>2</td>\n",
              "      <td>2950</td>\n",
              "      <td>2017-02-25</td>\n",
              "      <td>0.0</td>\n",
              "      <td>Approved</td>\n",
              "      <td>Solex</td>\n",
              "      <td>Standard</td>\n",
              "      <td>medium</td>\n",
              "      <td>medium</td>\n",
              "      <td>71.49</td>\n",
              "      <td>53.62</td>\n",
              "      <td>41245.0</td>\n",
              "    </tr>\n",
              "    <tr>\n",
              "      <th>1</th>\n",
              "      <td>2</td>\n",
              "      <td>3</td>\n",
              "      <td>3120</td>\n",
              "      <td>2017-05-21</td>\n",
              "      <td>1.0</td>\n",
              "      <td>Approved</td>\n",
              "      <td>Trek Bicycles</td>\n",
              "      <td>Standard</td>\n",
              "      <td>medium</td>\n",
              "      <td>large</td>\n",
              "      <td>2091.47</td>\n",
              "      <td>388.92</td>\n",
              "      <td>41701.0</td>\n",
              "    </tr>\n",
              "    <tr>\n",
              "      <th>2</th>\n",
              "      <td>3</td>\n",
              "      <td>37</td>\n",
              "      <td>402</td>\n",
              "      <td>2017-10-16</td>\n",
              "      <td>0.0</td>\n",
              "      <td>Approved</td>\n",
              "      <td>OHM Cycles</td>\n",
              "      <td>Standard</td>\n",
              "      <td>low</td>\n",
              "      <td>medium</td>\n",
              "      <td>1793.43</td>\n",
              "      <td>248.82</td>\n",
              "      <td>36361.0</td>\n",
              "    </tr>\n",
              "    <tr>\n",
              "      <th>3</th>\n",
              "      <td>4</td>\n",
              "      <td>88</td>\n",
              "      <td>3135</td>\n",
              "      <td>2017-08-31</td>\n",
              "      <td>0.0</td>\n",
              "      <td>Approved</td>\n",
              "      <td>Norco Bicycles</td>\n",
              "      <td>Standard</td>\n",
              "      <td>medium</td>\n",
              "      <td>medium</td>\n",
              "      <td>1198.46</td>\n",
              "      <td>381.10</td>\n",
              "      <td>36145.0</td>\n",
              "    </tr>\n",
              "    <tr>\n",
              "      <th>4</th>\n",
              "      <td>5</td>\n",
              "      <td>78</td>\n",
              "      <td>787</td>\n",
              "      <td>2017-10-01</td>\n",
              "      <td>1.0</td>\n",
              "      <td>Approved</td>\n",
              "      <td>Giant Bicycles</td>\n",
              "      <td>Standard</td>\n",
              "      <td>medium</td>\n",
              "      <td>large</td>\n",
              "      <td>1765.30</td>\n",
              "      <td>709.48</td>\n",
              "      <td>42226.0</td>\n",
              "    </tr>\n",
              "  </tbody>\n",
              "</table>\n",
              "</div>\n",
              "      <button class=\"colab-df-convert\" onclick=\"convertToInteractive('df-44820205-a662-407b-bb28-cd63ecaeabdb')\"\n",
              "              title=\"Convert this dataframe to an interactive table.\"\n",
              "              style=\"display:none;\">\n",
              "        \n",
              "  <svg xmlns=\"http://www.w3.org/2000/svg\" height=\"24px\"viewBox=\"0 0 24 24\"\n",
              "       width=\"24px\">\n",
              "    <path d=\"M0 0h24v24H0V0z\" fill=\"none\"/>\n",
              "    <path d=\"M18.56 5.44l.94 2.06.94-2.06 2.06-.94-2.06-.94-.94-2.06-.94 2.06-2.06.94zm-11 1L8.5 8.5l.94-2.06 2.06-.94-2.06-.94L8.5 2.5l-.94 2.06-2.06.94zm10 10l.94 2.06.94-2.06 2.06-.94-2.06-.94-.94-2.06-.94 2.06-2.06.94z\"/><path d=\"M17.41 7.96l-1.37-1.37c-.4-.4-.92-.59-1.43-.59-.52 0-1.04.2-1.43.59L10.3 9.45l-7.72 7.72c-.78.78-.78 2.05 0 2.83L4 21.41c.39.39.9.59 1.41.59.51 0 1.02-.2 1.41-.59l7.78-7.78 2.81-2.81c.8-.78.8-2.07 0-2.86zM5.41 20L4 18.59l7.72-7.72 1.47 1.35L5.41 20z\"/>\n",
              "  </svg>\n",
              "      </button>\n",
              "      \n",
              "  <style>\n",
              "    .colab-df-container {\n",
              "      display:flex;\n",
              "      flex-wrap:wrap;\n",
              "      gap: 12px;\n",
              "    }\n",
              "\n",
              "    .colab-df-convert {\n",
              "      background-color: #E8F0FE;\n",
              "      border: none;\n",
              "      border-radius: 50%;\n",
              "      cursor: pointer;\n",
              "      display: none;\n",
              "      fill: #1967D2;\n",
              "      height: 32px;\n",
              "      padding: 0 0 0 0;\n",
              "      width: 32px;\n",
              "    }\n",
              "\n",
              "    .colab-df-convert:hover {\n",
              "      background-color: #E2EBFA;\n",
              "      box-shadow: 0px 1px 2px rgba(60, 64, 67, 0.3), 0px 1px 3px 1px rgba(60, 64, 67, 0.15);\n",
              "      fill: #174EA6;\n",
              "    }\n",
              "\n",
              "    [theme=dark] .colab-df-convert {\n",
              "      background-color: #3B4455;\n",
              "      fill: #D2E3FC;\n",
              "    }\n",
              "\n",
              "    [theme=dark] .colab-df-convert:hover {\n",
              "      background-color: #434B5C;\n",
              "      box-shadow: 0px 1px 3px 1px rgba(0, 0, 0, 0.15);\n",
              "      filter: drop-shadow(0px 1px 2px rgba(0, 0, 0, 0.3));\n",
              "      fill: #FFFFFF;\n",
              "    }\n",
              "  </style>\n",
              "\n",
              "      <script>\n",
              "        const buttonEl =\n",
              "          document.querySelector('#df-44820205-a662-407b-bb28-cd63ecaeabdb button.colab-df-convert');\n",
              "        buttonEl.style.display =\n",
              "          google.colab.kernel.accessAllowed ? 'block' : 'none';\n",
              "\n",
              "        async function convertToInteractive(key) {\n",
              "          const element = document.querySelector('#df-44820205-a662-407b-bb28-cd63ecaeabdb');\n",
              "          const dataTable =\n",
              "            await google.colab.kernel.invokeFunction('convertToInteractive',\n",
              "                                                     [key], {});\n",
              "          if (!dataTable) return;\n",
              "\n",
              "          const docLinkHtml = 'Like what you see? Visit the ' +\n",
              "            '<a target=\"_blank\" href=https://colab.research.google.com/notebooks/data_table.ipynb>data table notebook</a>'\n",
              "            + ' to learn more about interactive tables.';\n",
              "          element.innerHTML = '';\n",
              "          dataTable['output_type'] = 'display_data';\n",
              "          await google.colab.output.renderOutput(dataTable, element);\n",
              "          const docLink = document.createElement('div');\n",
              "          docLink.innerHTML = docLinkHtml;\n",
              "          element.appendChild(docLink);\n",
              "        }\n",
              "      </script>\n",
              "    </div>\n",
              "  </div>\n",
              "  "
            ]
          },
          "metadata": {},
          "execution_count": 4
        }
      ]
    },
    {
      "cell_type": "code",
      "source": [
        "#get data type and check missing values for Transactions dataset\n",
        "Transactions.info()"
      ],
      "metadata": {
        "colab": {
          "base_uri": "https://localhost:8080/"
        },
        "id": "9dFR4AW9PFeN",
        "outputId": "fe2999d3-42b5-4cb1-ba68-6cb08484f507"
      },
      "execution_count": 5,
      "outputs": [
        {
          "output_type": "stream",
          "name": "stdout",
          "text": [
            "<class 'pandas.core.frame.DataFrame'>\n",
            "RangeIndex: 20000 entries, 0 to 19999\n",
            "Data columns (total 13 columns):\n",
            " #   Column                   Non-Null Count  Dtype         \n",
            "---  ------                   --------------  -----         \n",
            " 0   transaction_id           20000 non-null  int64         \n",
            " 1   product_id               20000 non-null  int64         \n",
            " 2   customer_id              20000 non-null  int64         \n",
            " 3   transaction_date         20000 non-null  datetime64[ns]\n",
            " 4   online_order             19640 non-null  float64       \n",
            " 5   order_status             20000 non-null  object        \n",
            " 6   brand                    19803 non-null  object        \n",
            " 7   product_line             19803 non-null  object        \n",
            " 8   product_class            19803 non-null  object        \n",
            " 9   product_size             19803 non-null  object        \n",
            " 10  list_price               20000 non-null  float64       \n",
            " 11  standard_cost            19803 non-null  float64       \n",
            " 12  product_first_sold_date  19803 non-null  float64       \n",
            "dtypes: datetime64[ns](1), float64(4), int64(3), object(5)\n",
            "memory usage: 2.0+ MB\n"
          ]
        }
      ]
    },
    {
      "cell_type": "code",
      "source": [
        "#change data type and check the overview again\n",
        "Transactions['transaction_id'] = Transactions['transaction_id'].astype(str)\n",
        "Transactions['product_id'] = Transactions['product_id'].astype(str)\n",
        "Transactions['customer_id'] = Transactions['customer_id'].astype(str)\n",
        "#Transactions.loc[Transactions['online_order']== 1.0, 'online_order'] = True\n",
        "#Transactions.loc[Transactions['online_order']== 0.0, 'online_order'] = False\n",
        "#pd.DataFrame({'col': [True]}).bool()\n",
        "Transactions1 = Transactions \n",
        "Transactions1 = Transactions1.dropna(subset=['online_order'])\n",
        "Transactions1['online_order'] = Transactions1['online_order'].replace([1.0, 0.0], [True, False])\n",
        "\n",
        "#Below query works well when there is not missing value in the column. Oherwise, the missing value would become True in default\n",
        "#Transactions['online_order'] = Transactions['online_order'].astype('bool')\n",
        "Transactions1.info()"
      ],
      "metadata": {
        "colab": {
          "base_uri": "https://localhost:8080/"
        },
        "id": "MrBMKEAlQE0N",
        "outputId": "1c391c5d-9c08-4b1a-e5a8-f1ea40f010f9"
      },
      "execution_count": 6,
      "outputs": [
        {
          "output_type": "stream",
          "name": "stdout",
          "text": [
            "<class 'pandas.core.frame.DataFrame'>\n",
            "Int64Index: 19640 entries, 0 to 19999\n",
            "Data columns (total 13 columns):\n",
            " #   Column                   Non-Null Count  Dtype         \n",
            "---  ------                   --------------  -----         \n",
            " 0   transaction_id           19640 non-null  object        \n",
            " 1   product_id               19640 non-null  object        \n",
            " 2   customer_id              19640 non-null  object        \n",
            " 3   transaction_date         19640 non-null  datetime64[ns]\n",
            " 4   online_order             19640 non-null  bool          \n",
            " 5   order_status             19640 non-null  object        \n",
            " 6   brand                    19445 non-null  object        \n",
            " 7   product_line             19445 non-null  object        \n",
            " 8   product_class            19445 non-null  object        \n",
            " 9   product_size             19445 non-null  object        \n",
            " 10  list_price               19640 non-null  float64       \n",
            " 11  standard_cost            19445 non-null  float64       \n",
            " 12  product_first_sold_date  19445 non-null  float64       \n",
            "dtypes: bool(1), datetime64[ns](1), float64(3), object(8)\n",
            "memory usage: 2.0+ MB\n"
          ]
        },
        {
          "output_type": "stream",
          "name": "stderr",
          "text": [
            "<ipython-input-6-02e09b63753d>:10: SettingWithCopyWarning: \n",
            "A value is trying to be set on a copy of a slice from a DataFrame.\n",
            "Try using .loc[row_indexer,col_indexer] = value instead\n",
            "\n",
            "See the caveats in the documentation: https://pandas.pydata.org/pandas-docs/stable/user_guide/indexing.html#returning-a-view-versus-a-copy\n",
            "  Transactions1['online_order'] = Transactions1['online_order'].replace([1.0, 0.0], [True, False])\n"
          ]
        }
      ]
    },
    {
      "cell_type": "code",
      "source": [
        "# a example of extracting rows that contain missing values in any column\n",
        "df = {'A':[1,2,3,4,5], 'B':[True, False,np.nan, np.nan, np.nan]}\n",
        "df = pd.DataFrame(df)\n",
        "print(df)\n",
        "df[df.isna().any(axis=1)]"
      ],
      "metadata": {
        "colab": {
          "base_uri": "https://localhost:8080/",
          "height": 251
        },
        "id": "EIv777fkdOpN",
        "outputId": "3348acb0-a8f0-468e-acb1-781095b5795f"
      },
      "execution_count": 7,
      "outputs": [
        {
          "output_type": "stream",
          "name": "stdout",
          "text": [
            "   A      B\n",
            "0  1   True\n",
            "1  2  False\n",
            "2  3    NaN\n",
            "3  4    NaN\n",
            "4  5    NaN\n"
          ]
        },
        {
          "output_type": "execute_result",
          "data": {
            "text/plain": [
              "   A    B\n",
              "2  3  NaN\n",
              "3  4  NaN\n",
              "4  5  NaN"
            ],
            "text/html": [
              "\n",
              "  <div id=\"df-e1673850-9d31-4452-98c0-53e6973d220d\">\n",
              "    <div class=\"colab-df-container\">\n",
              "      <div>\n",
              "<style scoped>\n",
              "    .dataframe tbody tr th:only-of-type {\n",
              "        vertical-align: middle;\n",
              "    }\n",
              "\n",
              "    .dataframe tbody tr th {\n",
              "        vertical-align: top;\n",
              "    }\n",
              "\n",
              "    .dataframe thead th {\n",
              "        text-align: right;\n",
              "    }\n",
              "</style>\n",
              "<table border=\"1\" class=\"dataframe\">\n",
              "  <thead>\n",
              "    <tr style=\"text-align: right;\">\n",
              "      <th></th>\n",
              "      <th>A</th>\n",
              "      <th>B</th>\n",
              "    </tr>\n",
              "  </thead>\n",
              "  <tbody>\n",
              "    <tr>\n",
              "      <th>2</th>\n",
              "      <td>3</td>\n",
              "      <td>NaN</td>\n",
              "    </tr>\n",
              "    <tr>\n",
              "      <th>3</th>\n",
              "      <td>4</td>\n",
              "      <td>NaN</td>\n",
              "    </tr>\n",
              "    <tr>\n",
              "      <th>4</th>\n",
              "      <td>5</td>\n",
              "      <td>NaN</td>\n",
              "    </tr>\n",
              "  </tbody>\n",
              "</table>\n",
              "</div>\n",
              "      <button class=\"colab-df-convert\" onclick=\"convertToInteractive('df-e1673850-9d31-4452-98c0-53e6973d220d')\"\n",
              "              title=\"Convert this dataframe to an interactive table.\"\n",
              "              style=\"display:none;\">\n",
              "        \n",
              "  <svg xmlns=\"http://www.w3.org/2000/svg\" height=\"24px\"viewBox=\"0 0 24 24\"\n",
              "       width=\"24px\">\n",
              "    <path d=\"M0 0h24v24H0V0z\" fill=\"none\"/>\n",
              "    <path d=\"M18.56 5.44l.94 2.06.94-2.06 2.06-.94-2.06-.94-.94-2.06-.94 2.06-2.06.94zm-11 1L8.5 8.5l.94-2.06 2.06-.94-2.06-.94L8.5 2.5l-.94 2.06-2.06.94zm10 10l.94 2.06.94-2.06 2.06-.94-2.06-.94-.94-2.06-.94 2.06-2.06.94z\"/><path d=\"M17.41 7.96l-1.37-1.37c-.4-.4-.92-.59-1.43-.59-.52 0-1.04.2-1.43.59L10.3 9.45l-7.72 7.72c-.78.78-.78 2.05 0 2.83L4 21.41c.39.39.9.59 1.41.59.51 0 1.02-.2 1.41-.59l7.78-7.78 2.81-2.81c.8-.78.8-2.07 0-2.86zM5.41 20L4 18.59l7.72-7.72 1.47 1.35L5.41 20z\"/>\n",
              "  </svg>\n",
              "      </button>\n",
              "      \n",
              "  <style>\n",
              "    .colab-df-container {\n",
              "      display:flex;\n",
              "      flex-wrap:wrap;\n",
              "      gap: 12px;\n",
              "    }\n",
              "\n",
              "    .colab-df-convert {\n",
              "      background-color: #E8F0FE;\n",
              "      border: none;\n",
              "      border-radius: 50%;\n",
              "      cursor: pointer;\n",
              "      display: none;\n",
              "      fill: #1967D2;\n",
              "      height: 32px;\n",
              "      padding: 0 0 0 0;\n",
              "      width: 32px;\n",
              "    }\n",
              "\n",
              "    .colab-df-convert:hover {\n",
              "      background-color: #E2EBFA;\n",
              "      box-shadow: 0px 1px 2px rgba(60, 64, 67, 0.3), 0px 1px 3px 1px rgba(60, 64, 67, 0.15);\n",
              "      fill: #174EA6;\n",
              "    }\n",
              "\n",
              "    [theme=dark] .colab-df-convert {\n",
              "      background-color: #3B4455;\n",
              "      fill: #D2E3FC;\n",
              "    }\n",
              "\n",
              "    [theme=dark] .colab-df-convert:hover {\n",
              "      background-color: #434B5C;\n",
              "      box-shadow: 0px 1px 3px 1px rgba(0, 0, 0, 0.15);\n",
              "      filter: drop-shadow(0px 1px 2px rgba(0, 0, 0, 0.3));\n",
              "      fill: #FFFFFF;\n",
              "    }\n",
              "  </style>\n",
              "\n",
              "      <script>\n",
              "        const buttonEl =\n",
              "          document.querySelector('#df-e1673850-9d31-4452-98c0-53e6973d220d button.colab-df-convert');\n",
              "        buttonEl.style.display =\n",
              "          google.colab.kernel.accessAllowed ? 'block' : 'none';\n",
              "\n",
              "        async function convertToInteractive(key) {\n",
              "          const element = document.querySelector('#df-e1673850-9d31-4452-98c0-53e6973d220d');\n",
              "          const dataTable =\n",
              "            await google.colab.kernel.invokeFunction('convertToInteractive',\n",
              "                                                     [key], {});\n",
              "          if (!dataTable) return;\n",
              "\n",
              "          const docLinkHtml = 'Like what you see? Visit the ' +\n",
              "            '<a target=\"_blank\" href=https://colab.research.google.com/notebooks/data_table.ipynb>data table notebook</a>'\n",
              "            + ' to learn more about interactive tables.';\n",
              "          element.innerHTML = '';\n",
              "          dataTable['output_type'] = 'display_data';\n",
              "          await google.colab.output.renderOutput(dataTable, element);\n",
              "          const docLink = document.createElement('div');\n",
              "          docLink.innerHTML = docLinkHtml;\n",
              "          element.appendChild(docLink);\n",
              "        }\n",
              "      </script>\n",
              "    </div>\n",
              "  </div>\n",
              "  "
            ]
          },
          "metadata": {},
          "execution_count": 7
        }
      ]
    },
    {
      "cell_type": "code",
      "source": [
        "miss_df = Transactions1[Transactions1.isna().any(axis=1)]"
      ],
      "metadata": {
        "id": "zs_A8aXcbzTj"
      },
      "execution_count": 8,
      "outputs": []
    },
    {
      "cell_type": "code",
      "source": [
        "print('product_id', len(miss_df['product_id'].unique()))\n",
        "print('customer_id',len(miss_df['customer_id'].unique()))\n",
        "print('transaction_date',len(miss_df['transaction_date'].unique()))\n",
        "print('online_order',len(miss_df['online_order'].unique()))\n",
        "print('order_status',len(miss_df['order_status'].unique()))"
      ],
      "metadata": {
        "colab": {
          "base_uri": "https://localhost:8080/"
        },
        "id": "nSxGjqOxhuu2",
        "outputId": "55f95f03-b883-4a2a-f562-1fd355c80fca"
      },
      "execution_count": 9,
      "outputs": [
        {
          "output_type": "stream",
          "name": "stdout",
          "text": [
            "product_id 1\n",
            "customer_id 190\n",
            "transaction_date 152\n",
            "online_order 2\n",
            "order_status 2\n"
          ]
        }
      ]
    },
    {
      "cell_type": "code",
      "source": [
        "miss_df['product_id'].unique()"
      ],
      "metadata": {
        "colab": {
          "base_uri": "https://localhost:8080/"
        },
        "id": "HzWS2ud-lQ82",
        "outputId": "e2ab4ce3-b3b5-43e6-a51b-6ccf84e1cb99"
      },
      "execution_count": 10,
      "outputs": [
        {
          "output_type": "execute_result",
          "data": {
            "text/plain": [
              "array(['0'], dtype=object)"
            ]
          },
          "metadata": {},
          "execution_count": 10
        }
      ]
    },
    {
      "cell_type": "code",
      "source": [
        "#get the data without any missing values\n",
        "no_miss_df = Transactions1.dropna(how='any')\n",
        "#check whether '0' appear inside\n",
        "is_0_in_product_id = '0' in no_miss_df['product_id'].values\n",
        "print(is_0_in_product_id)\n",
        "#check how many product_id is 0\n",
        "print((no_miss_df['product_id']=='0').sum())\n",
        "print(len(miss_df))\n",
        "# make Transactions1 to be the smae as no_miss_df\n",
        "Transactions1 = no_miss_df"
      ],
      "metadata": {
        "colab": {
          "base_uri": "https://localhost:8080/"
        },
        "id": "Qos0tBbpl-ab",
        "outputId": "055150d2-5364-4772-db57-9bebd346536a"
      },
      "execution_count": 11,
      "outputs": [
        {
          "output_type": "stream",
          "name": "stdout",
          "text": [
            "True\n",
            "1157\n",
            "195\n"
          ]
        }
      ]
    },
    {
      "cell_type": "markdown",
      "source": [
        "Based on the Transactions dataset overview, transaction_id is not useful for further analysis. The customer_id is a primary key  to further join other data sets, so I keep it in the dataset. Also, brand, product_line, product_class, product_size, standard_cost, and product_first_date lost the same amount of data. Diving into deeper, they are all belong to product_id = 0. I decide to remove those rows containing missing values because of two reasons. First, the proportion of the missing values is less than 1%. Second, for product_id 0, the missing data is around 14% (moderate size). If I fill in data with mode or mean of data belonging to product_id 0, it might have a noticable impact on analysis, affect the model result, and the make incorrect recommendations."
      ],
      "metadata": {
        "id": "BNQDu_5GZEcr"
      }
    },
    {
      "cell_type": "code",
      "source": [
        "# create the profit column by subtracting the list price with standard cost\n",
        "Transactions1['profit'] = Transactions1['list_price'] - Transactions1['standard_cost']"
      ],
      "metadata": {
        "id": "B_GS8IHFxdIP"
      },
      "execution_count": 68,
      "outputs": []
    },
    {
      "cell_type": "code",
      "source": [
        "CustomerDemographic.info()"
      ],
      "metadata": {
        "colab": {
          "base_uri": "https://localhost:8080/"
        },
        "id": "_kjDKzzSrleP",
        "outputId": "d12be77f-e4a4-4ac2-fea2-7658cbce5f31"
      },
      "execution_count": 12,
      "outputs": [
        {
          "output_type": "stream",
          "name": "stdout",
          "text": [
            "<class 'pandas.core.frame.DataFrame'>\n",
            "RangeIndex: 4000 entries, 0 to 3999\n",
            "Data columns (total 13 columns):\n",
            " #   Column                               Non-Null Count  Dtype         \n",
            "---  ------                               --------------  -----         \n",
            " 0   customer_id                          4000 non-null   int64         \n",
            " 1   first_name                           4000 non-null   object        \n",
            " 2   last_name                            3875 non-null   object        \n",
            " 3   gender                               4000 non-null   object        \n",
            " 4   past_3_years_bike_related_purchases  4000 non-null   int64         \n",
            " 5   DOB                                  3913 non-null   datetime64[ns]\n",
            " 6   job_title                            3494 non-null   object        \n",
            " 7   job_industry_category                3344 non-null   object        \n",
            " 8   wealth_segment                       4000 non-null   object        \n",
            " 9   deceased_indicator                   4000 non-null   object        \n",
            " 10  default                              3698 non-null   object        \n",
            " 11  owns_car                             4000 non-null   object        \n",
            " 12  tenure                               3913 non-null   float64       \n",
            "dtypes: datetime64[ns](1), float64(1), int64(2), object(9)\n",
            "memory usage: 406.4+ KB\n"
          ]
        }
      ]
    },
    {
      "cell_type": "code",
      "source": [
        "CustomerDemographic.head()"
      ],
      "metadata": {
        "colab": {
          "base_uri": "https://localhost:8080/",
          "height": 374
        },
        "id": "DYJ_L0uCxz1T",
        "outputId": "c0ede6dd-87ca-4bb8-a86b-82150ad90902"
      },
      "execution_count": 13,
      "outputs": [
        {
          "output_type": "execute_result",
          "data": {
            "text/plain": [
              "   customer_id      first_name  last_name  gender  \\\n",
              "0            1         Laraine  Medendorp       F   \n",
              "1            2             Eli    Bockman    Male   \n",
              "2            3           Arlin     Dearle    Male   \n",
              "3            4          Talbot        NaN    Male   \n",
              "4            5  Sheila-kathryn     Calton  Female   \n",
              "\n",
              "   past_3_years_bike_related_purchases        DOB               job_title  \\\n",
              "0                                   93 1953-10-12     Executive Secretary   \n",
              "1                                   81 1980-12-16  Administrative Officer   \n",
              "2                                   61 1954-01-20      Recruiting Manager   \n",
              "3                                   33 1961-10-03                     NaN   \n",
              "4                                   56 1977-05-13           Senior Editor   \n",
              "\n",
              "  job_industry_category     wealth_segment deceased_indicator  \\\n",
              "0                Health      Mass Customer                  N   \n",
              "1    Financial Services      Mass Customer                  N   \n",
              "2              Property      Mass Customer                  N   \n",
              "3                    IT      Mass Customer                  N   \n",
              "4                   NaN  Affluent Customer                  N   \n",
              "\n",
              "                                             default owns_car  tenure  \n",
              "0                                                 \"'      Yes    11.0  \n",
              "1                       <script>alert('hi')</script>      Yes    16.0  \n",
              "2                                2018-02-01 00:00:00      Yes    15.0  \n",
              "3  () { _; } >_[$($())] { touch /tmp/blns.shellsh...       No     7.0  \n",
              "4                                                NIL      Yes     8.0  "
            ],
            "text/html": [
              "\n",
              "  <div id=\"df-1bb2d345-732e-4de6-9a3e-63cf348d5214\">\n",
              "    <div class=\"colab-df-container\">\n",
              "      <div>\n",
              "<style scoped>\n",
              "    .dataframe tbody tr th:only-of-type {\n",
              "        vertical-align: middle;\n",
              "    }\n",
              "\n",
              "    .dataframe tbody tr th {\n",
              "        vertical-align: top;\n",
              "    }\n",
              "\n",
              "    .dataframe thead th {\n",
              "        text-align: right;\n",
              "    }\n",
              "</style>\n",
              "<table border=\"1\" class=\"dataframe\">\n",
              "  <thead>\n",
              "    <tr style=\"text-align: right;\">\n",
              "      <th></th>\n",
              "      <th>customer_id</th>\n",
              "      <th>first_name</th>\n",
              "      <th>last_name</th>\n",
              "      <th>gender</th>\n",
              "      <th>past_3_years_bike_related_purchases</th>\n",
              "      <th>DOB</th>\n",
              "      <th>job_title</th>\n",
              "      <th>job_industry_category</th>\n",
              "      <th>wealth_segment</th>\n",
              "      <th>deceased_indicator</th>\n",
              "      <th>default</th>\n",
              "      <th>owns_car</th>\n",
              "      <th>tenure</th>\n",
              "    </tr>\n",
              "  </thead>\n",
              "  <tbody>\n",
              "    <tr>\n",
              "      <th>0</th>\n",
              "      <td>1</td>\n",
              "      <td>Laraine</td>\n",
              "      <td>Medendorp</td>\n",
              "      <td>F</td>\n",
              "      <td>93</td>\n",
              "      <td>1953-10-12</td>\n",
              "      <td>Executive Secretary</td>\n",
              "      <td>Health</td>\n",
              "      <td>Mass Customer</td>\n",
              "      <td>N</td>\n",
              "      <td>\"'</td>\n",
              "      <td>Yes</td>\n",
              "      <td>11.0</td>\n",
              "    </tr>\n",
              "    <tr>\n",
              "      <th>1</th>\n",
              "      <td>2</td>\n",
              "      <td>Eli</td>\n",
              "      <td>Bockman</td>\n",
              "      <td>Male</td>\n",
              "      <td>81</td>\n",
              "      <td>1980-12-16</td>\n",
              "      <td>Administrative Officer</td>\n",
              "      <td>Financial Services</td>\n",
              "      <td>Mass Customer</td>\n",
              "      <td>N</td>\n",
              "      <td>&lt;script&gt;alert('hi')&lt;/script&gt;</td>\n",
              "      <td>Yes</td>\n",
              "      <td>16.0</td>\n",
              "    </tr>\n",
              "    <tr>\n",
              "      <th>2</th>\n",
              "      <td>3</td>\n",
              "      <td>Arlin</td>\n",
              "      <td>Dearle</td>\n",
              "      <td>Male</td>\n",
              "      <td>61</td>\n",
              "      <td>1954-01-20</td>\n",
              "      <td>Recruiting Manager</td>\n",
              "      <td>Property</td>\n",
              "      <td>Mass Customer</td>\n",
              "      <td>N</td>\n",
              "      <td>2018-02-01 00:00:00</td>\n",
              "      <td>Yes</td>\n",
              "      <td>15.0</td>\n",
              "    </tr>\n",
              "    <tr>\n",
              "      <th>3</th>\n",
              "      <td>4</td>\n",
              "      <td>Talbot</td>\n",
              "      <td>NaN</td>\n",
              "      <td>Male</td>\n",
              "      <td>33</td>\n",
              "      <td>1961-10-03</td>\n",
              "      <td>NaN</td>\n",
              "      <td>IT</td>\n",
              "      <td>Mass Customer</td>\n",
              "      <td>N</td>\n",
              "      <td>() { _; } &gt;_[$($())] { touch /tmp/blns.shellsh...</td>\n",
              "      <td>No</td>\n",
              "      <td>7.0</td>\n",
              "    </tr>\n",
              "    <tr>\n",
              "      <th>4</th>\n",
              "      <td>5</td>\n",
              "      <td>Sheila-kathryn</td>\n",
              "      <td>Calton</td>\n",
              "      <td>Female</td>\n",
              "      <td>56</td>\n",
              "      <td>1977-05-13</td>\n",
              "      <td>Senior Editor</td>\n",
              "      <td>NaN</td>\n",
              "      <td>Affluent Customer</td>\n",
              "      <td>N</td>\n",
              "      <td>NIL</td>\n",
              "      <td>Yes</td>\n",
              "      <td>8.0</td>\n",
              "    </tr>\n",
              "  </tbody>\n",
              "</table>\n",
              "</div>\n",
              "      <button class=\"colab-df-convert\" onclick=\"convertToInteractive('df-1bb2d345-732e-4de6-9a3e-63cf348d5214')\"\n",
              "              title=\"Convert this dataframe to an interactive table.\"\n",
              "              style=\"display:none;\">\n",
              "        \n",
              "  <svg xmlns=\"http://www.w3.org/2000/svg\" height=\"24px\"viewBox=\"0 0 24 24\"\n",
              "       width=\"24px\">\n",
              "    <path d=\"M0 0h24v24H0V0z\" fill=\"none\"/>\n",
              "    <path d=\"M18.56 5.44l.94 2.06.94-2.06 2.06-.94-2.06-.94-.94-2.06-.94 2.06-2.06.94zm-11 1L8.5 8.5l.94-2.06 2.06-.94-2.06-.94L8.5 2.5l-.94 2.06-2.06.94zm10 10l.94 2.06.94-2.06 2.06-.94-2.06-.94-.94-2.06-.94 2.06-2.06.94z\"/><path d=\"M17.41 7.96l-1.37-1.37c-.4-.4-.92-.59-1.43-.59-.52 0-1.04.2-1.43.59L10.3 9.45l-7.72 7.72c-.78.78-.78 2.05 0 2.83L4 21.41c.39.39.9.59 1.41.59.51 0 1.02-.2 1.41-.59l7.78-7.78 2.81-2.81c.8-.78.8-2.07 0-2.86zM5.41 20L4 18.59l7.72-7.72 1.47 1.35L5.41 20z\"/>\n",
              "  </svg>\n",
              "      </button>\n",
              "      \n",
              "  <style>\n",
              "    .colab-df-container {\n",
              "      display:flex;\n",
              "      flex-wrap:wrap;\n",
              "      gap: 12px;\n",
              "    }\n",
              "\n",
              "    .colab-df-convert {\n",
              "      background-color: #E8F0FE;\n",
              "      border: none;\n",
              "      border-radius: 50%;\n",
              "      cursor: pointer;\n",
              "      display: none;\n",
              "      fill: #1967D2;\n",
              "      height: 32px;\n",
              "      padding: 0 0 0 0;\n",
              "      width: 32px;\n",
              "    }\n",
              "\n",
              "    .colab-df-convert:hover {\n",
              "      background-color: #E2EBFA;\n",
              "      box-shadow: 0px 1px 2px rgba(60, 64, 67, 0.3), 0px 1px 3px 1px rgba(60, 64, 67, 0.15);\n",
              "      fill: #174EA6;\n",
              "    }\n",
              "\n",
              "    [theme=dark] .colab-df-convert {\n",
              "      background-color: #3B4455;\n",
              "      fill: #D2E3FC;\n",
              "    }\n",
              "\n",
              "    [theme=dark] .colab-df-convert:hover {\n",
              "      background-color: #434B5C;\n",
              "      box-shadow: 0px 1px 3px 1px rgba(0, 0, 0, 0.15);\n",
              "      filter: drop-shadow(0px 1px 2px rgba(0, 0, 0, 0.3));\n",
              "      fill: #FFFFFF;\n",
              "    }\n",
              "  </style>\n",
              "\n",
              "      <script>\n",
              "        const buttonEl =\n",
              "          document.querySelector('#df-1bb2d345-732e-4de6-9a3e-63cf348d5214 button.colab-df-convert');\n",
              "        buttonEl.style.display =\n",
              "          google.colab.kernel.accessAllowed ? 'block' : 'none';\n",
              "\n",
              "        async function convertToInteractive(key) {\n",
              "          const element = document.querySelector('#df-1bb2d345-732e-4de6-9a3e-63cf348d5214');\n",
              "          const dataTable =\n",
              "            await google.colab.kernel.invokeFunction('convertToInteractive',\n",
              "                                                     [key], {});\n",
              "          if (!dataTable) return;\n",
              "\n",
              "          const docLinkHtml = 'Like what you see? Visit the ' +\n",
              "            '<a target=\"_blank\" href=https://colab.research.google.com/notebooks/data_table.ipynb>data table notebook</a>'\n",
              "            + ' to learn more about interactive tables.';\n",
              "          element.innerHTML = '';\n",
              "          dataTable['output_type'] = 'display_data';\n",
              "          await google.colab.output.renderOutput(dataTable, element);\n",
              "          const docLink = document.createElement('div');\n",
              "          docLink.innerHTML = docLinkHtml;\n",
              "          element.appendChild(docLink);\n",
              "        }\n",
              "      </script>\n",
              "    </div>\n",
              "  </div>\n",
              "  "
            ]
          },
          "metadata": {},
          "execution_count": 13
        }
      ]
    },
    {
      "cell_type": "code",
      "source": [
        "print(CustomerDemographic['deceased_indicator'].unique())\n",
        "print(CustomerDemographic['owns_car'].unique())"
      ],
      "metadata": {
        "colab": {
          "base_uri": "https://localhost:8080/"
        },
        "id": "JqcUWhZ9C0P_",
        "outputId": "535f939b-7fdb-477b-f251-5911f3887d43"
      },
      "execution_count": 14,
      "outputs": [
        {
          "output_type": "stream",
          "name": "stdout",
          "text": [
            "['N' 'Y']\n",
            "['Yes' 'No']\n"
          ]
        }
      ]
    },
    {
      "cell_type": "code",
      "source": [
        "# check duplication\n",
        "CustomerDemographic.duplicated('customer_id').sum()"
      ],
      "metadata": {
        "colab": {
          "base_uri": "https://localhost:8080/"
        },
        "id": "vFwg_n6ytSr1",
        "outputId": "7a0256e6-ae74-492a-c3e9-3af7349db609"
      },
      "execution_count": 235,
      "outputs": [
        {
          "output_type": "execute_result",
          "data": {
            "text/plain": [
              "0"
            ]
          },
          "metadata": {},
          "execution_count": 235
        }
      ]
    },
    {
      "cell_type": "code",
      "source": [
        "#change the data type \n",
        "CustomerDemographic1 = CustomerDemographic\n",
        "CustomerDemographic1['customer_id'] = CustomerDemographic1['customer_id'].astype(str)\n",
        "CustomerDemographic1['deceased_indicator'] = CustomerDemographic1['deceased_indicator'].replace(['N', 'Y'], [False, True])\n",
        "CustomerDemographic1['owns_car'] = CustomerDemographic1['owns_car'].replace(['Yes', 'No'], [True, False])\n",
        "CustomerDemographic1.info()"
      ],
      "metadata": {
        "colab": {
          "base_uri": "https://localhost:8080/"
        },
        "id": "WZ-LF6x2xjWk",
        "outputId": "793a6402-854e-46b1-b4da-19706f1ffe84"
      },
      "execution_count": 15,
      "outputs": [
        {
          "output_type": "stream",
          "name": "stdout",
          "text": [
            "<class 'pandas.core.frame.DataFrame'>\n",
            "RangeIndex: 4000 entries, 0 to 3999\n",
            "Data columns (total 13 columns):\n",
            " #   Column                               Non-Null Count  Dtype         \n",
            "---  ------                               --------------  -----         \n",
            " 0   customer_id                          4000 non-null   object        \n",
            " 1   first_name                           4000 non-null   object        \n",
            " 2   last_name                            3875 non-null   object        \n",
            " 3   gender                               4000 non-null   object        \n",
            " 4   past_3_years_bike_related_purchases  4000 non-null   int64         \n",
            " 5   DOB                                  3913 non-null   datetime64[ns]\n",
            " 6   job_title                            3494 non-null   object        \n",
            " 7   job_industry_category                3344 non-null   object        \n",
            " 8   wealth_segment                       4000 non-null   object        \n",
            " 9   deceased_indicator                   4000 non-null   bool          \n",
            " 10  default                              3698 non-null   object        \n",
            " 11  owns_car                             4000 non-null   bool          \n",
            " 12  tenure                               3913 non-null   float64       \n",
            "dtypes: bool(2), datetime64[ns](1), float64(1), int64(1), object(8)\n",
            "memory usage: 351.7+ KB\n"
          ]
        }
      ]
    },
    {
      "cell_type": "markdown",
      "source": [
        "Based on the overview of the dataset, we can find that there are missing values in last_name, DOB, job_title, job_industry_category, default, and tenure. the last name is not a completed data, but it won't affect the analysis since we have the customer_id to tell who the customer is and it's not a necessary feature for data analysis. From DOB data, we can gain the age of the customer. For job_title and job_industry_category data, I would like to dove deeper to observe the reason. The default data doesn't contain any meaningful information, so I would like to remove the feature. Tenure could be a feature for data analysis, and the number of misssing values is 87 out of 4,000. I would observe the data distribution and decide how to handle the missing values."
      ],
      "metadata": {
        "id": "UKiuwaumDiKr"
      }
    },
    {
      "cell_type": "code",
      "source": [
        "# observe the value in gender variable\n",
        "print(CustomerDemographic1['gender'].unique())"
      ],
      "metadata": {
        "colab": {
          "base_uri": "https://localhost:8080/"
        },
        "id": "2iNWI9PVKipG",
        "outputId": "3ef9b88a-4238-482c-ebf7-458142b9343e"
      },
      "execution_count": 132,
      "outputs": [
        {
          "output_type": "stream",
          "name": "stdout",
          "text": [
            "['F' 'Male' 'Female' 'U' 'Femal' 'M']\n"
          ]
        }
      ]
    },
    {
      "cell_type": "code",
      "source": [
        "# change the value in the gender column to make it in an uniform format\n",
        "CustomerDemographic1['gender'].replace(['Male', 'Female', 'Femal'], ['M', 'F', 'F'], inplace=True)"
      ],
      "metadata": {
        "id": "sdMP3q3pKuS5"
      },
      "execution_count": 133,
      "outputs": []
    },
    {
      "cell_type": "code",
      "source": [
        "#use the datetime package and check the datetime now\n",
        "from datetime import datetime\n",
        "now = datetime.now()\n",
        "print(now)"
      ],
      "metadata": {
        "colab": {
          "base_uri": "https://localhost:8080/"
        },
        "id": "LMe58mqKF5aL",
        "outputId": "1190a455-fbcc-419c-e2f7-65a331e138ac"
      },
      "execution_count": 16,
      "outputs": [
        {
          "output_type": "stream",
          "name": "stdout",
          "text": [
            "2023-06-01 10:46:09.006718\n"
          ]
        }
      ]
    },
    {
      "cell_type": "code",
      "source": [
        "#calculate the age by DOB\n",
        "CustomerDemographic1['Age'] = (now - CustomerDemographic1['DOB']).astype('<m8[Y]')\n",
        "#check the dataset\n",
        "CustomerDemographic1.head()"
      ],
      "metadata": {
        "colab": {
          "base_uri": "https://localhost:8080/",
          "height": 374
        },
        "id": "a-BGgbEwKH2b",
        "outputId": "cb6ece93-0378-4ce1-b77c-e07bfe6c0e77"
      },
      "execution_count": 17,
      "outputs": [
        {
          "output_type": "execute_result",
          "data": {
            "text/plain": [
              "  customer_id      first_name  last_name  gender  \\\n",
              "0           1         Laraine  Medendorp       F   \n",
              "1           2             Eli    Bockman    Male   \n",
              "2           3           Arlin     Dearle    Male   \n",
              "3           4          Talbot        NaN    Male   \n",
              "4           5  Sheila-kathryn     Calton  Female   \n",
              "\n",
              "   past_3_years_bike_related_purchases        DOB               job_title  \\\n",
              "0                                   93 1953-10-12     Executive Secretary   \n",
              "1                                   81 1980-12-16  Administrative Officer   \n",
              "2                                   61 1954-01-20      Recruiting Manager   \n",
              "3                                   33 1961-10-03                     NaN   \n",
              "4                                   56 1977-05-13           Senior Editor   \n",
              "\n",
              "  job_industry_category     wealth_segment  deceased_indicator  \\\n",
              "0                Health      Mass Customer               False   \n",
              "1    Financial Services      Mass Customer               False   \n",
              "2              Property      Mass Customer               False   \n",
              "3                    IT      Mass Customer               False   \n",
              "4                   NaN  Affluent Customer               False   \n",
              "\n",
              "                                             default  owns_car  tenure   Age  \n",
              "0                                                 \"'      True    11.0  69.0  \n",
              "1                       <script>alert('hi')</script>      True    16.0  42.0  \n",
              "2                                2018-02-01 00:00:00      True    15.0  69.0  \n",
              "3  () { _; } >_[$($())] { touch /tmp/blns.shellsh...     False     7.0  61.0  \n",
              "4                                                NIL      True     8.0  46.0  "
            ],
            "text/html": [
              "\n",
              "  <div id=\"df-683ccdd9-529f-4597-8a5c-de993017399f\">\n",
              "    <div class=\"colab-df-container\">\n",
              "      <div>\n",
              "<style scoped>\n",
              "    .dataframe tbody tr th:only-of-type {\n",
              "        vertical-align: middle;\n",
              "    }\n",
              "\n",
              "    .dataframe tbody tr th {\n",
              "        vertical-align: top;\n",
              "    }\n",
              "\n",
              "    .dataframe thead th {\n",
              "        text-align: right;\n",
              "    }\n",
              "</style>\n",
              "<table border=\"1\" class=\"dataframe\">\n",
              "  <thead>\n",
              "    <tr style=\"text-align: right;\">\n",
              "      <th></th>\n",
              "      <th>customer_id</th>\n",
              "      <th>first_name</th>\n",
              "      <th>last_name</th>\n",
              "      <th>gender</th>\n",
              "      <th>past_3_years_bike_related_purchases</th>\n",
              "      <th>DOB</th>\n",
              "      <th>job_title</th>\n",
              "      <th>job_industry_category</th>\n",
              "      <th>wealth_segment</th>\n",
              "      <th>deceased_indicator</th>\n",
              "      <th>default</th>\n",
              "      <th>owns_car</th>\n",
              "      <th>tenure</th>\n",
              "      <th>Age</th>\n",
              "    </tr>\n",
              "  </thead>\n",
              "  <tbody>\n",
              "    <tr>\n",
              "      <th>0</th>\n",
              "      <td>1</td>\n",
              "      <td>Laraine</td>\n",
              "      <td>Medendorp</td>\n",
              "      <td>F</td>\n",
              "      <td>93</td>\n",
              "      <td>1953-10-12</td>\n",
              "      <td>Executive Secretary</td>\n",
              "      <td>Health</td>\n",
              "      <td>Mass Customer</td>\n",
              "      <td>False</td>\n",
              "      <td>\"'</td>\n",
              "      <td>True</td>\n",
              "      <td>11.0</td>\n",
              "      <td>69.0</td>\n",
              "    </tr>\n",
              "    <tr>\n",
              "      <th>1</th>\n",
              "      <td>2</td>\n",
              "      <td>Eli</td>\n",
              "      <td>Bockman</td>\n",
              "      <td>Male</td>\n",
              "      <td>81</td>\n",
              "      <td>1980-12-16</td>\n",
              "      <td>Administrative Officer</td>\n",
              "      <td>Financial Services</td>\n",
              "      <td>Mass Customer</td>\n",
              "      <td>False</td>\n",
              "      <td>&lt;script&gt;alert('hi')&lt;/script&gt;</td>\n",
              "      <td>True</td>\n",
              "      <td>16.0</td>\n",
              "      <td>42.0</td>\n",
              "    </tr>\n",
              "    <tr>\n",
              "      <th>2</th>\n",
              "      <td>3</td>\n",
              "      <td>Arlin</td>\n",
              "      <td>Dearle</td>\n",
              "      <td>Male</td>\n",
              "      <td>61</td>\n",
              "      <td>1954-01-20</td>\n",
              "      <td>Recruiting Manager</td>\n",
              "      <td>Property</td>\n",
              "      <td>Mass Customer</td>\n",
              "      <td>False</td>\n",
              "      <td>2018-02-01 00:00:00</td>\n",
              "      <td>True</td>\n",
              "      <td>15.0</td>\n",
              "      <td>69.0</td>\n",
              "    </tr>\n",
              "    <tr>\n",
              "      <th>3</th>\n",
              "      <td>4</td>\n",
              "      <td>Talbot</td>\n",
              "      <td>NaN</td>\n",
              "      <td>Male</td>\n",
              "      <td>33</td>\n",
              "      <td>1961-10-03</td>\n",
              "      <td>NaN</td>\n",
              "      <td>IT</td>\n",
              "      <td>Mass Customer</td>\n",
              "      <td>False</td>\n",
              "      <td>() { _; } &gt;_[$($())] { touch /tmp/blns.shellsh...</td>\n",
              "      <td>False</td>\n",
              "      <td>7.0</td>\n",
              "      <td>61.0</td>\n",
              "    </tr>\n",
              "    <tr>\n",
              "      <th>4</th>\n",
              "      <td>5</td>\n",
              "      <td>Sheila-kathryn</td>\n",
              "      <td>Calton</td>\n",
              "      <td>Female</td>\n",
              "      <td>56</td>\n",
              "      <td>1977-05-13</td>\n",
              "      <td>Senior Editor</td>\n",
              "      <td>NaN</td>\n",
              "      <td>Affluent Customer</td>\n",
              "      <td>False</td>\n",
              "      <td>NIL</td>\n",
              "      <td>True</td>\n",
              "      <td>8.0</td>\n",
              "      <td>46.0</td>\n",
              "    </tr>\n",
              "  </tbody>\n",
              "</table>\n",
              "</div>\n",
              "      <button class=\"colab-df-convert\" onclick=\"convertToInteractive('df-683ccdd9-529f-4597-8a5c-de993017399f')\"\n",
              "              title=\"Convert this dataframe to an interactive table.\"\n",
              "              style=\"display:none;\">\n",
              "        \n",
              "  <svg xmlns=\"http://www.w3.org/2000/svg\" height=\"24px\"viewBox=\"0 0 24 24\"\n",
              "       width=\"24px\">\n",
              "    <path d=\"M0 0h24v24H0V0z\" fill=\"none\"/>\n",
              "    <path d=\"M18.56 5.44l.94 2.06.94-2.06 2.06-.94-2.06-.94-.94-2.06-.94 2.06-2.06.94zm-11 1L8.5 8.5l.94-2.06 2.06-.94-2.06-.94L8.5 2.5l-.94 2.06-2.06.94zm10 10l.94 2.06.94-2.06 2.06-.94-2.06-.94-.94-2.06-.94 2.06-2.06.94z\"/><path d=\"M17.41 7.96l-1.37-1.37c-.4-.4-.92-.59-1.43-.59-.52 0-1.04.2-1.43.59L10.3 9.45l-7.72 7.72c-.78.78-.78 2.05 0 2.83L4 21.41c.39.39.9.59 1.41.59.51 0 1.02-.2 1.41-.59l7.78-7.78 2.81-2.81c.8-.78.8-2.07 0-2.86zM5.41 20L4 18.59l7.72-7.72 1.47 1.35L5.41 20z\"/>\n",
              "  </svg>\n",
              "      </button>\n",
              "      \n",
              "  <style>\n",
              "    .colab-df-container {\n",
              "      display:flex;\n",
              "      flex-wrap:wrap;\n",
              "      gap: 12px;\n",
              "    }\n",
              "\n",
              "    .colab-df-convert {\n",
              "      background-color: #E8F0FE;\n",
              "      border: none;\n",
              "      border-radius: 50%;\n",
              "      cursor: pointer;\n",
              "      display: none;\n",
              "      fill: #1967D2;\n",
              "      height: 32px;\n",
              "      padding: 0 0 0 0;\n",
              "      width: 32px;\n",
              "    }\n",
              "\n",
              "    .colab-df-convert:hover {\n",
              "      background-color: #E2EBFA;\n",
              "      box-shadow: 0px 1px 2px rgba(60, 64, 67, 0.3), 0px 1px 3px 1px rgba(60, 64, 67, 0.15);\n",
              "      fill: #174EA6;\n",
              "    }\n",
              "\n",
              "    [theme=dark] .colab-df-convert {\n",
              "      background-color: #3B4455;\n",
              "      fill: #D2E3FC;\n",
              "    }\n",
              "\n",
              "    [theme=dark] .colab-df-convert:hover {\n",
              "      background-color: #434B5C;\n",
              "      box-shadow: 0px 1px 3px 1px rgba(0, 0, 0, 0.15);\n",
              "      filter: drop-shadow(0px 1px 2px rgba(0, 0, 0, 0.3));\n",
              "      fill: #FFFFFF;\n",
              "    }\n",
              "  </style>\n",
              "\n",
              "      <script>\n",
              "        const buttonEl =\n",
              "          document.querySelector('#df-683ccdd9-529f-4597-8a5c-de993017399f button.colab-df-convert');\n",
              "        buttonEl.style.display =\n",
              "          google.colab.kernel.accessAllowed ? 'block' : 'none';\n",
              "\n",
              "        async function convertToInteractive(key) {\n",
              "          const element = document.querySelector('#df-683ccdd9-529f-4597-8a5c-de993017399f');\n",
              "          const dataTable =\n",
              "            await google.colab.kernel.invokeFunction('convertToInteractive',\n",
              "                                                     [key], {});\n",
              "          if (!dataTable) return;\n",
              "\n",
              "          const docLinkHtml = 'Like what you see? Visit the ' +\n",
              "            '<a target=\"_blank\" href=https://colab.research.google.com/notebooks/data_table.ipynb>data table notebook</a>'\n",
              "            + ' to learn more about interactive tables.';\n",
              "          element.innerHTML = '';\n",
              "          dataTable['output_type'] = 'display_data';\n",
              "          await google.colab.output.renderOutput(dataTable, element);\n",
              "          const docLink = document.createElement('div');\n",
              "          docLink.innerHTML = docLinkHtml;\n",
              "          element.appendChild(docLink);\n",
              "        }\n",
              "      </script>\n",
              "    </div>\n",
              "  </div>\n",
              "  "
            ]
          },
          "metadata": {},
          "execution_count": 17
        }
      ]
    },
    {
      "cell_type": "code",
      "source": [
        "# get the number of job_industry_category and job_title\n",
        "print(len(CustomerDemographic1['job_industry_category'].unique()))\n",
        "print(len(CustomerDemographic1['job_title'].unique()))"
      ],
      "metadata": {
        "colab": {
          "base_uri": "https://localhost:8080/"
        },
        "id": "vz3kKKLQMB5X",
        "outputId": "abe8e31d-c672-4e34-fad9-7c00efe525be"
      },
      "execution_count": 18,
      "outputs": [
        {
          "output_type": "stream",
          "name": "stdout",
          "text": [
            "10\n",
            "196\n"
          ]
        }
      ]
    },
    {
      "cell_type": "code",
      "source": [
        "print(CustomerDemographic1['job_industry_category'].unique())"
      ],
      "metadata": {
        "colab": {
          "base_uri": "https://localhost:8080/"
        },
        "id": "dpdYiruJMb0S",
        "outputId": "43207111-9afd-4b44-a434-5ebae6f49d24"
      },
      "execution_count": 19,
      "outputs": [
        {
          "output_type": "stream",
          "name": "stdout",
          "text": [
            "['Health' 'Financial Services' 'Property' 'IT' nan 'Retail' 'Argiculture'\n",
            " 'Manufacturing' 'Telecommunications' 'Entertainment']\n"
          ]
        }
      ]
    },
    {
      "cell_type": "markdown",
      "source": [
        "Based on the information, we can see that the number of job industry category is 10, including NaN. We can conclude that the number of category is not much for customers to choose, so that can cause the NaN appear in the dataset. For the job title, it almost reaches 200 types of title."
      ],
      "metadata": {
        "id": "yOGUyiMSMTr0"
      }
    },
    {
      "cell_type": "code",
      "source": [
        "#check how many data is missed in either job_title or job_industry_category\n",
        "demo_miss_job_df = CustomerDemographic1[CustomerDemographic1[['job_industry_category', 'job_title']].isna().any(axis=1)]\n",
        "demo_miss_job_category_df = CustomerDemographic1[CustomerDemographic1[['job_industry_category']].isna().any(axis=1)]\n",
        "demo_miss_job_title_df = CustomerDemographic1[CustomerDemographic1[['job_title']].isna().any(axis=1)]"
      ],
      "metadata": {
        "id": "9Fe-9LCENZvi"
      },
      "execution_count": 134,
      "outputs": []
    },
    {
      "cell_type": "code",
      "source": [
        "# get the number of the missed rows\n",
        "print(len(demo_miss_job_df))\n",
        "#1057 out of 4000 is quite a lots \n",
        "print(len(demo_miss_job_category_df))\n",
        "print(len(demo_miss_job_title_df))"
      ],
      "metadata": {
        "colab": {
          "base_uri": "https://localhost:8080/"
        },
        "id": "ll27_jPVN5tM",
        "outputId": "290af1e1-81f9-44df-ab73-b3f074e05c70"
      },
      "execution_count": 135,
      "outputs": [
        {
          "output_type": "stream",
          "name": "stdout",
          "text": [
            "0\n",
            "0\n",
            "0\n"
          ]
        }
      ]
    },
    {
      "cell_type": "markdown",
      "source": [
        "Based on the information, there are 1057 rows lost in either of the feature. Deleting the data would lost other information, and the job title and industry might be useful for analysis. Thus, changing the NaN value to Unknown category."
      ],
      "metadata": {
        "id": "9LeUDvYLTJof"
      }
    },
    {
      "cell_type": "code",
      "source": [
        "# fill NaN data with Others\n",
        "CustomerDemographic1['job_industry_category'] = CustomerDemographic1['job_industry_category'].fillna('Unknown')\n",
        "CustomerDemographic1['job_title'] = CustomerDemographic1['job_title'].fillna('Unknown')"
      ],
      "metadata": {
        "id": "yeorj6JpYnwB"
      },
      "execution_count": 22,
      "outputs": []
    },
    {
      "cell_type": "code",
      "source": [
        "CustomerAddress.head()"
      ],
      "metadata": {
        "colab": {
          "base_uri": "https://localhost:8080/",
          "height": 206
        },
        "id": "U2INH5FrUFfI",
        "outputId": "063b3117-8b9e-461f-fd92-54934976ac43"
      },
      "execution_count": 23,
      "outputs": [
        {
          "output_type": "execute_result",
          "data": {
            "text/plain": [
              "   customer_id              address  postcode            state    country  \\\n",
              "0            1   060 Morning Avenue      2016  New South Wales  Australia   \n",
              "1            2  6 Meadow Vale Court      2153  New South Wales  Australia   \n",
              "2            4   0 Holy Cross Court      4211              QLD  Australia   \n",
              "3            5  17979 Del Mar Point      2448  New South Wales  Australia   \n",
              "4            6     9 Oakridge Court      3216              VIC  Australia   \n",
              "\n",
              "   property_valuation  \n",
              "0                  10  \n",
              "1                  10  \n",
              "2                   9  \n",
              "3                   4  \n",
              "4                   9  "
            ],
            "text/html": [
              "\n",
              "  <div id=\"df-3bfe6494-c1d5-4a28-af5b-30b368ab1eb8\">\n",
              "    <div class=\"colab-df-container\">\n",
              "      <div>\n",
              "<style scoped>\n",
              "    .dataframe tbody tr th:only-of-type {\n",
              "        vertical-align: middle;\n",
              "    }\n",
              "\n",
              "    .dataframe tbody tr th {\n",
              "        vertical-align: top;\n",
              "    }\n",
              "\n",
              "    .dataframe thead th {\n",
              "        text-align: right;\n",
              "    }\n",
              "</style>\n",
              "<table border=\"1\" class=\"dataframe\">\n",
              "  <thead>\n",
              "    <tr style=\"text-align: right;\">\n",
              "      <th></th>\n",
              "      <th>customer_id</th>\n",
              "      <th>address</th>\n",
              "      <th>postcode</th>\n",
              "      <th>state</th>\n",
              "      <th>country</th>\n",
              "      <th>property_valuation</th>\n",
              "    </tr>\n",
              "  </thead>\n",
              "  <tbody>\n",
              "    <tr>\n",
              "      <th>0</th>\n",
              "      <td>1</td>\n",
              "      <td>060 Morning Avenue</td>\n",
              "      <td>2016</td>\n",
              "      <td>New South Wales</td>\n",
              "      <td>Australia</td>\n",
              "      <td>10</td>\n",
              "    </tr>\n",
              "    <tr>\n",
              "      <th>1</th>\n",
              "      <td>2</td>\n",
              "      <td>6 Meadow Vale Court</td>\n",
              "      <td>2153</td>\n",
              "      <td>New South Wales</td>\n",
              "      <td>Australia</td>\n",
              "      <td>10</td>\n",
              "    </tr>\n",
              "    <tr>\n",
              "      <th>2</th>\n",
              "      <td>4</td>\n",
              "      <td>0 Holy Cross Court</td>\n",
              "      <td>4211</td>\n",
              "      <td>QLD</td>\n",
              "      <td>Australia</td>\n",
              "      <td>9</td>\n",
              "    </tr>\n",
              "    <tr>\n",
              "      <th>3</th>\n",
              "      <td>5</td>\n",
              "      <td>17979 Del Mar Point</td>\n",
              "      <td>2448</td>\n",
              "      <td>New South Wales</td>\n",
              "      <td>Australia</td>\n",
              "      <td>4</td>\n",
              "    </tr>\n",
              "    <tr>\n",
              "      <th>4</th>\n",
              "      <td>6</td>\n",
              "      <td>9 Oakridge Court</td>\n",
              "      <td>3216</td>\n",
              "      <td>VIC</td>\n",
              "      <td>Australia</td>\n",
              "      <td>9</td>\n",
              "    </tr>\n",
              "  </tbody>\n",
              "</table>\n",
              "</div>\n",
              "      <button class=\"colab-df-convert\" onclick=\"convertToInteractive('df-3bfe6494-c1d5-4a28-af5b-30b368ab1eb8')\"\n",
              "              title=\"Convert this dataframe to an interactive table.\"\n",
              "              style=\"display:none;\">\n",
              "        \n",
              "  <svg xmlns=\"http://www.w3.org/2000/svg\" height=\"24px\"viewBox=\"0 0 24 24\"\n",
              "       width=\"24px\">\n",
              "    <path d=\"M0 0h24v24H0V0z\" fill=\"none\"/>\n",
              "    <path d=\"M18.56 5.44l.94 2.06.94-2.06 2.06-.94-2.06-.94-.94-2.06-.94 2.06-2.06.94zm-11 1L8.5 8.5l.94-2.06 2.06-.94-2.06-.94L8.5 2.5l-.94 2.06-2.06.94zm10 10l.94 2.06.94-2.06 2.06-.94-2.06-.94-.94-2.06-.94 2.06-2.06.94z\"/><path d=\"M17.41 7.96l-1.37-1.37c-.4-.4-.92-.59-1.43-.59-.52 0-1.04.2-1.43.59L10.3 9.45l-7.72 7.72c-.78.78-.78 2.05 0 2.83L4 21.41c.39.39.9.59 1.41.59.51 0 1.02-.2 1.41-.59l7.78-7.78 2.81-2.81c.8-.78.8-2.07 0-2.86zM5.41 20L4 18.59l7.72-7.72 1.47 1.35L5.41 20z\"/>\n",
              "  </svg>\n",
              "      </button>\n",
              "      \n",
              "  <style>\n",
              "    .colab-df-container {\n",
              "      display:flex;\n",
              "      flex-wrap:wrap;\n",
              "      gap: 12px;\n",
              "    }\n",
              "\n",
              "    .colab-df-convert {\n",
              "      background-color: #E8F0FE;\n",
              "      border: none;\n",
              "      border-radius: 50%;\n",
              "      cursor: pointer;\n",
              "      display: none;\n",
              "      fill: #1967D2;\n",
              "      height: 32px;\n",
              "      padding: 0 0 0 0;\n",
              "      width: 32px;\n",
              "    }\n",
              "\n",
              "    .colab-df-convert:hover {\n",
              "      background-color: #E2EBFA;\n",
              "      box-shadow: 0px 1px 2px rgba(60, 64, 67, 0.3), 0px 1px 3px 1px rgba(60, 64, 67, 0.15);\n",
              "      fill: #174EA6;\n",
              "    }\n",
              "\n",
              "    [theme=dark] .colab-df-convert {\n",
              "      background-color: #3B4455;\n",
              "      fill: #D2E3FC;\n",
              "    }\n",
              "\n",
              "    [theme=dark] .colab-df-convert:hover {\n",
              "      background-color: #434B5C;\n",
              "      box-shadow: 0px 1px 3px 1px rgba(0, 0, 0, 0.15);\n",
              "      filter: drop-shadow(0px 1px 2px rgba(0, 0, 0, 0.3));\n",
              "      fill: #FFFFFF;\n",
              "    }\n",
              "  </style>\n",
              "\n",
              "      <script>\n",
              "        const buttonEl =\n",
              "          document.querySelector('#df-3bfe6494-c1d5-4a28-af5b-30b368ab1eb8 button.colab-df-convert');\n",
              "        buttonEl.style.display =\n",
              "          google.colab.kernel.accessAllowed ? 'block' : 'none';\n",
              "\n",
              "        async function convertToInteractive(key) {\n",
              "          const element = document.querySelector('#df-3bfe6494-c1d5-4a28-af5b-30b368ab1eb8');\n",
              "          const dataTable =\n",
              "            await google.colab.kernel.invokeFunction('convertToInteractive',\n",
              "                                                     [key], {});\n",
              "          if (!dataTable) return;\n",
              "\n",
              "          const docLinkHtml = 'Like what you see? Visit the ' +\n",
              "            '<a target=\"_blank\" href=https://colab.research.google.com/notebooks/data_table.ipynb>data table notebook</a>'\n",
              "            + ' to learn more about interactive tables.';\n",
              "          element.innerHTML = '';\n",
              "          dataTable['output_type'] = 'display_data';\n",
              "          await google.colab.output.renderOutput(dataTable, element);\n",
              "          const docLink = document.createElement('div');\n",
              "          docLink.innerHTML = docLinkHtml;\n",
              "          element.appendChild(docLink);\n",
              "        }\n",
              "      </script>\n",
              "    </div>\n",
              "  </div>\n",
              "  "
            ]
          },
          "metadata": {},
          "execution_count": 23
        }
      ]
    },
    {
      "cell_type": "code",
      "source": [
        "CustomerAddress.info()"
      ],
      "metadata": {
        "colab": {
          "base_uri": "https://localhost:8080/"
        },
        "id": "BfTImj5iT-rv",
        "outputId": "5488be2b-07ff-4b83-8cf3-179948917ab8"
      },
      "execution_count": 24,
      "outputs": [
        {
          "output_type": "stream",
          "name": "stdout",
          "text": [
            "<class 'pandas.core.frame.DataFrame'>\n",
            "RangeIndex: 3999 entries, 0 to 3998\n",
            "Data columns (total 6 columns):\n",
            " #   Column              Non-Null Count  Dtype \n",
            "---  ------              --------------  ----- \n",
            " 0   customer_id         3999 non-null   int64 \n",
            " 1   address             3999 non-null   object\n",
            " 2   postcode            3999 non-null   int64 \n",
            " 3   state               3999 non-null   object\n",
            " 4   country             3999 non-null   object\n",
            " 5   property_valuation  3999 non-null   int64 \n",
            "dtypes: int64(3), object(3)\n",
            "memory usage: 187.6+ KB\n"
          ]
        }
      ]
    },
    {
      "cell_type": "code",
      "source": [
        "# check duplication\n",
        "CustomerAddress.duplicated('customer_id').sum()"
      ],
      "metadata": {
        "colab": {
          "base_uri": "https://localhost:8080/"
        },
        "id": "Rz6-7AMYtcme",
        "outputId": "5dbbbea8-acc1-4afb-b824-675d4c103029"
      },
      "execution_count": 236,
      "outputs": [
        {
          "output_type": "execute_result",
          "data": {
            "text/plain": [
              "0"
            ]
          },
          "metadata": {},
          "execution_count": 236
        }
      ]
    },
    {
      "cell_type": "code",
      "source": [
        "#change the data type\n",
        "CustomerAddress1 = CustomerAddress\n",
        "CustomerAddress1['customer_id'] = CustomerAddress1['customer_id'].astype(str)\n",
        "CustomerAddress1['postcode'] = CustomerAddress1['postcode'].astype(str)\n",
        "CustomerAddress1.info()"
      ],
      "metadata": {
        "colab": {
          "base_uri": "https://localhost:8080/"
        },
        "id": "dI_Zf15bUH-2",
        "outputId": "c9ce143b-c238-4263-f9cf-de605d947916"
      },
      "execution_count": 25,
      "outputs": [
        {
          "output_type": "stream",
          "name": "stdout",
          "text": [
            "<class 'pandas.core.frame.DataFrame'>\n",
            "RangeIndex: 3999 entries, 0 to 3998\n",
            "Data columns (total 6 columns):\n",
            " #   Column              Non-Null Count  Dtype \n",
            "---  ------              --------------  ----- \n",
            " 0   customer_id         3999 non-null   object\n",
            " 1   address             3999 non-null   object\n",
            " 2   postcode            3999 non-null   object\n",
            " 3   state               3999 non-null   object\n",
            " 4   country             3999 non-null   object\n",
            " 5   property_valuation  3999 non-null   int64 \n",
            "dtypes: int64(1), object(5)\n",
            "memory usage: 187.6+ KB\n"
          ]
        }
      ]
    },
    {
      "cell_type": "code",
      "source": [
        "#check the gender, state and country use the uniform representation\n",
        "print(CustomerAddress1['country'].unique())\n",
        "print(CustomerAddress1['state'].unique())"
      ],
      "metadata": {
        "colab": {
          "base_uri": "https://localhost:8080/"
        },
        "id": "bl5-CmK_UmAu",
        "outputId": "e5b22206-b4c1-4471-fea3-faad2a631da4"
      },
      "execution_count": 26,
      "outputs": [
        {
          "output_type": "stream",
          "name": "stdout",
          "text": [
            "['Australia']\n",
            "['New South Wales' 'QLD' 'VIC' 'NSW' 'Victoria']\n"
          ]
        }
      ]
    },
    {
      "cell_type": "markdown",
      "source": [
        "New South Wales and NSW should use the same representation.\n",
        "Victoria and Vic should use the same representation as well."
      ],
      "metadata": {
        "id": "KaA6-lw7U5_O"
      }
    },
    {
      "cell_type": "code",
      "source": [
        "# modify the category value to make it in a uniform representation\n",
        "CustomerAddress1['state'] = CustomerAddress1['state'].replace(['New South Wales', 'Victoria'], ['NSW', 'VIC'])\n",
        "# check again to ensure the change is taken place\n",
        "print(CustomerAddress1['state'].unique())"
      ],
      "metadata": {
        "colab": {
          "base_uri": "https://localhost:8080/"
        },
        "id": "u79MFvwkVHzz",
        "outputId": "987e27e7-5c88-4bab-a452-59f7b12bd78e"
      },
      "execution_count": 27,
      "outputs": [
        {
          "output_type": "stream",
          "name": "stdout",
          "text": [
            "['NSW' 'QLD' 'VIC']\n"
          ]
        }
      ]
    },
    {
      "cell_type": "markdown",
      "source": [
        "The next step is to combine three datasets by using merge()"
      ],
      "metadata": {
        "id": "HRuUMnAZVyF4"
      }
    },
    {
      "cell_type": "code",
      "source": [
        "print(CustomerAddress1.columns)\n",
        "print(CustomerDemographic1.columns)\n",
        "print(Transactions.columns)"
      ],
      "metadata": {
        "colab": {
          "base_uri": "https://localhost:8080/"
        },
        "id": "QnTRqOtrWDwU",
        "outputId": "e1118051-8c35-4a14-bb9b-412c7fa48a12"
      },
      "execution_count": 28,
      "outputs": [
        {
          "output_type": "stream",
          "name": "stdout",
          "text": [
            "Index(['customer_id', 'address', 'postcode', 'state', 'country',\n",
            "       'property_valuation'],\n",
            "      dtype='object')\n",
            "Index(['customer_id', 'first_name', 'last_name', 'gender',\n",
            "       'past_3_years_bike_related_purchases', 'DOB', 'job_title',\n",
            "       'job_industry_category', 'wealth_segment', 'deceased_indicator',\n",
            "       'default', 'owns_car', 'tenure', 'Age'],\n",
            "      dtype='object')\n",
            "Index(['transaction_id', 'product_id', 'customer_id', 'transaction_date',\n",
            "       'online_order', 'order_status', 'brand', 'product_line',\n",
            "       'product_class', 'product_size', 'list_price', 'standard_cost',\n",
            "       'product_first_sold_date'],\n",
            "      dtype='object')\n"
          ]
        }
      ]
    },
    {
      "cell_type": "code",
      "source": [
        "customer_info = pd.merge(CustomerAddress1, CustomerDemographic1, how='outer', on='customer_id')\n",
        "tran_cust = pd.merge(customer_info, Transactions1, how='right', on='customer_id')"
      ],
      "metadata": {
        "id": "yxk8vuwuVwg9"
      },
      "execution_count": 136,
      "outputs": []
    },
    {
      "cell_type": "code",
      "source": [
        "tran_cust.info()"
      ],
      "metadata": {
        "colab": {
          "base_uri": "https://localhost:8080/"
        },
        "id": "Jrgw3VqwXCYP",
        "outputId": "3a0e2174-b667-4186-8ce0-bba6c4289dc5"
      },
      "execution_count": 137,
      "outputs": [
        {
          "output_type": "stream",
          "name": "stdout",
          "text": [
            "<class 'pandas.core.frame.DataFrame'>\n",
            "Int64Index: 19445 entries, 0 to 19444\n",
            "Data columns (total 32 columns):\n",
            " #   Column                               Non-Null Count  Dtype         \n",
            "---  ------                               --------------  -----         \n",
            " 0   customer_id                          19445 non-null  object        \n",
            " 1   address                              19416 non-null  object        \n",
            " 2   postcode                             19416 non-null  object        \n",
            " 3   state                                19416 non-null  object        \n",
            " 4   country                              19416 non-null  object        \n",
            " 5   property_valuation                   19416 non-null  float64       \n",
            " 6   first_name                           19442 non-null  object        \n",
            " 7   last_name                            18816 non-null  object        \n",
            " 8   gender                               19442 non-null  object        \n",
            " 9   past_3_years_bike_related_purchases  19442 non-null  float64       \n",
            " 10  DOB                                  19012 non-null  datetime64[ns]\n",
            " 11  job_title                            19442 non-null  object        \n",
            " 12  job_industry_category                19442 non-null  object        \n",
            " 13  wealth_segment                       19442 non-null  object        \n",
            " 14  deceased_indicator                   19442 non-null  object        \n",
            " 15  default                              18036 non-null  object        \n",
            " 16  owns_car                             19442 non-null  object        \n",
            " 17  tenure                               19012 non-null  float64       \n",
            " 18  Age                                  19012 non-null  float64       \n",
            " 19  transaction_id                       19445 non-null  object        \n",
            " 20  product_id                           19445 non-null  object        \n",
            " 21  transaction_date                     19445 non-null  datetime64[ns]\n",
            " 22  online_order                         19445 non-null  bool          \n",
            " 23  order_status                         19445 non-null  object        \n",
            " 24  brand                                19445 non-null  object        \n",
            " 25  product_line                         19445 non-null  object        \n",
            " 26  product_class                        19445 non-null  object        \n",
            " 27  product_size                         19445 non-null  object        \n",
            " 28  list_price                           19445 non-null  float64       \n",
            " 29  standard_cost                        19445 non-null  float64       \n",
            " 30  product_first_sold_date              19445 non-null  float64       \n",
            " 31  profit                               19445 non-null  float64       \n",
            "dtypes: bool(1), datetime64[ns](2), float64(8), object(21)\n",
            "memory usage: 4.8+ MB\n"
          ]
        }
      ]
    },
    {
      "cell_type": "code",
      "source": [
        "tran_cust.head()"
      ],
      "metadata": {
        "colab": {
          "base_uri": "https://localhost:8080/",
          "height": 473
        },
        "id": "lYq6ee86j9Ms",
        "outputId": "5872f4f8-b6b3-45ea-c164-b67bda201c57"
      },
      "execution_count": 138,
      "outputs": [
        {
          "output_type": "execute_result",
          "data": {
            "text/plain": [
              "  customer_id              address postcode state    country  \\\n",
              "0        2950    984 Hoepker Court     3064   VIC  Australia   \n",
              "1        3120      4 Shopko Circle     2196   NSW  Australia   \n",
              "2         402   586 Miller Parkway     2835   NSW  Australia   \n",
              "3        3135  1617 Harper Parkway     2096   NSW  Australia   \n",
              "4         787   0601 Stephen Place     2292   NSW  Australia   \n",
              "\n",
              "   property_valuation first_name  last_name gender  \\\n",
              "0                 6.0    Kristos    Anthony      M   \n",
              "1                 5.0     Lauree  O'Donnell      F   \n",
              "2                 1.0      Berne    Donegan      M   \n",
              "3                10.0      Titus    Worsall      M   \n",
              "4                 7.0      Norma     Batrim      F   \n",
              "\n",
              "   past_3_years_bike_related_purchases  ... online_order order_status  \\\n",
              "0                                 19.0  ...        False     Approved   \n",
              "1                                 89.0  ...         True     Approved   \n",
              "2                                  9.0  ...        False     Approved   \n",
              "3                                 83.0  ...        False     Approved   \n",
              "4                                 29.0  ...         True     Approved   \n",
              "\n",
              "            brand product_line product_class product_size list_price  \\\n",
              "0           Solex     Standard        medium       medium      71.49   \n",
              "1   Trek Bicycles     Standard        medium        large    2091.47   \n",
              "2      OHM Cycles     Standard           low       medium    1793.43   \n",
              "3  Norco Bicycles     Standard        medium       medium    1198.46   \n",
              "4  Giant Bicycles     Standard        medium        large    1765.30   \n",
              "\n",
              "   standard_cost  product_first_sold_date   profit  \n",
              "0          53.62                  41245.0    17.87  \n",
              "1         388.92                  41701.0  1702.55  \n",
              "2         248.82                  36361.0  1544.61  \n",
              "3         381.10                  36145.0   817.36  \n",
              "4         709.48                  42226.0  1055.82  \n",
              "\n",
              "[5 rows x 32 columns]"
            ],
            "text/html": [
              "\n",
              "  <div id=\"df-fa57d493-51a0-470a-ac5d-da547a8520a2\">\n",
              "    <div class=\"colab-df-container\">\n",
              "      <div>\n",
              "<style scoped>\n",
              "    .dataframe tbody tr th:only-of-type {\n",
              "        vertical-align: middle;\n",
              "    }\n",
              "\n",
              "    .dataframe tbody tr th {\n",
              "        vertical-align: top;\n",
              "    }\n",
              "\n",
              "    .dataframe thead th {\n",
              "        text-align: right;\n",
              "    }\n",
              "</style>\n",
              "<table border=\"1\" class=\"dataframe\">\n",
              "  <thead>\n",
              "    <tr style=\"text-align: right;\">\n",
              "      <th></th>\n",
              "      <th>customer_id</th>\n",
              "      <th>address</th>\n",
              "      <th>postcode</th>\n",
              "      <th>state</th>\n",
              "      <th>country</th>\n",
              "      <th>property_valuation</th>\n",
              "      <th>first_name</th>\n",
              "      <th>last_name</th>\n",
              "      <th>gender</th>\n",
              "      <th>past_3_years_bike_related_purchases</th>\n",
              "      <th>...</th>\n",
              "      <th>online_order</th>\n",
              "      <th>order_status</th>\n",
              "      <th>brand</th>\n",
              "      <th>product_line</th>\n",
              "      <th>product_class</th>\n",
              "      <th>product_size</th>\n",
              "      <th>list_price</th>\n",
              "      <th>standard_cost</th>\n",
              "      <th>product_first_sold_date</th>\n",
              "      <th>profit</th>\n",
              "    </tr>\n",
              "  </thead>\n",
              "  <tbody>\n",
              "    <tr>\n",
              "      <th>0</th>\n",
              "      <td>2950</td>\n",
              "      <td>984 Hoepker Court</td>\n",
              "      <td>3064</td>\n",
              "      <td>VIC</td>\n",
              "      <td>Australia</td>\n",
              "      <td>6.0</td>\n",
              "      <td>Kristos</td>\n",
              "      <td>Anthony</td>\n",
              "      <td>M</td>\n",
              "      <td>19.0</td>\n",
              "      <td>...</td>\n",
              "      <td>False</td>\n",
              "      <td>Approved</td>\n",
              "      <td>Solex</td>\n",
              "      <td>Standard</td>\n",
              "      <td>medium</td>\n",
              "      <td>medium</td>\n",
              "      <td>71.49</td>\n",
              "      <td>53.62</td>\n",
              "      <td>41245.0</td>\n",
              "      <td>17.87</td>\n",
              "    </tr>\n",
              "    <tr>\n",
              "      <th>1</th>\n",
              "      <td>3120</td>\n",
              "      <td>4 Shopko Circle</td>\n",
              "      <td>2196</td>\n",
              "      <td>NSW</td>\n",
              "      <td>Australia</td>\n",
              "      <td>5.0</td>\n",
              "      <td>Lauree</td>\n",
              "      <td>O'Donnell</td>\n",
              "      <td>F</td>\n",
              "      <td>89.0</td>\n",
              "      <td>...</td>\n",
              "      <td>True</td>\n",
              "      <td>Approved</td>\n",
              "      <td>Trek Bicycles</td>\n",
              "      <td>Standard</td>\n",
              "      <td>medium</td>\n",
              "      <td>large</td>\n",
              "      <td>2091.47</td>\n",
              "      <td>388.92</td>\n",
              "      <td>41701.0</td>\n",
              "      <td>1702.55</td>\n",
              "    </tr>\n",
              "    <tr>\n",
              "      <th>2</th>\n",
              "      <td>402</td>\n",
              "      <td>586 Miller Parkway</td>\n",
              "      <td>2835</td>\n",
              "      <td>NSW</td>\n",
              "      <td>Australia</td>\n",
              "      <td>1.0</td>\n",
              "      <td>Berne</td>\n",
              "      <td>Donegan</td>\n",
              "      <td>M</td>\n",
              "      <td>9.0</td>\n",
              "      <td>...</td>\n",
              "      <td>False</td>\n",
              "      <td>Approved</td>\n",
              "      <td>OHM Cycles</td>\n",
              "      <td>Standard</td>\n",
              "      <td>low</td>\n",
              "      <td>medium</td>\n",
              "      <td>1793.43</td>\n",
              "      <td>248.82</td>\n",
              "      <td>36361.0</td>\n",
              "      <td>1544.61</td>\n",
              "    </tr>\n",
              "    <tr>\n",
              "      <th>3</th>\n",
              "      <td>3135</td>\n",
              "      <td>1617 Harper Parkway</td>\n",
              "      <td>2096</td>\n",
              "      <td>NSW</td>\n",
              "      <td>Australia</td>\n",
              "      <td>10.0</td>\n",
              "      <td>Titus</td>\n",
              "      <td>Worsall</td>\n",
              "      <td>M</td>\n",
              "      <td>83.0</td>\n",
              "      <td>...</td>\n",
              "      <td>False</td>\n",
              "      <td>Approved</td>\n",
              "      <td>Norco Bicycles</td>\n",
              "      <td>Standard</td>\n",
              "      <td>medium</td>\n",
              "      <td>medium</td>\n",
              "      <td>1198.46</td>\n",
              "      <td>381.10</td>\n",
              "      <td>36145.0</td>\n",
              "      <td>817.36</td>\n",
              "    </tr>\n",
              "    <tr>\n",
              "      <th>4</th>\n",
              "      <td>787</td>\n",
              "      <td>0601 Stephen Place</td>\n",
              "      <td>2292</td>\n",
              "      <td>NSW</td>\n",
              "      <td>Australia</td>\n",
              "      <td>7.0</td>\n",
              "      <td>Norma</td>\n",
              "      <td>Batrim</td>\n",
              "      <td>F</td>\n",
              "      <td>29.0</td>\n",
              "      <td>...</td>\n",
              "      <td>True</td>\n",
              "      <td>Approved</td>\n",
              "      <td>Giant Bicycles</td>\n",
              "      <td>Standard</td>\n",
              "      <td>medium</td>\n",
              "      <td>large</td>\n",
              "      <td>1765.30</td>\n",
              "      <td>709.48</td>\n",
              "      <td>42226.0</td>\n",
              "      <td>1055.82</td>\n",
              "    </tr>\n",
              "  </tbody>\n",
              "</table>\n",
              "<p>5 rows × 32 columns</p>\n",
              "</div>\n",
              "      <button class=\"colab-df-convert\" onclick=\"convertToInteractive('df-fa57d493-51a0-470a-ac5d-da547a8520a2')\"\n",
              "              title=\"Convert this dataframe to an interactive table.\"\n",
              "              style=\"display:none;\">\n",
              "        \n",
              "  <svg xmlns=\"http://www.w3.org/2000/svg\" height=\"24px\"viewBox=\"0 0 24 24\"\n",
              "       width=\"24px\">\n",
              "    <path d=\"M0 0h24v24H0V0z\" fill=\"none\"/>\n",
              "    <path d=\"M18.56 5.44l.94 2.06.94-2.06 2.06-.94-2.06-.94-.94-2.06-.94 2.06-2.06.94zm-11 1L8.5 8.5l.94-2.06 2.06-.94-2.06-.94L8.5 2.5l-.94 2.06-2.06.94zm10 10l.94 2.06.94-2.06 2.06-.94-2.06-.94-.94-2.06-.94 2.06-2.06.94z\"/><path d=\"M17.41 7.96l-1.37-1.37c-.4-.4-.92-.59-1.43-.59-.52 0-1.04.2-1.43.59L10.3 9.45l-7.72 7.72c-.78.78-.78 2.05 0 2.83L4 21.41c.39.39.9.59 1.41.59.51 0 1.02-.2 1.41-.59l7.78-7.78 2.81-2.81c.8-.78.8-2.07 0-2.86zM5.41 20L4 18.59l7.72-7.72 1.47 1.35L5.41 20z\"/>\n",
              "  </svg>\n",
              "      </button>\n",
              "      \n",
              "  <style>\n",
              "    .colab-df-container {\n",
              "      display:flex;\n",
              "      flex-wrap:wrap;\n",
              "      gap: 12px;\n",
              "    }\n",
              "\n",
              "    .colab-df-convert {\n",
              "      background-color: #E8F0FE;\n",
              "      border: none;\n",
              "      border-radius: 50%;\n",
              "      cursor: pointer;\n",
              "      display: none;\n",
              "      fill: #1967D2;\n",
              "      height: 32px;\n",
              "      padding: 0 0 0 0;\n",
              "      width: 32px;\n",
              "    }\n",
              "\n",
              "    .colab-df-convert:hover {\n",
              "      background-color: #E2EBFA;\n",
              "      box-shadow: 0px 1px 2px rgba(60, 64, 67, 0.3), 0px 1px 3px 1px rgba(60, 64, 67, 0.15);\n",
              "      fill: #174EA6;\n",
              "    }\n",
              "\n",
              "    [theme=dark] .colab-df-convert {\n",
              "      background-color: #3B4455;\n",
              "      fill: #D2E3FC;\n",
              "    }\n",
              "\n",
              "    [theme=dark] .colab-df-convert:hover {\n",
              "      background-color: #434B5C;\n",
              "      box-shadow: 0px 1px 3px 1px rgba(0, 0, 0, 0.15);\n",
              "      filter: drop-shadow(0px 1px 2px rgba(0, 0, 0, 0.3));\n",
              "      fill: #FFFFFF;\n",
              "    }\n",
              "  </style>\n",
              "\n",
              "      <script>\n",
              "        const buttonEl =\n",
              "          document.querySelector('#df-fa57d493-51a0-470a-ac5d-da547a8520a2 button.colab-df-convert');\n",
              "        buttonEl.style.display =\n",
              "          google.colab.kernel.accessAllowed ? 'block' : 'none';\n",
              "\n",
              "        async function convertToInteractive(key) {\n",
              "          const element = document.querySelector('#df-fa57d493-51a0-470a-ac5d-da547a8520a2');\n",
              "          const dataTable =\n",
              "            await google.colab.kernel.invokeFunction('convertToInteractive',\n",
              "                                                     [key], {});\n",
              "          if (!dataTable) return;\n",
              "\n",
              "          const docLinkHtml = 'Like what you see? Visit the ' +\n",
              "            '<a target=\"_blank\" href=https://colab.research.google.com/notebooks/data_table.ipynb>data table notebook</a>'\n",
              "            + ' to learn more about interactive tables.';\n",
              "          element.innerHTML = '';\n",
              "          dataTable['output_type'] = 'display_data';\n",
              "          await google.colab.output.renderOutput(dataTable, element);\n",
              "          const docLink = document.createElement('div');\n",
              "          docLink.innerHTML = docLinkHtml;\n",
              "          element.appendChild(docLink);\n",
              "        }\n",
              "      </script>\n",
              "    </div>\n",
              "  </div>\n",
              "  "
            ]
          },
          "metadata": {},
          "execution_count": 138
        }
      ]
    },
    {
      "cell_type": "markdown",
      "source": [
        "After merging three datasets, there are some missing values in columns that not belong to Transactions1 dataset. From the dataset information, we can easily notice that there are three customer_id that shown in Transaction dataset doesn't record in the CustomerDemographic."
      ],
      "metadata": {
        "id": "BEPVMxpskD1N"
      }
    },
    {
      "cell_type": "code",
      "source": [
        "tran_cust.drop(columns=['default'], inplace=True)"
      ],
      "metadata": {
        "id": "RZhysVEZdq9X"
      },
      "execution_count": 139,
      "outputs": []
    },
    {
      "cell_type": "code",
      "source": [
        "tran_cust[tran_cust[['gender']].isna().any(axis=1)]"
      ],
      "metadata": {
        "colab": {
          "base_uri": "https://localhost:8080/",
          "height": 272
        },
        "id": "wg2zTZ4OmpB2",
        "outputId": "46d534cc-54e7-476b-cb0a-66299f60e781"
      },
      "execution_count": 140,
      "outputs": [
        {
          "output_type": "execute_result",
          "data": {
            "text/plain": [
              "      customer_id address postcode state country  property_valuation  \\\n",
              "8478         5034     NaN      NaN   NaN     NaN                 NaN   \n",
              "16232        5034     NaN      NaN   NaN     NaN                 NaN   \n",
              "16977        5034     NaN      NaN   NaN     NaN                 NaN   \n",
              "\n",
              "      first_name last_name gender  past_3_years_bike_related_purchases  ...  \\\n",
              "8478         NaN       NaN    NaN                                  NaN  ...   \n",
              "16232        NaN       NaN    NaN                                  NaN  ...   \n",
              "16977        NaN       NaN    NaN                                  NaN  ...   \n",
              "\n",
              "      online_order order_status           brand product_line product_class  \\\n",
              "8478         False     Approved           Solex         Road        medium   \n",
              "16232        False     Approved  Norco Bicycles     Standard        medium   \n",
              "16977        False     Approved      OHM Cycles         Road        medium   \n",
              "\n",
              "      product_size  list_price  standard_cost product_first_sold_date  \\\n",
              "8478        medium      416.98     312.735016                 42218.0   \n",
              "16232       medium      360.40     270.299988                 35667.0   \n",
              "16977       medium      742.54     667.400024                 33879.0   \n",
              "\n",
              "           profit  \n",
              "8478   104.244984  \n",
              "16232   90.100012  \n",
              "16977   75.139976  \n",
              "\n",
              "[3 rows x 31 columns]"
            ],
            "text/html": [
              "\n",
              "  <div id=\"df-7c71c66b-4035-4b5c-97d5-1fe35690b315\">\n",
              "    <div class=\"colab-df-container\">\n",
              "      <div>\n",
              "<style scoped>\n",
              "    .dataframe tbody tr th:only-of-type {\n",
              "        vertical-align: middle;\n",
              "    }\n",
              "\n",
              "    .dataframe tbody tr th {\n",
              "        vertical-align: top;\n",
              "    }\n",
              "\n",
              "    .dataframe thead th {\n",
              "        text-align: right;\n",
              "    }\n",
              "</style>\n",
              "<table border=\"1\" class=\"dataframe\">\n",
              "  <thead>\n",
              "    <tr style=\"text-align: right;\">\n",
              "      <th></th>\n",
              "      <th>customer_id</th>\n",
              "      <th>address</th>\n",
              "      <th>postcode</th>\n",
              "      <th>state</th>\n",
              "      <th>country</th>\n",
              "      <th>property_valuation</th>\n",
              "      <th>first_name</th>\n",
              "      <th>last_name</th>\n",
              "      <th>gender</th>\n",
              "      <th>past_3_years_bike_related_purchases</th>\n",
              "      <th>...</th>\n",
              "      <th>online_order</th>\n",
              "      <th>order_status</th>\n",
              "      <th>brand</th>\n",
              "      <th>product_line</th>\n",
              "      <th>product_class</th>\n",
              "      <th>product_size</th>\n",
              "      <th>list_price</th>\n",
              "      <th>standard_cost</th>\n",
              "      <th>product_first_sold_date</th>\n",
              "      <th>profit</th>\n",
              "    </tr>\n",
              "  </thead>\n",
              "  <tbody>\n",
              "    <tr>\n",
              "      <th>8478</th>\n",
              "      <td>5034</td>\n",
              "      <td>NaN</td>\n",
              "      <td>NaN</td>\n",
              "      <td>NaN</td>\n",
              "      <td>NaN</td>\n",
              "      <td>NaN</td>\n",
              "      <td>NaN</td>\n",
              "      <td>NaN</td>\n",
              "      <td>NaN</td>\n",
              "      <td>NaN</td>\n",
              "      <td>...</td>\n",
              "      <td>False</td>\n",
              "      <td>Approved</td>\n",
              "      <td>Solex</td>\n",
              "      <td>Road</td>\n",
              "      <td>medium</td>\n",
              "      <td>medium</td>\n",
              "      <td>416.98</td>\n",
              "      <td>312.735016</td>\n",
              "      <td>42218.0</td>\n",
              "      <td>104.244984</td>\n",
              "    </tr>\n",
              "    <tr>\n",
              "      <th>16232</th>\n",
              "      <td>5034</td>\n",
              "      <td>NaN</td>\n",
              "      <td>NaN</td>\n",
              "      <td>NaN</td>\n",
              "      <td>NaN</td>\n",
              "      <td>NaN</td>\n",
              "      <td>NaN</td>\n",
              "      <td>NaN</td>\n",
              "      <td>NaN</td>\n",
              "      <td>NaN</td>\n",
              "      <td>...</td>\n",
              "      <td>False</td>\n",
              "      <td>Approved</td>\n",
              "      <td>Norco Bicycles</td>\n",
              "      <td>Standard</td>\n",
              "      <td>medium</td>\n",
              "      <td>medium</td>\n",
              "      <td>360.40</td>\n",
              "      <td>270.299988</td>\n",
              "      <td>35667.0</td>\n",
              "      <td>90.100012</td>\n",
              "    </tr>\n",
              "    <tr>\n",
              "      <th>16977</th>\n",
              "      <td>5034</td>\n",
              "      <td>NaN</td>\n",
              "      <td>NaN</td>\n",
              "      <td>NaN</td>\n",
              "      <td>NaN</td>\n",
              "      <td>NaN</td>\n",
              "      <td>NaN</td>\n",
              "      <td>NaN</td>\n",
              "      <td>NaN</td>\n",
              "      <td>NaN</td>\n",
              "      <td>...</td>\n",
              "      <td>False</td>\n",
              "      <td>Approved</td>\n",
              "      <td>OHM Cycles</td>\n",
              "      <td>Road</td>\n",
              "      <td>medium</td>\n",
              "      <td>medium</td>\n",
              "      <td>742.54</td>\n",
              "      <td>667.400024</td>\n",
              "      <td>33879.0</td>\n",
              "      <td>75.139976</td>\n",
              "    </tr>\n",
              "  </tbody>\n",
              "</table>\n",
              "<p>3 rows × 31 columns</p>\n",
              "</div>\n",
              "      <button class=\"colab-df-convert\" onclick=\"convertToInteractive('df-7c71c66b-4035-4b5c-97d5-1fe35690b315')\"\n",
              "              title=\"Convert this dataframe to an interactive table.\"\n",
              "              style=\"display:none;\">\n",
              "        \n",
              "  <svg xmlns=\"http://www.w3.org/2000/svg\" height=\"24px\"viewBox=\"0 0 24 24\"\n",
              "       width=\"24px\">\n",
              "    <path d=\"M0 0h24v24H0V0z\" fill=\"none\"/>\n",
              "    <path d=\"M18.56 5.44l.94 2.06.94-2.06 2.06-.94-2.06-.94-.94-2.06-.94 2.06-2.06.94zm-11 1L8.5 8.5l.94-2.06 2.06-.94-2.06-.94L8.5 2.5l-.94 2.06-2.06.94zm10 10l.94 2.06.94-2.06 2.06-.94-2.06-.94-.94-2.06-.94 2.06-2.06.94z\"/><path d=\"M17.41 7.96l-1.37-1.37c-.4-.4-.92-.59-1.43-.59-.52 0-1.04.2-1.43.59L10.3 9.45l-7.72 7.72c-.78.78-.78 2.05 0 2.83L4 21.41c.39.39.9.59 1.41.59.51 0 1.02-.2 1.41-.59l7.78-7.78 2.81-2.81c.8-.78.8-2.07 0-2.86zM5.41 20L4 18.59l7.72-7.72 1.47 1.35L5.41 20z\"/>\n",
              "  </svg>\n",
              "      </button>\n",
              "      \n",
              "  <style>\n",
              "    .colab-df-container {\n",
              "      display:flex;\n",
              "      flex-wrap:wrap;\n",
              "      gap: 12px;\n",
              "    }\n",
              "\n",
              "    .colab-df-convert {\n",
              "      background-color: #E8F0FE;\n",
              "      border: none;\n",
              "      border-radius: 50%;\n",
              "      cursor: pointer;\n",
              "      display: none;\n",
              "      fill: #1967D2;\n",
              "      height: 32px;\n",
              "      padding: 0 0 0 0;\n",
              "      width: 32px;\n",
              "    }\n",
              "\n",
              "    .colab-df-convert:hover {\n",
              "      background-color: #E2EBFA;\n",
              "      box-shadow: 0px 1px 2px rgba(60, 64, 67, 0.3), 0px 1px 3px 1px rgba(60, 64, 67, 0.15);\n",
              "      fill: #174EA6;\n",
              "    }\n",
              "\n",
              "    [theme=dark] .colab-df-convert {\n",
              "      background-color: #3B4455;\n",
              "      fill: #D2E3FC;\n",
              "    }\n",
              "\n",
              "    [theme=dark] .colab-df-convert:hover {\n",
              "      background-color: #434B5C;\n",
              "      box-shadow: 0px 1px 3px 1px rgba(0, 0, 0, 0.15);\n",
              "      filter: drop-shadow(0px 1px 2px rgba(0, 0, 0, 0.3));\n",
              "      fill: #FFFFFF;\n",
              "    }\n",
              "  </style>\n",
              "\n",
              "      <script>\n",
              "        const buttonEl =\n",
              "          document.querySelector('#df-7c71c66b-4035-4b5c-97d5-1fe35690b315 button.colab-df-convert');\n",
              "        buttonEl.style.display =\n",
              "          google.colab.kernel.accessAllowed ? 'block' : 'none';\n",
              "\n",
              "        async function convertToInteractive(key) {\n",
              "          const element = document.querySelector('#df-7c71c66b-4035-4b5c-97d5-1fe35690b315');\n",
              "          const dataTable =\n",
              "            await google.colab.kernel.invokeFunction('convertToInteractive',\n",
              "                                                     [key], {});\n",
              "          if (!dataTable) return;\n",
              "\n",
              "          const docLinkHtml = 'Like what you see? Visit the ' +\n",
              "            '<a target=\"_blank\" href=https://colab.research.google.com/notebooks/data_table.ipynb>data table notebook</a>'\n",
              "            + ' to learn more about interactive tables.';\n",
              "          element.innerHTML = '';\n",
              "          dataTable['output_type'] = 'display_data';\n",
              "          await google.colab.output.renderOutput(dataTable, element);\n",
              "          const docLink = document.createElement('div');\n",
              "          docLink.innerHTML = docLinkHtml;\n",
              "          element.appendChild(docLink);\n",
              "        }\n",
              "      </script>\n",
              "    </div>\n",
              "  </div>\n",
              "  "
            ]
          },
          "metadata": {},
          "execution_count": 140
        }
      ]
    },
    {
      "cell_type": "code",
      "source": [
        "tran_cust['customer_id'].astype(int).sort_values().unique()"
      ],
      "metadata": {
        "colab": {
          "base_uri": "https://localhost:8080/"
        },
        "id": "t_qcPbbQo9Tw",
        "outputId": "fe1fe15a-48b0-4308-a61a-1fc50518b218"
      },
      "execution_count": 141,
      "outputs": [
        {
          "output_type": "execute_result",
          "data": {
            "text/plain": [
              "array([   1,    2,    3, ..., 3499, 3500, 5034])"
            ]
          },
          "metadata": {},
          "execution_count": 141
        }
      ]
    },
    {
      "cell_type": "markdown",
      "source": [
        "It is impossible to have customer_id 5034 in transactions dataset. It must be mistyped. However, we don't know who purchased the product, so the best way is to remove the records."
      ],
      "metadata": {
        "id": "P9VAtxippq4T"
      }
    },
    {
      "cell_type": "code",
      "source": [
        "tran_cust1 = tran_cust.dropna(subset=['gender'])"
      ],
      "metadata": {
        "id": "Dug5I-E0pqF9"
      },
      "execution_count": 272,
      "outputs": []
    },
    {
      "cell_type": "code",
      "source": [
        "tran_cust1.info()"
      ],
      "metadata": {
        "colab": {
          "base_uri": "https://localhost:8080/"
        },
        "id": "dEsFP8GKr3cB",
        "outputId": "4520ce0a-a0f2-4d53-ab2d-a7c8e2656e97"
      },
      "execution_count": 273,
      "outputs": [
        {
          "output_type": "stream",
          "name": "stdout",
          "text": [
            "<class 'pandas.core.frame.DataFrame'>\n",
            "Int64Index: 19442 entries, 0 to 19444\n",
            "Data columns (total 31 columns):\n",
            " #   Column                               Non-Null Count  Dtype         \n",
            "---  ------                               --------------  -----         \n",
            " 0   customer_id                          19442 non-null  object        \n",
            " 1   address                              19416 non-null  object        \n",
            " 2   postcode                             19416 non-null  object        \n",
            " 3   state                                19416 non-null  object        \n",
            " 4   country                              19416 non-null  object        \n",
            " 5   property_valuation                   19416 non-null  float64       \n",
            " 6   first_name                           19442 non-null  object        \n",
            " 7   last_name                            18816 non-null  object        \n",
            " 8   gender                               19442 non-null  object        \n",
            " 9   past_3_years_bike_related_purchases  19442 non-null  float64       \n",
            " 10  DOB                                  19012 non-null  datetime64[ns]\n",
            " 11  job_title                            19442 non-null  object        \n",
            " 12  job_industry_category                19442 non-null  object        \n",
            " 13  wealth_segment                       19442 non-null  object        \n",
            " 14  deceased_indicator                   19442 non-null  object        \n",
            " 15  owns_car                             19442 non-null  object        \n",
            " 16  tenure                               19012 non-null  float64       \n",
            " 17  Age                                  19012 non-null  float64       \n",
            " 18  transaction_id                       19442 non-null  object        \n",
            " 19  product_id                           19442 non-null  object        \n",
            " 20  transaction_date                     19442 non-null  datetime64[ns]\n",
            " 21  online_order                         19442 non-null  bool          \n",
            " 22  order_status                         19442 non-null  object        \n",
            " 23  brand                                19442 non-null  object        \n",
            " 24  product_line                         19442 non-null  object        \n",
            " 25  product_class                        19442 non-null  object        \n",
            " 26  product_size                         19442 non-null  object        \n",
            " 27  list_price                           19442 non-null  float64       \n",
            " 28  standard_cost                        19442 non-null  float64       \n",
            " 29  product_first_sold_date              19442 non-null  float64       \n",
            " 30  profit                               19442 non-null  float64       \n",
            "dtypes: bool(1), datetime64[ns](2), float64(8), object(20)\n",
            "memory usage: 4.6+ MB\n"
          ]
        }
      ]
    },
    {
      "cell_type": "code",
      "source": [
        "#import required packages\n",
        "import matplotlib.pyplot as plt\n",
        "import seaborn as sns"
      ],
      "metadata": {
        "id": "-wauprf9shl7"
      },
      "execution_count": 274,
      "outputs": []
    },
    {
      "cell_type": "code",
      "source": [
        "#observe the age distribution to decide how to handle the missing values.\n",
        "plt.hist(tran_cust1['Age'], bins=30)\n",
        "plt.title('Age distribution')\n",
        "plt.xlabel('Age')\n",
        "plt.ylabel('Frequency')\n",
        "plt.show()"
      ],
      "metadata": {
        "colab": {
          "base_uri": "https://localhost:8080/",
          "height": 472
        },
        "id": "Lqb8icQOsZQu",
        "outputId": "2249e0e7-0946-4b1d-e7e7-e6957f0b6933"
      },
      "execution_count": 275,
      "outputs": [
        {
          "output_type": "display_data",
          "data": {
            "text/plain": [
              "<Figure size 640x480 with 1 Axes>"
            ],
            "image/png": "[encoded data removed]"
          },
          "metadata": {}
        }
      ]
    },
    {
      "cell_type": "markdown",
      "source": [
        "From the plot, it is rare that people aged over 80. Therefore, I decide to fill the na value with mean. However, I would not include age over 80 in my calculation."
      ],
      "metadata": {
        "id": "vDsil6L4tQsf"
      }
    },
    {
      "cell_type": "code",
      "source": [
        "# get the mean value, excluding age over 80\n",
        "x = tran_cust1[tran_cust1['Age']< 80] \n",
        "mean_age = round(x['Age'].mean())\n",
        "#fill na data with mean \n",
        "tran_cust1['Age'].fillna(mean_age, inplace=True)\n",
        "# change data type of age to integer\n",
        "tran_cust1['Age'].astype(int)\n"
      ],
      "metadata": {
        "colab": {
          "base_uri": "https://localhost:8080/"
        },
        "id": "iQPa-4bl3zj6",
        "outputId": "e0c0a6fc-67a9-4dce-a02b-980f0b28fae5"
      },
      "execution_count": 276,
      "outputs": [
        {
          "output_type": "stream",
          "name": "stderr",
          "text": [
            "<ipython-input-276-621c8b418c0a>:5: SettingWithCopyWarning: \n",
            "A value is trying to be set on a copy of a slice from a DataFrame\n",
            "\n",
            "See the caveats in the documentation: https://pandas.pydata.org/pandas-docs/stable/user_guide/indexing.html#returning-a-view-versus-a-copy\n",
            "  tran_cust1['Age'].fillna(mean_age, inplace=True)\n"
          ]
        },
        {
          "output_type": "execute_result",
          "data": {
            "text/plain": [
              "0        68\n",
              "1        44\n",
              "2        45\n",
              "3        61\n",
              "4        26\n",
              "         ..\n",
              "19440    28\n",
              "19441    48\n",
              "19442    49\n",
              "19443    68\n",
              "19444    26\n",
              "Name: Age, Length: 19442, dtype: int64"
            ]
          },
          "metadata": {},
          "execution_count": 276
        }
      ]
    },
    {
      "cell_type": "code",
      "source": [
        "tran_cust1.info()"
      ],
      "metadata": {
        "colab": {
          "base_uri": "https://localhost:8080/"
        },
        "id": "pAIEIh2s7DaF",
        "outputId": "bf39bb50-d53e-4f00-94ce-f55ed4dad85c"
      },
      "execution_count": 277,
      "outputs": [
        {
          "output_type": "stream",
          "name": "stdout",
          "text": [
            "<class 'pandas.core.frame.DataFrame'>\n",
            "Int64Index: 19442 entries, 0 to 19444\n",
            "Data columns (total 31 columns):\n",
            " #   Column                               Non-Null Count  Dtype         \n",
            "---  ------                               --------------  -----         \n",
            " 0   customer_id                          19442 non-null  object        \n",
            " 1   address                              19416 non-null  object        \n",
            " 2   postcode                             19416 non-null  object        \n",
            " 3   state                                19416 non-null  object        \n",
            " 4   country                              19416 non-null  object        \n",
            " 5   property_valuation                   19416 non-null  float64       \n",
            " 6   first_name                           19442 non-null  object        \n",
            " 7   last_name                            18816 non-null  object        \n",
            " 8   gender                               19442 non-null  object        \n",
            " 9   past_3_years_bike_related_purchases  19442 non-null  float64       \n",
            " 10  DOB                                  19012 non-null  datetime64[ns]\n",
            " 11  job_title                            19442 non-null  object        \n",
            " 12  job_industry_category                19442 non-null  object        \n",
            " 13  wealth_segment                       19442 non-null  object        \n",
            " 14  deceased_indicator                   19442 non-null  object        \n",
            " 15  owns_car                             19442 non-null  object        \n",
            " 16  tenure                               19012 non-null  float64       \n",
            " 17  Age                                  19442 non-null  float64       \n",
            " 18  transaction_id                       19442 non-null  object        \n",
            " 19  product_id                           19442 non-null  object        \n",
            " 20  transaction_date                     19442 non-null  datetime64[ns]\n",
            " 21  online_order                         19442 non-null  bool          \n",
            " 22  order_status                         19442 non-null  object        \n",
            " 23  brand                                19442 non-null  object        \n",
            " 24  product_line                         19442 non-null  object        \n",
            " 25  product_class                        19442 non-null  object        \n",
            " 26  product_size                         19442 non-null  object        \n",
            " 27  list_price                           19442 non-null  float64       \n",
            " 28  standard_cost                        19442 non-null  float64       \n",
            " 29  product_first_sold_date              19442 non-null  float64       \n",
            " 30  profit                               19442 non-null  float64       \n",
            "dtypes: bool(1), datetime64[ns](2), float64(8), object(20)\n",
            "memory usage: 4.6+ MB\n"
          ]
        }
      ]
    },
    {
      "cell_type": "code",
      "source": [
        "print(tran_cust1['state'].value_counts())\n",
        "x= tran_cust1[tran_cust1[['state']].isna().any(axis=1)]\n",
        "print(str(len(x)) +' of rows are missing data')"
      ],
      "metadata": {
        "colab": {
          "base_uri": "https://localhost:8080/"
        },
        "id": "Y2ZRCeM68twA",
        "outputId": "05a22746-b0f5-4de1-9946-5764f5624db8"
      },
      "execution_count": 278,
      "outputs": [
        {
          "output_type": "stream",
          "name": "stdout",
          "text": [
            "NSW    10364\n",
            "VIC     4908\n",
            "QLD     4144\n",
            "Name: state, dtype: int64\n",
            "26 of rows are missing data\n"
          ]
        }
      ]
    },
    {
      "cell_type": "code",
      "source": [
        "tran_cust1['country'].unique()"
      ],
      "metadata": {
        "colab": {
          "base_uri": "https://localhost:8080/"
        },
        "id": "1UHBUCjZ_PG3",
        "outputId": "6175e4a1-4b63-4498-f828-6ed9fb8ea12d"
      },
      "execution_count": 279,
      "outputs": [
        {
          "output_type": "execute_result",
          "data": {
            "text/plain": [
              "array(['Australia', nan], dtype=object)"
            ]
          },
          "metadata": {},
          "execution_count": 279
        }
      ]
    },
    {
      "cell_type": "markdown",
      "source": [
        "In the dataset, the country data is all Australia. Therefore, it is useless to make it as a feature in the model. For the state data, there are three states overall. I remove the rows that contain missing values in state column because the number of missing data is 26, too small to affect the result."
      ],
      "metadata": {
        "id": "zlihCWum8GiL"
      }
    },
    {
      "cell_type": "code",
      "source": [
        "# remove country feature\n",
        "tran_cust1.drop(columns=['country'], inplace=True)\n",
        "tran_cust1.dropna(subset=['state'], inplace=True)"
      ],
      "metadata": {
        "colab": {
          "base_uri": "https://localhost:8080/"
        },
        "id": "RzWt5dpE8Q8h",
        "outputId": "470c2651-f037-4e79-febc-847e46420840"
      },
      "execution_count": 280,
      "outputs": [
        {
          "output_type": "stream",
          "name": "stderr",
          "text": [
            "<ipython-input-280-2dc3b10c46c6>:2: SettingWithCopyWarning: \n",
            "A value is trying to be set on a copy of a slice from a DataFrame\n",
            "\n",
            "See the caveats in the documentation: https://pandas.pydata.org/pandas-docs/stable/user_guide/indexing.html#returning-a-view-versus-a-copy\n",
            "  tran_cust1.drop(columns=['country'], inplace=True)\n",
            "<ipython-input-280-2dc3b10c46c6>:3: SettingWithCopyWarning: \n",
            "A value is trying to be set on a copy of a slice from a DataFrame\n",
            "\n",
            "See the caveats in the documentation: https://pandas.pydata.org/pandas-docs/stable/user_guide/indexing.html#returning-a-view-versus-a-copy\n",
            "  tran_cust1.dropna(subset=['state'], inplace=True)\n"
          ]
        }
      ]
    },
    {
      "cell_type": "code",
      "source": [
        "tran_cust1.info()"
      ],
      "metadata": {
        "colab": {
          "base_uri": "https://localhost:8080/"
        },
        "id": "xvWEPdEk_jEE",
        "outputId": "04e1948e-1548-4c0e-89f4-365f50609c46"
      },
      "execution_count": 281,
      "outputs": [
        {
          "output_type": "stream",
          "name": "stdout",
          "text": [
            "<class 'pandas.core.frame.DataFrame'>\n",
            "Int64Index: 19416 entries, 0 to 19444\n",
            "Data columns (total 30 columns):\n",
            " #   Column                               Non-Null Count  Dtype         \n",
            "---  ------                               --------------  -----         \n",
            " 0   customer_id                          19416 non-null  object        \n",
            " 1   address                              19416 non-null  object        \n",
            " 2   postcode                             19416 non-null  object        \n",
            " 3   state                                19416 non-null  object        \n",
            " 4   property_valuation                   19416 non-null  float64       \n",
            " 5   first_name                           19416 non-null  object        \n",
            " 6   last_name                            18790 non-null  object        \n",
            " 7   gender                               19416 non-null  object        \n",
            " 8   past_3_years_bike_related_purchases  19416 non-null  float64       \n",
            " 9   DOB                                  18986 non-null  datetime64[ns]\n",
            " 10  job_title                            19416 non-null  object        \n",
            " 11  job_industry_category                19416 non-null  object        \n",
            " 12  wealth_segment                       19416 non-null  object        \n",
            " 13  deceased_indicator                   19416 non-null  object        \n",
            " 14  owns_car                             19416 non-null  object        \n",
            " 15  tenure                               18986 non-null  float64       \n",
            " 16  Age                                  19416 non-null  float64       \n",
            " 17  transaction_id                       19416 non-null  object        \n",
            " 18  product_id                           19416 non-null  object        \n",
            " 19  transaction_date                     19416 non-null  datetime64[ns]\n",
            " 20  online_order                         19416 non-null  bool          \n",
            " 21  order_status                         19416 non-null  object        \n",
            " 22  brand                                19416 non-null  object        \n",
            " 23  product_line                         19416 non-null  object        \n",
            " 24  product_class                        19416 non-null  object        \n",
            " 25  product_size                         19416 non-null  object        \n",
            " 26  list_price                           19416 non-null  float64       \n",
            " 27  standard_cost                        19416 non-null  float64       \n",
            " 28  product_first_sold_date              19416 non-null  float64       \n",
            " 29  profit                               19416 non-null  float64       \n",
            "dtypes: bool(1), datetime64[ns](2), float64(8), object(19)\n",
            "memory usage: 4.5+ MB\n"
          ]
        }
      ]
    },
    {
      "cell_type": "code",
      "source": [
        "# check how many unique postcode in the data\n",
        "len(tran_cust1['postcode'].unique())"
      ],
      "metadata": {
        "colab": {
          "base_uri": "https://localhost:8080/"
        },
        "id": "i1goXMELroW_",
        "outputId": "9ba79fbe-4811-4daa-f1e3-602d08655555"
      },
      "execution_count": 282,
      "outputs": [
        {
          "output_type": "execute_result",
          "data": {
            "text/plain": [
              "835"
            ]
          },
          "metadata": {},
          "execution_count": 282
        }
      ]
    },
    {
      "cell_type": "code",
      "source": [
        "x= tran_cust1[tran_cust1[['tenure']].isna().any(axis=1)]\n",
        "x['job_title'].unique()\n",
        "len(x)\n",
        "# 430 rows of tenure is na\n",
        "# Assumption: customers who don't fill their tenure is because the tenure for the job title is 0\n",
        "\n",
        "# fill na in tenure with 0\n",
        "tran_cust1['tenure'].fillna(0, inplace=True)"
      ],
      "metadata": {
        "colab": {
          "base_uri": "https://localhost:8080/"
        },
        "id": "dO0QWmAvsdP2",
        "outputId": "c20f6f26-12fa-49f6-d638-d017bd5f8221"
      },
      "execution_count": 283,
      "outputs": [
        {
          "output_type": "stream",
          "name": "stderr",
          "text": [
            "<ipython-input-283-1eaf4f854403>:8: SettingWithCopyWarning: \n",
            "A value is trying to be set on a copy of a slice from a DataFrame\n",
            "\n",
            "See the caveats in the documentation: https://pandas.pydata.org/pandas-docs/stable/user_guide/indexing.html#returning-a-view-versus-a-copy\n",
            "  tran_cust1['tenure'].fillna(0, inplace=True)\n"
          ]
        }
      ]
    },
    {
      "cell_type": "code",
      "source": [
        "tran_cust1['order_status'].value_counts()"
      ],
      "metadata": {
        "colab": {
          "base_uri": "https://localhost:8080/"
        },
        "id": "bmg9bFDZvP_H",
        "outputId": "062926cb-2270-4c5f-9e12-ae885c0579b9"
      },
      "execution_count": 284,
      "outputs": [
        {
          "output_type": "execute_result",
          "data": {
            "text/plain": [
              "Approved     19245\n",
              "Cancelled      171\n",
              "Name: order_status, dtype: int64"
            ]
          },
          "metadata": {},
          "execution_count": 284
        }
      ]
    },
    {
      "cell_type": "code",
      "source": [
        "tran_cust1['online_order'].value_counts()"
      ],
      "metadata": {
        "colab": {
          "base_uri": "https://localhost:8080/"
        },
        "id": "VXfFIQx5vhbA",
        "outputId": "4ed6cf48-4b25-4705-f15b-012efc44d698"
      },
      "execution_count": 285,
      "outputs": [
        {
          "output_type": "execute_result",
          "data": {
            "text/plain": [
              "True     9729\n",
              "False    9687\n",
              "Name: online_order, dtype: int64"
            ]
          },
          "metadata": {},
          "execution_count": 285
        }
      ]
    },
    {
      "cell_type": "code",
      "source": [
        "len(tran_cust1['product_first_sold_date'].unique())"
      ],
      "metadata": {
        "colab": {
          "base_uri": "https://localhost:8080/"
        },
        "id": "gB-4pLSxvs4C",
        "outputId": "455f39a1-05cc-4d36-d832-d1a080280afe"
      },
      "execution_count": 286,
      "outputs": [
        {
          "output_type": "execute_result",
          "data": {
            "text/plain": [
              "100"
            ]
          },
          "metadata": {},
          "execution_count": 286
        }
      ]
    },
    {
      "cell_type": "code",
      "source": [
        "# check data duplication\n",
        "print(tran_cust1.duplicated().sum())\n",
        "tran_cust1.info()\n"
      ],
      "metadata": {
        "colab": {
          "base_uri": "https://localhost:8080/"
        },
        "id": "pvDqsW-vq8fK",
        "outputId": "42e0b240-342b-4c0c-a549-c03d01bee6cb"
      },
      "execution_count": 287,
      "outputs": [
        {
          "output_type": "stream",
          "name": "stdout",
          "text": [
            "0\n",
            "<class 'pandas.core.frame.DataFrame'>\n",
            "Int64Index: 19416 entries, 0 to 19444\n",
            "Data columns (total 30 columns):\n",
            " #   Column                               Non-Null Count  Dtype         \n",
            "---  ------                               --------------  -----         \n",
            " 0   customer_id                          19416 non-null  object        \n",
            " 1   address                              19416 non-null  object        \n",
            " 2   postcode                             19416 non-null  object        \n",
            " 3   state                                19416 non-null  object        \n",
            " 4   property_valuation                   19416 non-null  float64       \n",
            " 5   first_name                           19416 non-null  object        \n",
            " 6   last_name                            18790 non-null  object        \n",
            " 7   gender                               19416 non-null  object        \n",
            " 8   past_3_years_bike_related_purchases  19416 non-null  float64       \n",
            " 9   DOB                                  18986 non-null  datetime64[ns]\n",
            " 10  job_title                            19416 non-null  object        \n",
            " 11  job_industry_category                19416 non-null  object        \n",
            " 12  wealth_segment                       19416 non-null  object        \n",
            " 13  deceased_indicator                   19416 non-null  object        \n",
            " 14  owns_car                             19416 non-null  object        \n",
            " 15  tenure                               19416 non-null  float64       \n",
            " 16  Age                                  19416 non-null  float64       \n",
            " 17  transaction_id                       19416 non-null  object        \n",
            " 18  product_id                           19416 non-null  object        \n",
            " 19  transaction_date                     19416 non-null  datetime64[ns]\n",
            " 20  online_order                         19416 non-null  bool          \n",
            " 21  order_status                         19416 non-null  object        \n",
            " 22  brand                                19416 non-null  object        \n",
            " 23  product_line                         19416 non-null  object        \n",
            " 24  product_class                        19416 non-null  object        \n",
            " 25  product_size                         19416 non-null  object        \n",
            " 26  list_price                           19416 non-null  float64       \n",
            " 27  standard_cost                        19416 non-null  float64       \n",
            " 28  product_first_sold_date              19416 non-null  float64       \n",
            " 29  profit                               19416 non-null  float64       \n",
            "dtypes: bool(1), datetime64[ns](2), float64(8), object(19)\n",
            "memory usage: 4.5+ MB\n"
          ]
        }
      ]
    },
    {
      "cell_type": "markdown",
      "source": [
        "There is no duplicated data"
      ],
      "metadata": {
        "id": "X47DAiQKrVgP"
      }
    },
    {
      "cell_type": "code",
      "source": [
        "# group by customer_id and sum up the profit\n",
        "# tran_cust2 = tran_cust1\n",
        "# tran_cust2['sum_profit']=tran_cust2.groupby('customer_id')['profit'].transform('sum')"
      ],
      "metadata": {
        "colab": {
          "base_uri": "https://localhost:8080/"
        },
        "id": "XJ1hGww-mdYG",
        "outputId": "b25ce93b-4019-45fe-940b-0cb36cfa5f1c"
      },
      "execution_count": 253,
      "outputs": [
        {
          "output_type": "stream",
          "name": "stderr",
          "text": [
            "<ipython-input-253-7be65c9c4b87>:3: SettingWithCopyWarning: \n",
            "A value is trying to be set on a copy of a slice from a DataFrame.\n",
            "Try using .loc[row_indexer,col_indexer] = value instead\n",
            "\n",
            "See the caveats in the documentation: https://pandas.pydata.org/pandas-docs/stable/user_guide/indexing.html#returning-a-view-versus-a-copy\n",
            "  tran_cust2['sum_profit']=tran_cust2.groupby('customer_id')['profit'].transform('sum')\n"
          ]
        }
      ]
    },
    {
      "cell_type": "code",
      "source": [
        "#check whether each customer only has one sum_profit\n",
        "# check_df_counts = tran_cust2.groupby('customer_id')['sum_profit'].nunique()\n",
        "# n_issue_sum_profits = (check_df_counts >1).sum()\n",
        "# print(n_issue_sum_profits) # confirmed that each customer_id only has one sum_profit\n",
        "# print(tran_cust2)"
      ],
      "metadata": {
        "colab": {
          "base_uri": "https://localhost:8080/"
        },
        "id": "XQxB483kmgKX",
        "outputId": "50ea9214-e33f-4b5d-d9f7-dd6605332124"
      },
      "execution_count": 254,
      "outputs": [
        {
          "output_type": "stream",
          "name": "stdout",
          "text": [
            "0\n",
            "      customer_id               address postcode state  property_valuation  \\\n",
            "0            2950     984 Hoepker Court     3064   VIC                 6.0   \n",
            "1            3120       4 Shopko Circle     2196   NSW                 5.0   \n",
            "2             402    586 Miller Parkway     2835   NSW                 1.0   \n",
            "3            3135   1617 Harper Parkway     2096   NSW                10.0   \n",
            "4             787    0601 Stephen Place     2292   NSW                 7.0   \n",
            "...           ...                   ...      ...   ...                 ...   \n",
            "19440        1018         3 Hayes Court     3109   VIC                10.0   \n",
            "19441         127    0 Pearson Crossing     4405   QLD                 1.0   \n",
            "19442        2284  10055 Old Shore Lane     3630   VIC                 1.0   \n",
            "19443        2764       1 Wayridge Park     4301   QLD                 1.0   \n",
            "19444        1144      4439 7th Terrace     2177   NSW                 9.0   \n",
            "\n",
            "      first_name  last_name gender  past_3_years_bike_related_purchases  \\\n",
            "0        Kristos    Anthony      M                                 19.0   \n",
            "1         Lauree  O'Donnell      F                                 89.0   \n",
            "2          Berne    Donegan      M                                  9.0   \n",
            "3          Titus    Worsall      M                                 83.0   \n",
            "4          Norma     Batrim      F                                 29.0   \n",
            "...          ...        ...    ...                                  ...   \n",
            "19440   Matthiew   Ferreras      M                                  1.0   \n",
            "19441    Merrili    Whitear      F                                 81.0   \n",
            "19442        Ola     Lenoir      F                                 83.0   \n",
            "19443     Callie    Coltart      F                                 12.0   \n",
            "19444      Damon     Phelip      M                                 73.0   \n",
            "\n",
            "             DOB  ... order_status           brand product_line product_class  \\\n",
            "0     1955-01-11  ...     Approved           Solex     Standard        medium   \n",
            "1     1979-02-04  ...     Approved   Trek Bicycles     Standard        medium   \n",
            "2     1977-06-03  ...     Approved      OHM Cycles     Standard           low   \n",
            "3     1962-01-14  ...     Approved  Norco Bicycles     Standard        medium   \n",
            "4     1996-12-15  ...     Approved  Giant Bicycles     Standard        medium   \n",
            "...          ...  ...          ...             ...          ...           ...   \n",
            "19440 1994-11-27  ...     Approved      OHM Cycles     Standard          high   \n",
            "19441 1974-12-03  ...     Approved           Solex         Road        medium   \n",
            "19442 1974-02-16  ...     Approved      OHM Cycles     Standard        medium   \n",
            "19443 1955-03-29  ...     Approved      OHM Cycles     Standard          high   \n",
            "19444 1996-12-12  ...     Approved   Trek Bicycles     Standard        medium   \n",
            "\n",
            "      product_size  list_price  standard_cost product_first_sold_date  \\\n",
            "0           medium       71.49          53.62                 41245.0   \n",
            "1            large     2091.47         388.92                 41701.0   \n",
            "2           medium     1793.43         248.82                 36361.0   \n",
            "3           medium     1198.46         381.10                 36145.0   \n",
            "4            large     1765.30         709.48                 42226.0   \n",
            "...            ...         ...            ...                     ...   \n",
            "19440       medium     2005.66        1203.40                 37823.0   \n",
            "19441       medium      416.98         312.74                 35560.0   \n",
            "19442       medium     1636.90          44.71                 40410.0   \n",
            "19443       medium      227.88         136.73                 38216.0   \n",
            "19444        small     1775.81        1580.47                 36334.0   \n",
            "\n",
            "        profit sum_profit  \n",
            "0        17.87     645.99  \n",
            "1      1702.55    4179.11  \n",
            "2      1544.61    4965.43  \n",
            "3       817.36    3983.97  \n",
            "4      1055.82    6646.00  \n",
            "...        ...        ...  \n",
            "19440   802.26    2497.80  \n",
            "19441   104.24    3993.71  \n",
            "19442  1592.19    4735.67  \n",
            "19443    91.15     593.56  \n",
            "19444   195.34    5961.25  \n",
            "\n",
            "[19416 rows x 31 columns]\n"
          ]
        }
      ]
    },
    {
      "cell_type": "code",
      "source": [
        "# remove useless features to build model: postcode, customer_id, first_name, last_name, address, DOB, transaction_id, product_id, transaction_date, online_order, order_status, brand, product_line, product_class, product_size, product_first_sold_date, list_price, standard_cost\n",
        "tran_cust2 = tran_cust1\n",
        "tran_cust2 = tran_cust2.drop(columns=['customer_id','postcode', 'job_title', 'first_name', 'last_name', 'address', 'DOB', 'job_title', 'transaction_id', 'product_id', 'transaction_date', 'online_order', 'order_status', 'brand', 'product_line', 'product_class', 'product_size', 'product_first_sold_date', 'list_price', 'standard_cost'])"
      ],
      "metadata": {
        "id": "iNyFxSg2_ptd"
      },
      "execution_count": 288,
      "outputs": []
    },
    {
      "cell_type": "code",
      "source": [
        "# check the number of duplication\n",
        "# print(tran_cust2.duplicated('customer_id').sum())\n",
        "# print(tran_cust2.duplicated().sum())\n",
        "\n",
        "# remove the duplicated rows\n",
        "# tran_cust2 = tran_cust2.drop_duplicates()\n",
        "\n",
        "#remove customer_id, which is the primary key for data identification \n",
        "# tran_cust2 = tran_cust2.drop(columns=['customer_id'])"
      ],
      "metadata": {
        "colab": {
          "base_uri": "https://localhost:8080/"
        },
        "id": "EjRuxI_ppfeW",
        "outputId": "e703d8e0-5ed5-4ba8-dbf3-b9fa485ced24"
      },
      "execution_count": 256,
      "outputs": [
        {
          "output_type": "stream",
          "name": "stdout",
          "text": [
            "15929\n",
            "15929\n"
          ]
        }
      ]
    },
    {
      "cell_type": "code",
      "source": [
        "tran_cust2.info()"
      ],
      "metadata": {
        "colab": {
          "base_uri": "https://localhost:8080/"
        },
        "id": "0pEiW8c0ybDw",
        "outputId": "c937df51-58ad-4db8-81ca-9481c468d171"
      },
      "execution_count": 289,
      "outputs": [
        {
          "output_type": "stream",
          "name": "stdout",
          "text": [
            "<class 'pandas.core.frame.DataFrame'>\n",
            "Int64Index: 19416 entries, 0 to 19444\n",
            "Data columns (total 11 columns):\n",
            " #   Column                               Non-Null Count  Dtype  \n",
            "---  ------                               --------------  -----  \n",
            " 0   state                                19416 non-null  object \n",
            " 1   property_valuation                   19416 non-null  float64\n",
            " 2   gender                               19416 non-null  object \n",
            " 3   past_3_years_bike_related_purchases  19416 non-null  float64\n",
            " 4   job_industry_category                19416 non-null  object \n",
            " 5   wealth_segment                       19416 non-null  object \n",
            " 6   deceased_indicator                   19416 non-null  object \n",
            " 7   owns_car                             19416 non-null  object \n",
            " 8   tenure                               19416 non-null  float64\n",
            " 9   Age                                  19416 non-null  float64\n",
            " 10  profit                               19416 non-null  float64\n",
            "dtypes: float64(5), object(6)\n",
            "memory usage: 1.8+ MB\n"
          ]
        }
      ]
    },
    {
      "cell_type": "code",
      "source": [
        "print(tran_cust2['deceased_indicator'].unique())\n",
        "print(tran_cust2['owns_car'].unique())"
      ],
      "metadata": {
        "colab": {
          "base_uri": "https://localhost:8080/"
        },
        "id": "H2Cpn5n3Hhw-",
        "outputId": "776113cc-ae76-4ea5-bd2a-a60c09439236"
      },
      "execution_count": 290,
      "outputs": [
        {
          "output_type": "stream",
          "name": "stdout",
          "text": [
            "[False True]\n",
            "[True False]\n"
          ]
        }
      ]
    },
    {
      "cell_type": "code",
      "source": [
        "#change boolean to 1 and 0\n",
        "tran_cust2['owns_car'].replace([True, False], [1,0], inplace=True)\n",
        "tran_cust2['deceased_indicator'].replace([True, False], [1,0], inplace=True)\n",
        "convert_variables = ['owns_car', 'deceased_indicator']\n",
        "tran_cust2[convert_variables] = tran_cust2[convert_variables].astype('uint8')\n",
        "\n",
        "# one hot encoding\n",
        "tran_cust3 = pd.get_dummies(data=tran_cust2, columns=['state', 'gender', 'job_industry_category', 'wealth_segment'])"
      ],
      "metadata": {
        "id": "NkulB28uHENd"
      },
      "execution_count": 291,
      "outputs": []
    },
    {
      "cell_type": "code",
      "source": [
        "tran_cust3.info()"
      ],
      "metadata": {
        "colab": {
          "base_uri": "https://localhost:8080/"
        },
        "id": "Nd-r1pfYIPF4",
        "outputId": "84b00cce-98c6-45f3-bc4e-978fef9c1ef5"
      },
      "execution_count": 292,
      "outputs": [
        {
          "output_type": "stream",
          "name": "stdout",
          "text": [
            "<class 'pandas.core.frame.DataFrame'>\n",
            "Int64Index: 19416 entries, 0 to 19444\n",
            "Data columns (total 26 columns):\n",
            " #   Column                                    Non-Null Count  Dtype  \n",
            "---  ------                                    --------------  -----  \n",
            " 0   property_valuation                        19416 non-null  float64\n",
            " 1   past_3_years_bike_related_purchases       19416 non-null  float64\n",
            " 2   deceased_indicator                        19416 non-null  uint8  \n",
            " 3   owns_car                                  19416 non-null  uint8  \n",
            " 4   tenure                                    19416 non-null  float64\n",
            " 5   Age                                       19416 non-null  float64\n",
            " 6   profit                                    19416 non-null  float64\n",
            " 7   state_NSW                                 19416 non-null  uint8  \n",
            " 8   state_QLD                                 19416 non-null  uint8  \n",
            " 9   state_VIC                                 19416 non-null  uint8  \n",
            " 10  gender_F                                  19416 non-null  uint8  \n",
            " 11  gender_M                                  19416 non-null  uint8  \n",
            " 12  gender_U                                  19416 non-null  uint8  \n",
            " 13  job_industry_category_Argiculture         19416 non-null  uint8  \n",
            " 14  job_industry_category_Entertainment       19416 non-null  uint8  \n",
            " 15  job_industry_category_Financial Services  19416 non-null  uint8  \n",
            " 16  job_industry_category_Health              19416 non-null  uint8  \n",
            " 17  job_industry_category_IT                  19416 non-null  uint8  \n",
            " 18  job_industry_category_Manufacturing       19416 non-null  uint8  \n",
            " 19  job_industry_category_Property            19416 non-null  uint8  \n",
            " 20  job_industry_category_Retail              19416 non-null  uint8  \n",
            " 21  job_industry_category_Telecommunications  19416 non-null  uint8  \n",
            " 22  job_industry_category_Unknown             19416 non-null  uint8  \n",
            " 23  wealth_segment_Affluent Customer          19416 non-null  uint8  \n",
            " 24  wealth_segment_High Net Worth             19416 non-null  uint8  \n",
            " 25  wealth_segment_Mass Customer              19416 non-null  uint8  \n",
            "dtypes: float64(5), uint8(21)\n",
            "memory usage: 1.3 MB\n"
          ]
        }
      ]
    },
    {
      "cell_type": "code",
      "source": [
        "# import the required packages for building a logistic regression model\n",
        "from sklearn.preprocessing import StandardScaler\n",
        "from sklearn.model_selection import train_test_split\n",
        "from sklearn.linear_model import LogisticRegression\n",
        "from sklearn.linear_model import LinearRegression\n",
        "from sklearn.model_selection import cross_val_score\n",
        "from statsmodels.stats.outliers_influence import variance_inflation_factor\n"
      ],
      "metadata": {
        "id": "3Y-clKCh8TdN"
      },
      "execution_count": 293,
      "outputs": []
    },
    {
      "cell_type": "code",
      "source": [
        "# tran_cust3_data = tran_cust3.drop(columns=['sum_profit'])\n",
        "# tran_cust3_target = tran_cust3[['sum_profit']]\n",
        "tran_cust3_data = tran_cust3.drop(columns=['profit'])\n",
        "tran_cust3_target = tran_cust3[['profit']]"
      ],
      "metadata": {
        "id": "EGVFPur9DcM_"
      },
      "execution_count": 294,
      "outputs": []
    },
    {
      "cell_type": "code",
      "source": [
        "correlation_matrix = tran_cust3_data.corr()\n",
        "print(correlation_matrix)"
      ],
      "metadata": {
        "colab": {
          "base_uri": "https://localhost:8080/"
        },
        "id": "MgDPOmwcOnRv",
        "outputId": "90f8ff11-a77a-4ee9-af30-e694b276cab6"
      },
      "execution_count": 295,
      "outputs": [
        {
          "output_type": "stream",
          "name": "stdout",
          "text": [
            "                                          property_valuation  \\\n",
            "property_valuation                                  1.000000   \n",
            "past_3_years_bike_related_purchases                 0.011852   \n",
            "deceased_indicator                                 -0.032482   \n",
            "owns_car                                            0.053132   \n",
            "tenure                                             -0.017514   \n",
            "Age                                                 0.013623   \n",
            "state_NSW                                           0.340006   \n",
            "state_QLD                                          -0.369157   \n",
            "state_VIC                                          -0.042245   \n",
            "gender_F                                            0.014334   \n",
            "gender_M                                           -0.013766   \n",
            "gender_U                                           -0.001966   \n",
            "job_industry_category_Argiculture                  -0.008258   \n",
            "job_industry_category_Entertainment                 0.005577   \n",
            "job_industry_category_Financial Services           -0.000779   \n",
            "job_industry_category_Health                        0.042335   \n",
            "job_industry_category_IT                           -0.003605   \n",
            "job_industry_category_Manufacturing                -0.025851   \n",
            "job_industry_category_Property                     -0.001662   \n",
            "job_industry_category_Retail                       -0.036501   \n",
            "job_industry_category_Telecommunications           -0.016415   \n",
            "job_industry_category_Unknown                       0.025708   \n",
            "wealth_segment_Affluent Customer                    0.042901   \n",
            "wealth_segment_High Net Worth                      -0.027069   \n",
            "wealth_segment_Mass Customer                       -0.013192   \n",
            "\n",
            "                                          past_3_years_bike_related_purchases  \\\n",
            "property_valuation                                                   0.011852   \n",
            "past_3_years_bike_related_purchases                                  1.000000   \n",
            "deceased_indicator                                                   0.023589   \n",
            "owns_car                                                             0.002741   \n",
            "tenure                                                              -0.011176   \n",
            "Age                                                                 -0.037431   \n",
            "state_NSW                                                            0.015073   \n",
            "state_QLD                                                            0.002569   \n",
            "state_VIC                                                           -0.019724   \n",
            "gender_F                                                            -0.018702   \n",
            "gender_M                                                             0.028849   \n",
            "gender_U                                                            -0.034055   \n",
            "job_industry_category_Argiculture                                    0.019049   \n",
            "job_industry_category_Entertainment                                 -0.018932   \n",
            "job_industry_category_Financial Services                             0.002907   \n",
            "job_industry_category_Health                                         0.021673   \n",
            "job_industry_category_IT                                            -0.019327   \n",
            "job_industry_category_Manufacturing                                 -0.009076   \n",
            "job_industry_category_Property                                       0.005717   \n",
            "job_industry_category_Retail                                        -0.000285   \n",
            "job_industry_category_Telecommunications                            -0.032625   \n",
            "job_industry_category_Unknown                                        0.006317   \n",
            "wealth_segment_Affluent Customer                                     0.013406   \n",
            "wealth_segment_High Net Worth                                       -0.019671   \n",
            "wealth_segment_Mass Customer                                         0.005655   \n",
            "\n",
            "                                          deceased_indicator  owns_car  \\\n",
            "property_valuation                                 -0.032482  0.053132   \n",
            "past_3_years_bike_related_purchases                 0.023589  0.002741   \n",
            "deceased_indicator                                  1.000000  0.020151   \n",
            "owns_car                                            0.020151  1.000000   \n",
            "tenure                                             -0.015470 -0.010836   \n",
            "Age                                                 0.012242 -0.006352   \n",
            "state_NSW                                           0.018974  0.022308   \n",
            "state_QLD                                          -0.010576 -0.004169   \n",
            "state_VIC                                          -0.011809 -0.021676   \n",
            "gender_F                                            0.020244  0.012855   \n",
            "gender_M                                           -0.019350 -0.017893   \n",
            "gender_U                                           -0.003084  0.016894   \n",
            "job_industry_category_Argiculture                  -0.003496  0.013798   \n",
            "job_industry_category_Entertainment                -0.003886 -0.034359   \n",
            "job_industry_category_Financial Services           -0.009963  0.036162   \n",
            "job_industry_category_Health                        0.047344 -0.002372   \n",
            "job_industry_category_IT                           -0.004832  0.012158   \n",
            "job_industry_category_Manufacturing                -0.010174 -0.014184   \n",
            "job_industry_category_Property                     -0.005328  0.011243   \n",
            "job_industry_category_Retail                       -0.006326 -0.005245   \n",
            "job_industry_category_Telecommunications           -0.002755 -0.007592   \n",
            "job_industry_category_Unknown                      -0.008899 -0.018285   \n",
            "wealth_segment_Affluent Customer                    0.035845  0.027929   \n",
            "wealth_segment_High Net Worth                      -0.011884 -0.002393   \n",
            "wealth_segment_Mass Customer                       -0.020380 -0.021867   \n",
            "\n",
            "                                            tenure       Age  state_NSW  \\\n",
            "property_valuation                       -0.017514  0.013623   0.340006   \n",
            "past_3_years_bike_related_purchases      -0.011176 -0.037431   0.015073   \n",
            "deceased_indicator                       -0.015470  0.012242   0.018974   \n",
            "owns_car                                 -0.010836 -0.006352   0.022308   \n",
            "tenure                                    1.000000  0.424695  -0.010809   \n",
            "Age                                       0.424695  1.000000  -0.012389   \n",
            "state_NSW                                -0.010809 -0.012389   1.000000   \n",
            "state_QLD                                 0.014387 -0.007286  -0.557383   \n",
            "state_VIC                                -0.001157  0.021089  -0.622358   \n",
            "gender_F                                  0.043737  0.006538   0.010749   \n",
            "gender_M                                  0.034284 -0.014127  -0.010182   \n",
            "gender_U                                 -0.262576  0.025497  -0.001946   \n",
            "job_industry_category_Argiculture         0.005257 -0.014917  -0.001474   \n",
            "job_industry_category_Entertainment       0.027622  0.004529  -0.025824   \n",
            "job_industry_category_Financial Services -0.010212 -0.052505  -0.008434   \n",
            "job_industry_category_Health              0.023990  0.019973   0.023401   \n",
            "job_industry_category_IT                 -0.115405  0.018538   0.015276   \n",
            "job_industry_category_Manufacturing       0.003588  0.004444  -0.030459   \n",
            "job_industry_category_Property            0.052462  0.022216   0.013975   \n",
            "job_industry_category_Retail             -0.001698 -0.014148   0.004710   \n",
            "job_industry_category_Telecommunications  0.037699  0.000625  -0.002603   \n",
            "job_industry_category_Unknown            -0.009497  0.020977   0.011452   \n",
            "wealth_segment_Affluent Customer         -0.007784 -0.006302  -0.003211   \n",
            "wealth_segment_High Net Worth             0.009204  0.005910   0.009493   \n",
            "wealth_segment_Mass Customer             -0.001349  0.000252  -0.005524   \n",
            "\n",
            "                                          state_QLD  state_VIC  gender_F  ...  \\\n",
            "property_valuation                        -0.369157  -0.042245  0.014334  ...   \n",
            "past_3_years_bike_related_purchases        0.002569  -0.019724 -0.018702  ...   \n",
            "deceased_indicator                        -0.010576  -0.011809  0.020244  ...   \n",
            "owns_car                                  -0.004169  -0.021676  0.012855  ...   \n",
            "tenure                                     0.014387  -0.001157  0.043737  ...   \n",
            "Age                                       -0.007286   0.021089  0.006538  ...   \n",
            "state_NSW                                 -0.557383  -0.622358  0.010749  ...   \n",
            "state_QLD                                  1.000000  -0.302978 -0.012061  ...   \n",
            "state_VIC                                 -0.302978   1.000000 -0.000967  ...   \n",
            "gender_F                                  -0.012061  -0.000967  1.000000  ...   \n",
            "gender_M                                   0.013707  -0.001235 -0.955850  ...   \n",
            "gender_U                                  -0.005488   0.007408 -0.152358  ...   \n",
            "job_industry_category_Argiculture          0.047878  -0.043447  0.018292  ...   \n",
            "job_industry_category_Entertainment        0.011974   0.018353 -0.012827  ...   \n",
            "job_industry_category_Financial Services   0.034896  -0.023217 -0.004541  ...   \n",
            "job_industry_category_Health              -0.050566   0.020812  0.000185  ...   \n",
            "job_industry_category_IT                  -0.027446   0.008341 -0.079112  ...   \n",
            "job_industry_category_Manufacturing        0.012633   0.023052  0.021572  ...   \n",
            "job_industry_category_Property            -0.018433   0.001337  0.004487  ...   \n",
            "job_industry_category_Retail               0.020504  -0.024736 -0.000899  ...   \n",
            "job_industry_category_Telecommunications   0.004798  -0.001535 -0.003870  ...   \n",
            "job_industry_category_Unknown             -0.017720   0.003561  0.026892  ...   \n",
            "wealth_segment_Affluent Customer           0.002771   0.001073 -0.014845  ...   \n",
            "wealth_segment_High Net Worth             -0.000160  -0.010745 -0.007004  ...   \n",
            "wealth_segment_Mass Customer              -0.002237   0.008449  0.018840  ...   \n",
            "\n",
            "                                          job_industry_category_Health  \\\n",
            "property_valuation                                            0.042335   \n",
            "past_3_years_bike_related_purchases                           0.021673   \n",
            "deceased_indicator                                            0.047344   \n",
            "owns_car                                                     -0.002372   \n",
            "tenure                                                        0.023990   \n",
            "Age                                                           0.019973   \n",
            "state_NSW                                                     0.023401   \n",
            "state_QLD                                                    -0.050566   \n",
            "state_VIC                                                     0.020812   \n",
            "gender_F                                                      0.000185   \n",
            "gender_M                                                      0.012352   \n",
            "gender_U                                                     -0.042168   \n",
            "job_industry_category_Argiculture                            -0.073835   \n",
            "job_industry_category_Entertainment                          -0.082070   \n",
            "job_industry_category_Financial Services                     -0.210436   \n",
            "job_industry_category_Health                                  1.000000   \n",
            "job_industry_category_IT                                     -0.102072   \n",
            "job_industry_category_Manufacturing                          -0.214895   \n",
            "job_industry_category_Property                               -0.112539   \n",
            "job_industry_category_Retail                                 -0.133611   \n",
            "job_industry_category_Telecommunications                     -0.058187   \n",
            "job_industry_category_Unknown                                -0.187965   \n",
            "wealth_segment_Affluent Customer                             -0.009802   \n",
            "wealth_segment_High Net Worth                                -0.003486   \n",
            "wealth_segment_Mass Customer                                  0.011447   \n",
            "\n",
            "                                          job_industry_category_IT  \\\n",
            "property_valuation                                       -0.003605   \n",
            "past_3_years_bike_related_purchases                      -0.019327   \n",
            "deceased_indicator                                       -0.004832   \n",
            "owns_car                                                  0.012158   \n",
            "tenure                                                   -0.115405   \n",
            "Age                                                       0.018538   \n",
            "state_NSW                                                 0.015276   \n",
            "state_QLD                                                -0.027446   \n",
            "state_VIC                                                 0.008341   \n",
            "gender_F                                                 -0.079112   \n",
            "gender_M                                                 -0.076233   \n",
            "gender_U                                                  0.522780   \n",
            "job_industry_category_Argiculture                        -0.040981   \n",
            "job_industry_category_Entertainment                      -0.045552   \n",
            "job_industry_category_Financial Services                 -0.116799   \n",
            "job_industry_category_Health                             -0.102072   \n",
            "job_industry_category_IT                                  1.000000   \n",
            "job_industry_category_Manufacturing                      -0.119274   \n",
            "job_industry_category_Property                           -0.062463   \n",
            "job_industry_category_Retail                             -0.074159   \n",
            "job_industry_category_Telecommunications                 -0.032296   \n",
            "job_industry_category_Unknown                            -0.104326   \n",
            "wealth_segment_Affluent Customer                         -0.000454   \n",
            "wealth_segment_High Net Worth                             0.002273   \n",
            "wealth_segment_Mass Customer                             -0.001593   \n",
            "\n",
            "                                          job_industry_category_Manufacturing  \\\n",
            "property_valuation                                                  -0.025851   \n",
            "past_3_years_bike_related_purchases                                 -0.009076   \n",
            "deceased_indicator                                                  -0.010174   \n",
            "owns_car                                                            -0.014184   \n",
            "tenure                                                               0.003588   \n",
            "Age                                                                  0.004444   \n",
            "state_NSW                                                           -0.030459   \n",
            "state_QLD                                                            0.012633   \n",
            "state_VIC                                                            0.023052   \n",
            "gender_F                                                             0.021572   \n",
            "gender_M                                                            -0.002567   \n",
            "gender_U                                                            -0.064005   \n",
            "job_industry_category_Argiculture                                   -0.086279   \n",
            "job_industry_category_Entertainment                                 -0.095902   \n",
            "job_industry_category_Financial Services                            -0.245900   \n",
            "job_industry_category_Health                                        -0.214895   \n",
            "job_industry_category_IT                                            -0.119274   \n",
            "job_industry_category_Manufacturing                                  1.000000   \n",
            "job_industry_category_Property                                      -0.131506   \n",
            "job_industry_category_Retail                                        -0.156129   \n",
            "job_industry_category_Telecommunications                            -0.067994   \n",
            "job_industry_category_Unknown                                       -0.219642   \n",
            "wealth_segment_Affluent Customer                                     0.037017   \n",
            "wealth_segment_High Net Worth                                       -0.041151   \n",
            "wealth_segment_Mass Customer                                         0.004134   \n",
            "\n",
            "                                          job_industry_category_Property  \\\n",
            "property_valuation                                             -0.001662   \n",
            "past_3_years_bike_related_purchases                             0.005717   \n",
            "deceased_indicator                                             -0.005328   \n",
            "owns_car                                                        0.011243   \n",
            "tenure                                                          0.052462   \n",
            "Age                                                             0.022216   \n",
            "state_NSW                                                       0.013975   \n",
            "state_QLD                                                      -0.018433   \n",
            "state_VIC                                                       0.001337   \n",
            "gender_F                                                        0.004487   \n",
            "gender_M                                                        0.007361   \n",
            "gender_U                                                       -0.039868   \n",
            "job_industry_category_Argiculture                              -0.045184   \n",
            "job_industry_category_Entertainment                            -0.050223   \n",
            "job_industry_category_Financial Services                       -0.128777   \n",
            "job_industry_category_Health                                   -0.112539   \n",
            "job_industry_category_IT                                       -0.062463   \n",
            "job_industry_category_Manufacturing                            -0.131506   \n",
            "job_industry_category_Property                                  1.000000   \n",
            "job_industry_category_Retail                                   -0.081764   \n",
            "job_industry_category_Telecommunications                       -0.035608   \n",
            "job_industry_category_Unknown                                  -0.115025   \n",
            "wealth_segment_Affluent Customer                               -0.024390   \n",
            "wealth_segment_High Net Worth                                   0.023934   \n",
            "wealth_segment_Mass Customer                                    0.000049   \n",
            "\n",
            "                                          job_industry_category_Retail  \\\n",
            "property_valuation                                           -0.036501   \n",
            "past_3_years_bike_related_purchases                          -0.000285   \n",
            "deceased_indicator                                           -0.006326   \n",
            "owns_car                                                     -0.005245   \n",
            "tenure                                                       -0.001698   \n",
            "Age                                                          -0.014148   \n",
            "state_NSW                                                     0.004710   \n",
            "state_QLD                                                     0.020504   \n",
            "state_VIC                                                    -0.024736   \n",
            "gender_F                                                     -0.000899   \n",
            "gender_M                                                      0.014973   \n",
            "gender_U                                                     -0.047333   \n",
            "job_industry_category_Argiculture                            -0.053644   \n",
            "job_industry_category_Entertainment                          -0.059627   \n",
            "job_industry_category_Financial Services                     -0.152889   \n",
            "job_industry_category_Health                                 -0.133611   \n",
            "job_industry_category_IT                                     -0.074159   \n",
            "job_industry_category_Manufacturing                          -0.156129   \n",
            "job_industry_category_Property                               -0.081764   \n",
            "job_industry_category_Retail                                  1.000000   \n",
            "job_industry_category_Telecommunications                     -0.042275   \n",
            "job_industry_category_Unknown                                -0.136563   \n",
            "wealth_segment_Affluent Customer                             -0.006043   \n",
            "wealth_segment_High Net Worth                                 0.006474   \n",
            "wealth_segment_Mass Customer                                 -0.000462   \n",
            "\n",
            "                                          job_industry_category_Telecommunications  \\\n",
            "property_valuation                                                       -0.016415   \n",
            "past_3_years_bike_related_purchases                                      -0.032625   \n",
            "deceased_indicator                                                       -0.002755   \n",
            "owns_car                                                                 -0.007592   \n",
            "tenure                                                                    0.037699   \n",
            "Age                                                                       0.000625   \n",
            "state_NSW                                                                -0.002603   \n",
            "state_QLD                                                                 0.004798   \n",
            "state_VIC                                                                -0.001535   \n",
            "gender_F                                                                 -0.003870   \n",
            "gender_M                                                                  0.010004   \n",
            "gender_U                                                                 -0.020613   \n",
            "job_industry_category_Argiculture                                        -0.023362   \n",
            "job_industry_category_Entertainment                                      -0.025967   \n",
            "job_industry_category_Financial Services                                 -0.066583   \n",
            "job_industry_category_Health                                             -0.058187   \n",
            "job_industry_category_IT                                                 -0.032296   \n",
            "job_industry_category_Manufacturing                                      -0.067994   \n",
            "job_industry_category_Property                                           -0.035608   \n",
            "job_industry_category_Retail                                             -0.042275   \n",
            "job_industry_category_Telecommunications                                  1.000000   \n",
            "job_industry_category_Unknown                                            -0.059473   \n",
            "wealth_segment_Affluent Customer                                          0.006080   \n",
            "wealth_segment_High Net Worth                                             0.000376   \n",
            "wealth_segment_Mass Customer                                             -0.005543   \n",
            "\n",
            "                                          job_industry_category_Unknown  \\\n",
            "property_valuation                                             0.025708   \n",
            "past_3_years_bike_related_purchases                            0.006317   \n",
            "deceased_indicator                                            -0.008899   \n",
            "owns_car                                                      -0.018285   \n",
            "tenure                                                        -0.009497   \n",
            "Age                                                            0.020977   \n",
            "state_NSW                                                      0.011452   \n",
            "state_QLD                                                     -0.017720   \n",
            "state_VIC                                                      0.003561   \n",
            "gender_F                                                       0.026892   \n",
            "gender_M                                                      -0.007125   \n",
            "gender_U                                                      -0.066588   \n",
            "job_industry_category_Argiculture                             -0.075466   \n",
            "job_industry_category_Entertainment                           -0.083883   \n",
            "job_industry_category_Financial Services                      -0.215084   \n",
            "job_industry_category_Health                                  -0.187965   \n",
            "job_industry_category_IT                                      -0.104326   \n",
            "job_industry_category_Manufacturing                           -0.219642   \n",
            "job_industry_category_Property                                -0.115025   \n",
            "job_industry_category_Retail                                  -0.136563   \n",
            "job_industry_category_Telecommunications                      -0.059473   \n",
            "job_industry_category_Unknown                                  1.000000   \n",
            "wealth_segment_Affluent Customer                              -0.002943   \n",
            "wealth_segment_High Net Worth                                  0.004972   \n",
            "wealth_segment_Mass Customer                                  -0.001811   \n",
            "\n",
            "                                          wealth_segment_Affluent Customer  \\\n",
            "property_valuation                                                0.042901   \n",
            "past_3_years_bike_related_purchases                               0.013406   \n",
            "deceased_indicator                                                0.035845   \n",
            "owns_car                                                          0.027929   \n",
            "tenure                                                           -0.007784   \n",
            "Age                                                              -0.006302   \n",
            "state_NSW                                                        -0.003211   \n",
            "state_QLD                                                         0.002771   \n",
            "state_VIC                                                         0.001073   \n",
            "gender_F                                                         -0.014845   \n",
            "gender_M                                                          0.019043   \n",
            "gender_U                                                         -0.014063   \n",
            "job_industry_category_Argiculture                                -0.020669   \n",
            "job_industry_category_Entertainment                              -0.020573   \n",
            "job_industry_category_Financial Services                          0.010259   \n",
            "job_industry_category_Health                                     -0.009802   \n",
            "job_industry_category_IT                                         -0.000454   \n",
            "job_industry_category_Manufacturing                               0.037017   \n",
            "job_industry_category_Property                                   -0.024390   \n",
            "job_industry_category_Retail                                     -0.006043   \n",
            "job_industry_category_Telecommunications                          0.006080   \n",
            "job_industry_category_Unknown                                    -0.002943   \n",
            "wealth_segment_Affluent Customer                                  1.000000   \n",
            "wealth_segment_High Net Worth                                    -0.331551   \n",
            "wealth_segment_Mass Customer                                     -0.568569   \n",
            "\n",
            "                                          wealth_segment_High Net Worth  \\\n",
            "property_valuation                                            -0.027069   \n",
            "past_3_years_bike_related_purchases                           -0.019671   \n",
            "deceased_indicator                                            -0.011884   \n",
            "owns_car                                                      -0.002393   \n",
            "tenure                                                         0.009204   \n",
            "Age                                                            0.005910   \n",
            "state_NSW                                                      0.009493   \n",
            "state_QLD                                                     -0.000160   \n",
            "state_VIC                                                     -0.010745   \n",
            "gender_F                                                      -0.007004   \n",
            "gender_M                                                       0.006960   \n",
            "gender_U                                                       0.000176   \n",
            "job_industry_category_Argiculture                              0.017904   \n",
            "job_industry_category_Entertainment                            0.010194   \n",
            "job_industry_category_Financial Services                       0.006990   \n",
            "job_industry_category_Health                                  -0.003486   \n",
            "job_industry_category_IT                                       0.002273   \n",
            "job_industry_category_Manufacturing                           -0.041151   \n",
            "job_industry_category_Property                                 0.023934   \n",
            "job_industry_category_Retail                                   0.006474   \n",
            "job_industry_category_Telecommunications                       0.000376   \n",
            "job_industry_category_Unknown                                  0.004972   \n",
            "wealth_segment_Affluent Customer                              -0.331551   \n",
            "wealth_segment_High Net Worth                                  1.000000   \n",
            "wealth_segment_Mass Customer                                  -0.587595   \n",
            "\n",
            "                                          wealth_segment_Mass Customer  \n",
            "property_valuation                                           -0.013192  \n",
            "past_3_years_bike_related_purchases                           0.005655  \n",
            "deceased_indicator                                           -0.020380  \n",
            "owns_car                                                     -0.021867  \n",
            "tenure                                                       -0.001349  \n",
            "Age                                                           0.000252  \n",
            "state_NSW                                                    -0.005524  \n",
            "state_QLD                                                    -0.002237  \n",
            "state_VIC                                                     0.008449  \n",
            "gender_F                                                      0.018840  \n",
            "gender_M                                                     -0.022402  \n",
            "gender_U                                                      0.011908  \n",
            "job_industry_category_Argiculture                             0.002116  \n",
            "job_industry_category_Entertainment                           0.008756  \n",
            "job_industry_category_Financial Services                     -0.014893  \n",
            "job_industry_category_Health                                  0.011447  \n",
            "job_industry_category_IT                                     -0.001593  \n",
            "job_industry_category_Manufacturing                           0.004134  \n",
            "job_industry_category_Property                                0.000049  \n",
            "job_industry_category_Retail                                 -0.000462  \n",
            "job_industry_category_Telecommunications                     -0.005543  \n",
            "job_industry_category_Unknown                                -0.001811  \n",
            "wealth_segment_Affluent Customer                             -0.568569  \n",
            "wealth_segment_High Net Worth                                -0.587595  \n",
            "wealth_segment_Mass Customer                                  1.000000  \n",
            "\n",
            "[25 rows x 25 columns]\n"
          ]
        }
      ]
    },
    {
      "cell_type": "code",
      "source": [
        "vif = pd.DataFrame()\n",
        "vif['Features'] = tran_cust3_data.columns\n",
        "vif['VIF'] = [variance_inflation_factor(tran_cust3_data.values, i) for i in range(tran_cust3_data.shape[1])]\n",
        "print(vif)"
      ],
      "metadata": {
        "colab": {
          "base_uri": "https://localhost:8080/"
        },
        "id": "bGrS-X7RPKfu",
        "outputId": "f8da0e5c-a2e7-4df8-e79f-23b4e95a598c"
      },
      "execution_count": 296,
      "outputs": [
        {
          "output_type": "stream",
          "name": "stderr",
          "text": [
            "/usr/local/lib/python3.10/dist-packages/statsmodels/stats/outliers_influence.py:195: RuntimeWarning: divide by zero encountered in double_scalars\n",
            "  vif = 1. / (1. - r_squared_i)\n"
          ]
        },
        {
          "output_type": "stream",
          "name": "stdout",
          "text": [
            "                                    Features       VIF\n",
            "0                         property_valuation  1.208142\n",
            "1        past_3_years_bike_related_purchases  1.006851\n",
            "2                         deceased_indicator  1.008298\n",
            "3                                   owns_car  1.008049\n",
            "4                                     tenure  1.352439\n",
            "5                                        Age  1.259162\n",
            "6                                  state_NSW       inf\n",
            "7                                  state_QLD       inf\n",
            "8                                  state_VIC       inf\n",
            "9                                   gender_F       inf\n",
            "10                                  gender_M       inf\n",
            "11                                  gender_U       inf\n",
            "12         job_industry_category_Argiculture       inf\n",
            "13       job_industry_category_Entertainment       inf\n",
            "14  job_industry_category_Financial Services       inf\n",
            "15              job_industry_category_Health       inf\n",
            "16                  job_industry_category_IT       inf\n",
            "17       job_industry_category_Manufacturing       inf\n",
            "18            job_industry_category_Property       inf\n",
            "19              job_industry_category_Retail       inf\n",
            "20  job_industry_category_Telecommunications       inf\n",
            "21             job_industry_category_Unknown       inf\n",
            "22          wealth_segment_Affluent Customer       inf\n",
            "23             wealth_segment_High Net Worth       inf\n",
            "24              wealth_segment_Mass Customer       inf\n"
          ]
        }
      ]
    },
    {
      "cell_type": "code",
      "source": [
        "print(tran_cust3_data['gender_F'].sum(), tran_cust3_data['gender_M'].sum(),\\\n",
        "      tran_cust3_data['gender_U'].sum())\n",
        "print(tran_cust3_data['state_NSW'].sum(), tran_cust3_data['state_QLD'].sum(),\\\n",
        "      tran_cust3_data['state_VIC'].sum())\n",
        "print(tran_cust3_data['job_industry_category_Argiculture'].sum(),\\\n",
        "      tran_cust3_data['job_industry_category_Entertainment'].sum(),\\\n",
        "      tran_cust3_data['job_industry_category_Financial Services'].sum(),\\\n",
        "      tran_cust3_data['job_industry_category_Health'].sum(),\\\n",
        "      tran_cust3_data['job_industry_category_IT'].sum(),\\\n",
        "      tran_cust3_data['job_industry_category_Manufacturing'].sum(),\\\n",
        "      tran_cust3_data['job_industry_category_Property'].sum(),\\\n",
        "      tran_cust3_data['job_industry_category_Retail'].sum(),\\\n",
        "      tran_cust3_data['job_industry_category_Telecommunications'].sum(),\\\n",
        "      tran_cust3_data['job_industry_category_Unknown'].sum())\n",
        "print(tran_cust3_data['wealth_segment_Affluent Customer'].sum(),\\\n",
        "      tran_cust3_data['wealth_segment_High Net Worth'].sum(),\\\n",
        "      tran_cust3_data['wealth_segment_Mass Customer'].sum())"
      ],
      "metadata": {
        "colab": {
          "base_uri": "https://localhost:8080/"
        },
        "id": "84VG8q5oQtd8",
        "outputId": "28dac973-be0a-4d8c-e2c2-c7ca3f8d245b"
      },
      "execution_count": 297,
      "outputs": [
        {
          "output_type": "stream",
          "name": "stdout",
          "text": [
            "9736 9242 438\n",
            "10364 4144 4908\n",
            "559 686 3768 3016 1041 3897 1251 1718 351 3129\n",
            "4716 4955 9745\n"
          ]
        }
      ]
    },
    {
      "cell_type": "markdown",
      "source": [
        "To avoid multicollinearity issue, I decide to remove one dummy variable in each original set based on the sum of the binary values or the column that contains the least information (eg. Unknown data) in dummy variables.\n",
        "Based on the above information, I would remove 'gender_U' in gender, 'state_QLD' in state, 'job_industry_category_Unknown' in the job_industry_category, and 'wealth_segment_Affluent Customer' is wealth segment."
      ],
      "metadata": {
        "id": "KJZV9w_U-JMn"
      }
    },
    {
      "cell_type": "code",
      "source": [
        "tran_cust3_data.drop(columns=['gender_U', 'state_QLD', 'job_industry_category_Unknown', 'wealth_segment_Affluent Customer'], inplace=True)"
      ],
      "metadata": {
        "id": "-RqLDihXUXcv"
      },
      "execution_count": 298,
      "outputs": []
    },
    {
      "cell_type": "code",
      "source": [
        "vif = pd.DataFrame()\n",
        "vif['Features'] = tran_cust3_data.columns\n",
        "vif['VIF'] = [variance_inflation_factor(tran_cust3_data.values, i) \\\n",
        "              for i in range(tran_cust3_data.shape[1])]\n",
        "print(vif)"
      ],
      "metadata": {
        "colab": {
          "base_uri": "https://localhost:8080/"
        },
        "id": "AwzNXEjWUn8W",
        "outputId": "1275a951-7b16-4fa0-f164-e4423b6e2767"
      },
      "execution_count": 299,
      "outputs": [
        {
          "output_type": "stream",
          "name": "stdout",
          "text": [
            "                                    Features        VIF\n",
            "0                         property_valuation   9.329974\n",
            "1        past_3_years_bike_related_purchases   3.832605\n",
            "2                         deceased_indicator   1.008713\n",
            "3                                   owns_car   2.011621\n",
            "4                                     tenure   5.485575\n",
            "5                                        Age  14.134992\n",
            "6                                  state_NSW   4.179093\n",
            "7                                  state_VIC   2.301940\n",
            "8                                   gender_F  12.267647\n",
            "9                                   gender_M  11.642432\n",
            "10         job_industry_category_Argiculture   1.170487\n",
            "11       job_industry_category_Entertainment   1.207243\n",
            "12  job_industry_category_Financial Services   2.102340\n",
            "13              job_industry_category_Health   1.904985\n",
            "14                  job_industry_category_IT   1.314471\n",
            "15       job_industry_category_Manufacturing   2.150790\n",
            "16            job_industry_category_Property   1.379766\n",
            "17              job_industry_category_Retail   1.509374\n",
            "18  job_industry_category_Telecommunications   1.105006\n",
            "19             wealth_segment_High Net Worth   2.009771\n",
            "20              wealth_segment_Mass Customer   2.972552\n"
          ]
        }
      ]
    },
    {
      "cell_type": "code",
      "source": [
        "# create function for stratified sampling\n",
        "def stratified_sample(df, strata, size=None, seed=None, keep_index= True):\n",
        "    '''\n",
        "    It samples data from a pandas dataframe using strata. These functions use\n",
        "    proportionate stratification:\n",
        "    n1 = (N1/N) * n\n",
        "    where:\n",
        "        - n1 is the sample size of stratum 1\n",
        "        - N1 is the population size of stratum 1\n",
        "        - N is the total population size\n",
        "        - n is the sampling size\n",
        "    Parameters\n",
        "    ----------\n",
        "    :df: pandas dataframe from which data will be sampled.\n",
        "    :strata: list containing columns that will be used in the stratified sampling.\n",
        "    :size: sampling size. If not informed, a sampling size will be calculated\n",
        "        using Cochran adjusted sampling formula:\n",
        "        cochran_n = (Z**2 * p * q) /e**2\n",
        "        where:\n",
        "            - Z is the z-value. In this case we use 1.96 representing 95%\n",
        "            - p is the estimated proportion of the population which has an\n",
        "                attribute. In this case we use 0.5\n",
        "            - q is 1-p\n",
        "            - e is the margin of error\n",
        "        This formula is adjusted as follows:\n",
        "        adjusted_cochran = cochran_n / 1+((cochran_n -1)/N)\n",
        "        where:\n",
        "            - cochran_n = result of the previous formula\n",
        "            - N is the population size\n",
        "    :seed: sampling seed\n",
        "    :keep_index: if True, it keeps a column with the original population index indicator\n",
        "    \n",
        "    Returns\n",
        "    -------\n",
        "    A sampled pandas dataframe based in a set of strata.\n",
        "    Examples\n",
        "    --------\n",
        "    >> df.head()\n",
        "    \tid  sex age city \n",
        "    0\t123 M   20  XYZ\n",
        "    1\t456 M   25  XYZ\n",
        "    2\t789 M   21  YZX\n",
        "    3\t987 F   40  ZXY\n",
        "    4\t654 M   45  ZXY\n",
        "    ...\n",
        "    # This returns a sample stratified by sex and city containing 30% of the size of\n",
        "    # the original data\n",
        "    >> stratified = stratified_sample(df=df, strata=['sex', 'city'], size=0.3)\n",
        "    Requirements\n",
        "    ------------\n",
        "    - pandas\n",
        "    - numpy\n",
        "    '''\n",
        "    population = len(df)\n",
        "    size = __smpl_size(population, size)\n",
        "    tmp = df[strata]\n",
        "    tmp['size'] = 1\n",
        "    tmp_grpd = tmp.groupby(strata).count().reset_index()\n",
        "    tmp_grpd['samp_size'] = round(size/population * tmp_grpd['size']).astype(int)\n",
        "\n",
        "    # controlling variable to create the dataframe or append to it\n",
        "    first = True \n",
        "    for i in range(len(tmp_grpd)):\n",
        "        # query generator for each iteration\n",
        "        qry=''\n",
        "        for s in range(len(strata)):\n",
        "            stratum = strata[s]\n",
        "            value = tmp_grpd.iloc[i][stratum]\n",
        "            n = tmp_grpd.iloc[i]['samp_size']\n",
        "\n",
        "            if type(value) == str:\n",
        "                value = \"'\" + str(value) + \"'\"\n",
        "            \n",
        "            if s != len(strata)-1:\n",
        "                qry = qry + stratum + ' == ' + str(value) +' & '\n",
        "            else:\n",
        "                qry = qry + stratum + ' == ' + str(value)\n",
        "        \n",
        "        # final dataframe\n",
        "        if first:\n",
        "            stratified_df = df.query(qry).sample(n=n, random_state=seed).reset_index(drop=(not keep_index))\n",
        "            first = False\n",
        "        else:\n",
        "            tmp_df = df.query(qry).sample(n=n, random_state=seed).reset_index(drop=(not keep_index))\n",
        "            stratified_df = stratified_df.append(tmp_df, ignore_index=True)\n",
        "    \n",
        "    return stratified_df\n",
        "\n",
        "\n",
        "def stratified_sample_report(df, strata, size=None):\n",
        "    '''\n",
        "    Generates a dataframe reporting the counts in each stratum and the counts\n",
        "    for the final sampled dataframe.\n",
        "    Parameters\n",
        "    ----------\n",
        "    :df: pandas dataframe from which data will be sampled.\n",
        "    :strata: list containing columns that will be used in the stratified sampling.\n",
        "    :size: sampling size. If not informed, a sampling size will be calculated\n",
        "        using Cochran adjusted sampling formula:\n",
        "        cochran_n = (Z**2 * p * q) /e**2\n",
        "        where:\n",
        "            - Z is the z-value. In this case we use 1.96 representing 95%\n",
        "            - p is the estimated proportion of the population which has an\n",
        "                attribute. In this case we use 0.5\n",
        "            - q is 1-p\n",
        "            - e is the margin of error\n",
        "        This formula is adjusted as follows:\n",
        "        adjusted_cochran = cochran_n / 1+((cochran_n -1)/N)\n",
        "        where:\n",
        "            - cochran_n = result of the previous formula\n",
        "            - N is the population size\n",
        "    Returns\n",
        "    -------\n",
        "    A dataframe reporting the counts in each stratum and the counts\n",
        "    for the final sampled dataframe.\n",
        "    '''\n",
        "    population = len(df)\n",
        "    size = __smpl_size(population, size)\n",
        "    tmp = df[strata]\n",
        "    tmp['size'] = 1\n",
        "    tmp_grpd = tmp.groupby(strata).count().reset_index()\n",
        "    tmp_grpd['samp_size'] = round(size/population * tmp_grpd['size']).astype(int)\n",
        "    return tmp_grpd"
      ],
      "metadata": {
        "id": "y1NgmTb3ioEA"
      },
      "execution_count": 313,
      "outputs": []
    },
    {
      "cell_type": "code",
      "source": [
        "# view the stratified report first\n",
        "# sample_size = 0.8*len(tran_cust3)\n",
        "# print(round(sample_size))\n",
        "# stratified_sample_report(tran_cust3, ['deceased_indicator', 'owns_car', 'state_NSW',\\\n",
        "#                                       'state_VIC', 'gender_F', 'gender_M','job_industry_category_Argiculture',\\\n",
        "#                                       'job_industry_category_Entertainment',\\\n",
        "#                                       'job_industry_category_Financial Services',\\\n",
        "#                                       'job_industry_category_Health',\\\n",
        "#                                       'job_industry_category_IT',\\\n",
        "#                                       'job_industry_category_Manufacturing',\\\n",
        "#                                       'job_industry_category_Property',\\\n",
        "#                                       'job_industry_category_Retail',\\\n",
        "#                                       'job_industry_category_Telecommunications',\\\n",
        "#                                       'wealth_segment_High Net Worth',\\\n",
        "#                                       'wealth_segment_Mass Customer'],\\\n",
        "#                          sample_size)\n",
        "\n",
        "# stratified_sample(tran_cust3, ['deceased_indicator', 'owns_car', 'state_NSW', 'state_VIC'], size=15533, seed=123, keep_index= True)"
      ],
      "metadata": {
        "id": "mi6wBKfUDpUP"
      },
      "execution_count": 322,
      "outputs": []
    },
    {
      "cell_type": "code",
      "source": [
        "import statsmodels.api as sm\n",
        "# from sklearn.metrics import mean_squared_error\n",
        "# x_train, x_test, y_train, y_test = train_test_split(tran_cust3_data, tran_cust2_target, test_size = 0.2, random_state=42)\n",
        "# regression_model = LinearRegression()\n",
        "# coefficients = results.params\n",
        "# y_pred = regression_model.predict(x_test)\n",
        "# mse = mean_squared_error(y_test, y_pred)\n",
        "# print('Mean squared error: ', mse)\n",
        "X = sm.add_constant(tran_cust3_data)\n",
        "model = sm.OLS(tran_cust3_target, X)\n",
        "results = model.fit()\n",
        "print(results.summary())"
      ],
      "metadata": {
        "colab": {
          "base_uri": "https://localhost:8080/"
        },
        "id": "55okjn7mY7dQ",
        "outputId": "0d7a4706-f9dd-4d98-f830-d7581573b2d5"
      },
      "execution_count": 300,
      "outputs": [
        {
          "output_type": "stream",
          "name": "stdout",
          "text": [
            "                            OLS Regression Results                            \n",
            "==============================================================================\n",
            "Dep. Variable:                 profit   R-squared:                       0.002\n",
            "Model:                            OLS   Adj. R-squared:                  0.000\n",
            "Method:                 Least Squares   F-statistic:                     1.454\n",
            "Date:                Thu, 01 Jun 2023   Prob (F-statistic):             0.0821\n",
            "Time:                        19:01:42   Log-Likelihood:            -1.4793e+05\n",
            "No. Observations:               19416   AIC:                         2.959e+05\n",
            "Df Residuals:                   19394   BIC:                         2.961e+05\n",
            "Df Model:                          21                                         \n",
            "Covariance Type:            nonrobust                                         \n",
            "============================================================================================================\n",
            "                                               coef    std err          t      P>|t|      [0.025      0.975]\n",
            "------------------------------------------------------------------------------------------------------------\n",
            "const                                      626.5765     35.816     17.494      0.000     556.374     696.779\n",
            "property_valuation                          -1.8397      1.377     -1.336      0.182      -4.540       0.860\n",
            "past_3_years_bike_related_purchases          0.2779      0.124      2.238      0.025       0.034       0.521\n",
            "deceased_indicator                         409.2917    175.113      2.337      0.019      66.056     752.527\n",
            "owns_car                                    12.0459      7.107      1.695      0.090      -1.884      25.976\n",
            "tenure                                       0.6354      0.706      0.900      0.368      -0.748       2.019\n",
            "Age                                         -0.2305      0.311     -0.740      0.459      -0.840       0.380\n",
            "state_NSW                                    0.4674      9.928      0.047      0.962     -18.993      19.928\n",
            "state_VIC                                    8.3100     10.733      0.774      0.439     -12.727      29.347\n",
            "gender_F                                   -76.7044     29.319     -2.616      0.009    -134.173     -19.236\n",
            "gender_M                                   -69.6997     29.349     -2.375      0.018    -127.225     -12.174\n",
            "job_industry_category_Argiculture          -17.3400     22.702     -0.764      0.445     -61.837      27.157\n",
            "job_industry_category_Entertainment          0.8887     20.829      0.043      0.966     -39.937      41.715\n",
            "job_industry_category_Financial Services     4.5466     11.965      0.380      0.704     -18.906      27.999\n",
            "job_industry_category_Health               -14.6447     12.608     -1.162      0.245     -39.357      10.068\n",
            "job_industry_category_IT                    -7.7347     20.189     -0.383      0.702     -47.307      31.838\n",
            "job_industry_category_Manufacturing         -9.5642     11.856     -0.807      0.420     -32.803      13.674\n",
            "job_industry_category_Property              -7.3667     16.529     -0.446      0.656     -39.765      25.031\n",
            "job_industry_category_Retail                 5.8041     14.832      0.391      0.696     -23.269      34.877\n",
            "job_industry_category_Telecommunications   -22.2755     27.815     -0.801      0.423     -76.795      32.244\n",
            "wealth_segment_High Net Worth               -4.1541     10.074     -0.412      0.680     -23.899      15.591\n",
            "wealth_segment_Mass Customer                -4.1677      8.775     -0.475      0.635     -21.368      13.032\n",
            "==============================================================================\n",
            "Omnibus:                     1990.040   Durbin-Watson:                   2.005\n",
            "Prob(Omnibus):                  0.000   Jarque-Bera (JB):             2462.082\n",
            "Skew:                           0.849   Prob(JB):                         0.00\n",
            "Kurtosis:                       2.601   Cond. No.                     3.54e+03\n",
            "==============================================================================\n",
            "\n",
            "Notes:\n",
            "[1] Standard Errors assume that the covariance matrix of the errors is correctly specified.\n",
            "[2] The condition number is large, 3.54e+03. This might indicate that there are\n",
            "strong multicollinearity or other numerical problems.\n"
          ]
        }
      ]
    },
    {
      "cell_type": "code",
      "source": [
        "data1 = tran_cust3_data[['property_valuation', 'past_3_years_bike_related_purchases','deceased_indicator', 'owns_car', 'tenure', 'Age']]\n",
        "X_data1 = sm.add_constant(data1)\n",
        "model_data1 = sm.OLS(tran_cust3_target, X_data1)\n",
        "results_data1 = model_data1.fit()\n",
        "print(results_data1.summary())"
      ],
      "metadata": {
        "colab": {
          "base_uri": "https://localhost:8080/"
        },
        "id": "MBk0Y6iBcNwB",
        "outputId": "6e84b9d4-d520-41b7-a777-47fd14f3c7b0"
      },
      "execution_count": 305,
      "outputs": [
        {
          "output_type": "stream",
          "name": "stdout",
          "text": [
            "                            OLS Regression Results                            \n",
            "==============================================================================\n",
            "Dep. Variable:                 profit   R-squared:                       0.001\n",
            "Model:                            OLS   Adj. R-squared:                  0.000\n",
            "Method:                 Least Squares   F-statistic:                     2.600\n",
            "Date:                Thu, 01 Jun 2023   Prob (F-statistic):             0.0161\n",
            "Time:                        19:06:34   Log-Likelihood:            -1.4794e+05\n",
            "No. Observations:               19416   AIC:                         2.959e+05\n",
            "Df Residuals:                   19409   BIC:                         2.960e+05\n",
            "Df Model:                           6                                         \n",
            "Covariance Type:            nonrobust                                         \n",
            "=======================================================================================================\n",
            "                                          coef    std err          t      P>|t|      [0.025      0.975]\n",
            "-------------------------------------------------------------------------------------------------------\n",
            "const                                 551.6611     17.567     31.403      0.000     517.227     586.095\n",
            "property_valuation                     -1.9376      1.256     -1.542      0.123      -4.400       0.525\n",
            "past_3_years_bike_related_purchases     0.2669      0.124      2.154      0.031       0.024       0.510\n",
            "deceased_indicator                    391.3071    174.640      2.241      0.025      48.998     733.616\n",
            "owns_car                               12.3613      7.091      1.743      0.081      -1.537      26.259\n",
            "tenure                                 -0.0122      0.671     -0.018      0.985      -1.327       1.303\n",
            "Age                                    -0.1025      0.307     -0.334      0.738      -0.704       0.499\n",
            "==============================================================================\n",
            "Omnibus:                     1995.301   Durbin-Watson:                   2.005\n",
            "Prob(Omnibus):                  0.000   Jarque-Bera (JB):             2466.439\n",
            "Skew:                           0.850   Prob(JB):                         0.00\n",
            "Kurtosis:                       2.598   Cond. No.                     3.53e+03\n",
            "==============================================================================\n",
            "\n",
            "Notes:\n",
            "[1] Standard Errors assume that the covariance matrix of the errors is correctly specified.\n",
            "[2] The condition number is large, 3.53e+03. This might indicate that there are\n",
            "strong multicollinearity or other numerical problems.\n"
          ]
        }
      ]
    },
    {
      "cell_type": "code",
      "source": [
        "state_data = tran_cust3_data[['state_NSW', 'state_VIC']]\n",
        "X_state = sm.add_constant(state_data)\n",
        "model_state = sm.OLS(tran_cust3_target, X_state)\n",
        "results_state = model_state.fit()\n",
        "print(results_state.summary())"
      ],
      "metadata": {
        "colab": {
          "base_uri": "https://localhost:8080/"
        },
        "id": "-VMlAudfaAGm",
        "outputId": "7c178791-e08d-4ef3-e71d-dc3fcd77285e"
      },
      "execution_count": 301,
      "outputs": [
        {
          "output_type": "stream",
          "name": "stdout",
          "text": [
            "                            OLS Regression Results                            \n",
            "==============================================================================\n",
            "Dep. Variable:                 profit   R-squared:                       0.000\n",
            "Model:                            OLS   Adj. R-squared:                 -0.000\n",
            "Method:                 Least Squares   F-statistic:                    0.5495\n",
            "Date:                Thu, 01 Jun 2023   Prob (F-statistic):              0.577\n",
            "Time:                        19:02:27   Log-Likelihood:            -1.4795e+05\n",
            "No. Observations:               19416   AIC:                         2.959e+05\n",
            "Df Residuals:                   19413   BIC:                         2.959e+05\n",
            "Df Model:                           2                                         \n",
            "Covariance Type:            nonrobust                                         \n",
            "==============================================================================\n",
            "                 coef    std err          t      P>|t|      [0.025      0.975]\n",
            "------------------------------------------------------------------------------\n",
            "const        553.4808      7.663     72.230      0.000     538.461     568.500\n",
            "state_NSW     -5.0188      9.066     -0.554      0.580     -22.789      12.752\n",
            "state_VIC      3.6662     10.407      0.352      0.725     -16.731      24.064\n",
            "==============================================================================\n",
            "Omnibus:                     1998.710   Durbin-Watson:                   2.005\n",
            "Prob(Omnibus):                  0.000   Jarque-Bera (JB):             2470.121\n",
            "Skew:                           0.850   Prob(JB):                         0.00\n",
            "Kurtosis:                       2.597   Cond. No.                         4.74\n",
            "==============================================================================\n",
            "\n",
            "Notes:\n",
            "[1] Standard Errors assume that the covariance matrix of the errors is correctly specified.\n"
          ]
        }
      ]
    },
    {
      "cell_type": "code",
      "source": [],
      "metadata": {
        "id": "06XZIknMDQ_q"
      },
      "execution_count": null,
      "outputs": []
    }
  ]
}