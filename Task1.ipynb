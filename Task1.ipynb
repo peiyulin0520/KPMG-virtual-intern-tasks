{
  "nbformat": 4,
  "nbformat_minor": 0,
  "metadata": {
    "colab": {
      "provenance": [],
      "authorship_tag": "ABX9TyMhLwOJx63zM8loLpoi5tgx",
      "include_colab_link": true
    },
    "kernelspec": {
      "name": "python3",
      "display_name": "Python 3"
    },
    "language_info": {
      "name": "python"
    }
  },
  "cells": [
    {
      "cell_type": "markdown",
      "metadata": {
        "id": "view-in-github",
        "colab_type": "text"
      },
      "source": [
        "<a href=\"https://colab.research.google.com/github/peiyulin0520/KPMG-virtual-intern-tasks/blob/main/Task1.ipynb\" target=\"_parent\"><img src=\"https://colab.research.google.com/assets/colab-badge.svg\" alt=\"Open In Colab\"/></a>"
      ]
    },
    {
      "cell_type": "markdown",
      "source": [
        "Task1: \n",
        "identify data issues in three datasets: \n",
        "1. Transactions\n",
        "2. CustomerDemographic\n",
        "3. CustomerAddress"
      ],
      "metadata": {
        "id": "Ya0cET85KQ8Y"
      }
    },
    {
      "cell_type": "code",
      "execution_count": 1,
      "metadata": {
        "colab": {
          "base_uri": "https://localhost:8080/",
          "height": 77
        },
        "id": "EzazskcMKPPb",
        "outputId": "439edebf-7404-4a45-da52-0573ecf71fb6"
      },
      "outputs": [
        {
          "output_type": "display_data",
          "data": {
            "text/plain": [
              "<IPython.core.display.HTML object>"
            ],
            "text/html": [
              "\n",
              "     <input type=\"file\" id=\"files-2472b3c2-94a4-496f-a973-29e51fd1f98e\" name=\"files[]\" multiple disabled\n",
              "        style=\"border:none\" />\n",
              "     <output id=\"result-2472b3c2-94a4-496f-a973-29e51fd1f98e\">\n",
              "      Upload widget is only available when the cell has been executed in the\n",
              "      current browser session. Please rerun this cell to enable.\n",
              "      </output>\n",
              "      <script>// Copyright 2017 Google LLC\n",
              "//\n",
              "// Licensed under the Apache License, Version 2.0 (the \"License\");\n",
              "// you may not use this file except in compliance with the License.\n",
              "// You may obtain a copy of the License at\n",
              "//\n",
              "//      http://www.apache.org/licenses/LICENSE-2.0\n",
              "//\n",
              "// Unless required by applicable law or agreed to in writing, software\n",
              "// distributed under the License is distributed on an \"AS IS\" BASIS,\n",
              "// WITHOUT WARRANTIES OR CONDITIONS OF ANY KIND, either express or implied.\n",
              "// See the License for the specific language governing permissions and\n",
              "// limitations under the License.\n",
              "\n",
              "/**\n",
              " * @fileoverview Helpers for google.colab Python module.\n",
              " */\n",
              "(function(scope) {\n",
              "function span(text, styleAttributes = {}) {\n",
              "  const element = document.createElement('span');\n",
              "  element.textContent = text;\n",
              "  for (const key of Object.keys(styleAttributes)) {\n",
              "    element.style[key] = styleAttributes[key];\n",
              "  }\n",
              "  return element;\n",
              "}\n",
              "\n",
              "// Max number of bytes which will be uploaded at a time.\n",
              "const MAX_PAYLOAD_SIZE = 100 * 1024;\n",
              "\n",
              "function _uploadFiles(inputId, outputId) {\n",
              "  const steps = uploadFilesStep(inputId, outputId);\n",
              "  const outputElement = document.getElementById(outputId);\n",
              "  // Cache steps on the outputElement to make it available for the next call\n",
              "  // to uploadFilesContinue from Python.\n",
              "  outputElement.steps = steps;\n",
              "\n",
              "  return _uploadFilesContinue(outputId);\n",
              "}\n",
              "\n",
              "// This is roughly an async generator (not supported in the browser yet),\n",
              "// where there are multiple asynchronous steps and the Python side is going\n",
              "// to poll for completion of each step.\n",
              "// This uses a Promise to block the python side on completion of each step,\n",
              "// then passes the result of the previous step as the input to the next step.\n",
              "function _uploadFilesContinue(outputId) {\n",
              "  const outputElement = document.getElementById(outputId);\n",
              "  const steps = outputElement.steps;\n",
              "\n",
              "  const next = steps.next(outputElement.lastPromiseValue);\n",
              "  return Promise.resolve(next.value.promise).then((value) => {\n",
              "    // Cache the last promise value to make it available to the next\n",
              "    // step of the generator.\n",
              "    outputElement.lastPromiseValue = value;\n",
              "    return next.value.response;\n",
              "  });\n",
              "}\n",
              "\n",
              "/**\n",
              " * Generator function which is called between each async step of the upload\n",
              " * process.\n",
              " * @param {string} inputId Element ID of the input file picker element.\n",
              " * @param {string} outputId Element ID of the output display.\n",
              " * @return {!Iterable<!Object>} Iterable of next steps.\n",
              " */\n",
              "function* uploadFilesStep(inputId, outputId) {\n",
              "  const inputElement = document.getElementById(inputId);\n",
              "  inputElement.disabled = false;\n",
              "\n",
              "  const outputElement = document.getElementById(outputId);\n",
              "  outputElement.innerHTML = '';\n",
              "\n",
              "  const pickedPromise = new Promise((resolve) => {\n",
              "    inputElement.addEventListener('change', (e) => {\n",
              "      resolve(e.target.files);\n",
              "    });\n",
              "  });\n",
              "\n",
              "  const cancel = document.createElement('button');\n",
              "  inputElement.parentElement.appendChild(cancel);\n",
              "  cancel.textContent = 'Cancel upload';\n",
              "  const cancelPromise = new Promise((resolve) => {\n",
              "    cancel.onclick = () => {\n",
              "      resolve(null);\n",
              "    };\n",
              "  });\n",
              "\n",
              "  // Wait for the user to pick the files.\n",
              "  const files = yield {\n",
              "    promise: Promise.race([pickedPromise, cancelPromise]),\n",
              "    response: {\n",
              "      action: 'starting',\n",
              "    }\n",
              "  };\n",
              "\n",
              "  cancel.remove();\n",
              "\n",
              "  // Disable the input element since further picks are not allowed.\n",
              "  inputElement.disabled = true;\n",
              "\n",
              "  if (!files) {\n",
              "    return {\n",
              "      response: {\n",
              "        action: 'complete',\n",
              "      }\n",
              "    };\n",
              "  }\n",
              "\n",
              "  for (const file of files) {\n",
              "    const li = document.createElement('li');\n",
              "    li.append(span(file.name, {fontWeight: 'bold'}));\n",
              "    li.append(span(\n",
              "        `(${file.type || 'n/a'}) - ${file.size} bytes, ` +\n",
              "        `last modified: ${\n",
              "            file.lastModifiedDate ? file.lastModifiedDate.toLocaleDateString() :\n",
              "                                    'n/a'} - `));\n",
              "    const percent = span('0% done');\n",
              "    li.appendChild(percent);\n",
              "\n",
              "    outputElement.appendChild(li);\n",
              "\n",
              "    const fileDataPromise = new Promise((resolve) => {\n",
              "      const reader = new FileReader();\n",
              "      reader.onload = (e) => {\n",
              "        resolve(e.target.result);\n",
              "      };\n",
              "      reader.readAsArrayBuffer(file);\n",
              "    });\n",
              "    // Wait for the data to be ready.\n",
              "    let fileData = yield {\n",
              "      promise: fileDataPromise,\n",
              "      response: {\n",
              "        action: 'continue',\n",
              "      }\n",
              "    };\n",
              "\n",
              "    // Use a chunked sending to avoid message size limits. See b/62115660.\n",
              "    let position = 0;\n",
              "    do {\n",
              "      const length = Math.min(fileData.byteLength - position, MAX_PAYLOAD_SIZE);\n",
              "      const chunk = new Uint8Array(fileData, position, length);\n",
              "      position += length;\n",
              "\n",
              "      const base64 = btoa(String.fromCharCode.apply(null, chunk));\n",
              "      yield {\n",
              "        response: {\n",
              "          action: 'append',\n",
              "          file: file.name,\n",
              "          data: base64,\n",
              "        },\n",
              "      };\n",
              "\n",
              "      let percentDone = fileData.byteLength === 0 ?\n",
              "          100 :\n",
              "          Math.round((position / fileData.byteLength) * 100);\n",
              "      percent.textContent = `${percentDone}% done`;\n",
              "\n",
              "    } while (position < fileData.byteLength);\n",
              "  }\n",
              "\n",
              "  // All done.\n",
              "  yield {\n",
              "    response: {\n",
              "      action: 'complete',\n",
              "    }\n",
              "  };\n",
              "}\n",
              "\n",
              "scope.google = scope.google || {};\n",
              "scope.google.colab = scope.google.colab || {};\n",
              "scope.google.colab._files = {\n",
              "  _uploadFiles,\n",
              "  _uploadFilesContinue,\n",
              "};\n",
              "})(self);\n",
              "</script> "
            ]
          },
          "metadata": {}
        },
        {
          "output_type": "stream",
          "name": "stdout",
          "text": [
            "Saving KPMG_VI_New_raw_data_update_final.xlsx to KPMG_VI_New_raw_data_update_final.xlsx\n"
          ]
        }
      ],
      "source": [
        "import pandas as pd\n",
        "import numpy as np\n",
        "from google.colab import files\n",
        "uploaded = files.upload()"
      ]
    },
    {
      "cell_type": "code",
      "source": [
        "# read in excel file\n",
        "Transactions = pd.read_excel('KPMG_VI_New_raw_data_update_final.xlsx', sheet_name =1, header = 1)\n",
        "CustomerDemographic = pd.read_excel('KPMG_VI_New_raw_data_update_final.xlsx', sheet_name =3, header = 1)\n",
        "CustomerAddress = pd.read_excel('KPMG_VI_New_raw_data_update_final.xlsx', sheet_name =4, header = 1)"
      ],
      "metadata": {
        "colab": {
          "base_uri": "https://localhost:8080/"
        },
        "id": "xFUkU5E4Ky32",
        "outputId": "b726f5dc-fca5-49fc-ca91-7060ad02e9c3"
      },
      "execution_count": 2,
      "outputs": [
        {
          "output_type": "stream",
          "name": "stderr",
          "text": [
            "<ipython-input-2-2642beeb97cb>:3: FutureWarning: Inferring datetime64[ns] from data containing strings is deprecated and will be removed in a future version. To retain the old behavior explicitly pass Series(data, dtype=datetime64[ns])\n",
            "  CustomerDemographic = pd.read_excel('KPMG_VI_New_raw_data_update_final.xlsx', sheet_name =3, header = 1)\n"
          ]
        }
      ]
    },
    {
      "cell_type": "code",
      "source": [
        "# observe Transactions dataset briefly\n",
        "Transactions.describe()"
      ],
      "metadata": {
        "colab": {
          "base_uri": "https://localhost:8080/",
          "height": 300
        },
        "id": "qMrIWCk4K6AZ",
        "outputId": "9f1ae3e5-6c3d-4af7-c333-deaf4c0b06a3"
      },
      "execution_count": 3,
      "outputs": [
        {
          "output_type": "execute_result",
          "data": {
            "text/plain": [
              "       transaction_id   product_id   customer_id  online_order    list_price  \\\n",
              "count    20000.000000  20000.00000  20000.000000  19640.000000  20000.000000   \n",
              "mean     10000.500000     45.36465   1738.246050      0.500458   1107.829449   \n",
              "std       5773.647028     30.75359   1011.951046      0.500013    582.825242   \n",
              "min          1.000000      0.00000      1.000000      0.000000     12.010000   \n",
              "25%       5000.750000     18.00000    857.750000      0.000000    575.270000   \n",
              "50%      10000.500000     44.00000   1736.000000      1.000000   1163.890000   \n",
              "75%      15000.250000     72.00000   2613.000000      1.000000   1635.300000   \n",
              "max      20000.000000    100.00000   5034.000000      1.000000   2091.470000   \n",
              "\n",
              "       standard_cost  product_first_sold_date  \n",
              "count   19803.000000             19803.000000  \n",
              "mean      556.046951             38199.776549  \n",
              "std       405.955660              2875.201110  \n",
              "min         7.210000             33259.000000  \n",
              "25%       215.140000             35667.000000  \n",
              "50%       507.580000             38216.000000  \n",
              "75%       795.100000             40672.000000  \n",
              "max      1759.850000             42710.000000  "
            ],
            "text/html": [
              "\n",
              "  <div id=\"df-c519ff69-6f55-46c8-9ae4-b1a186981009\">\n",
              "    <div class=\"colab-df-container\">\n",
              "      <div>\n",
              "<style scoped>\n",
              "    .dataframe tbody tr th:only-of-type {\n",
              "        vertical-align: middle;\n",
              "    }\n",
              "\n",
              "    .dataframe tbody tr th {\n",
              "        vertical-align: top;\n",
              "    }\n",
              "\n",
              "    .dataframe thead th {\n",
              "        text-align: right;\n",
              "    }\n",
              "</style>\n",
              "<table border=\"1\" class=\"dataframe\">\n",
              "  <thead>\n",
              "    <tr style=\"text-align: right;\">\n",
              "      <th></th>\n",
              "      <th>transaction_id</th>\n",
              "      <th>product_id</th>\n",
              "      <th>customer_id</th>\n",
              "      <th>online_order</th>\n",
              "      <th>list_price</th>\n",
              "      <th>standard_cost</th>\n",
              "      <th>product_first_sold_date</th>\n",
              "    </tr>\n",
              "  </thead>\n",
              "  <tbody>\n",
              "    <tr>\n",
              "      <th>count</th>\n",
              "      <td>20000.000000</td>\n",
              "      <td>20000.00000</td>\n",
              "      <td>20000.000000</td>\n",
              "      <td>19640.000000</td>\n",
              "      <td>20000.000000</td>\n",
              "      <td>19803.000000</td>\n",
              "      <td>19803.000000</td>\n",
              "    </tr>\n",
              "    <tr>\n",
              "      <th>mean</th>\n",
              "      <td>10000.500000</td>\n",
              "      <td>45.36465</td>\n",
              "      <td>1738.246050</td>\n",
              "      <td>0.500458</td>\n",
              "      <td>1107.829449</td>\n",
              "      <td>556.046951</td>\n",
              "      <td>38199.776549</td>\n",
              "    </tr>\n",
              "    <tr>\n",
              "      <th>std</th>\n",
              "      <td>5773.647028</td>\n",
              "      <td>30.75359</td>\n",
              "      <td>1011.951046</td>\n",
              "      <td>0.500013</td>\n",
              "      <td>582.825242</td>\n",
              "      <td>405.955660</td>\n",
              "      <td>2875.201110</td>\n",
              "    </tr>\n",
              "    <tr>\n",
              "      <th>min</th>\n",
              "      <td>1.000000</td>\n",
              "      <td>0.00000</td>\n",
              "      <td>1.000000</td>\n",
              "      <td>0.000000</td>\n",
              "      <td>12.010000</td>\n",
              "      <td>7.210000</td>\n",
              "      <td>33259.000000</td>\n",
              "    </tr>\n",
              "    <tr>\n",
              "      <th>25%</th>\n",
              "      <td>5000.750000</td>\n",
              "      <td>18.00000</td>\n",
              "      <td>857.750000</td>\n",
              "      <td>0.000000</td>\n",
              "      <td>575.270000</td>\n",
              "      <td>215.140000</td>\n",
              "      <td>35667.000000</td>\n",
              "    </tr>\n",
              "    <tr>\n",
              "      <th>50%</th>\n",
              "      <td>10000.500000</td>\n",
              "      <td>44.00000</td>\n",
              "      <td>1736.000000</td>\n",
              "      <td>1.000000</td>\n",
              "      <td>1163.890000</td>\n",
              "      <td>507.580000</td>\n",
              "      <td>38216.000000</td>\n",
              "    </tr>\n",
              "    <tr>\n",
              "      <th>75%</th>\n",
              "      <td>15000.250000</td>\n",
              "      <td>72.00000</td>\n",
              "      <td>2613.000000</td>\n",
              "      <td>1.000000</td>\n",
              "      <td>1635.300000</td>\n",
              "      <td>795.100000</td>\n",
              "      <td>40672.000000</td>\n",
              "    </tr>\n",
              "    <tr>\n",
              "      <th>max</th>\n",
              "      <td>20000.000000</td>\n",
              "      <td>100.00000</td>\n",
              "      <td>5034.000000</td>\n",
              "      <td>1.000000</td>\n",
              "      <td>2091.470000</td>\n",
              "      <td>1759.850000</td>\n",
              "      <td>42710.000000</td>\n",
              "    </tr>\n",
              "  </tbody>\n",
              "</table>\n",
              "</div>\n",
              "      <button class=\"colab-df-convert\" onclick=\"convertToInteractive('df-c519ff69-6f55-46c8-9ae4-b1a186981009')\"\n",
              "              title=\"Convert this dataframe to an interactive table.\"\n",
              "              style=\"display:none;\">\n",
              "        \n",
              "  <svg xmlns=\"http://www.w3.org/2000/svg\" height=\"24px\"viewBox=\"0 0 24 24\"\n",
              "       width=\"24px\">\n",
              "    <path d=\"M0 0h24v24H0V0z\" fill=\"none\"/>\n",
              "    <path d=\"M18.56 5.44l.94 2.06.94-2.06 2.06-.94-2.06-.94-.94-2.06-.94 2.06-2.06.94zm-11 1L8.5 8.5l.94-2.06 2.06-.94-2.06-.94L8.5 2.5l-.94 2.06-2.06.94zm10 10l.94 2.06.94-2.06 2.06-.94-2.06-.94-.94-2.06-.94 2.06-2.06.94z\"/><path d=\"M17.41 7.96l-1.37-1.37c-.4-.4-.92-.59-1.43-.59-.52 0-1.04.2-1.43.59L10.3 9.45l-7.72 7.72c-.78.78-.78 2.05 0 2.83L4 21.41c.39.39.9.59 1.41.59.51 0 1.02-.2 1.41-.59l7.78-7.78 2.81-2.81c.8-.78.8-2.07 0-2.86zM5.41 20L4 18.59l7.72-7.72 1.47 1.35L5.41 20z\"/>\n",
              "  </svg>\n",
              "      </button>\n",
              "      \n",
              "  <style>\n",
              "    .colab-df-container {\n",
              "      display:flex;\n",
              "      flex-wrap:wrap;\n",
              "      gap: 12px;\n",
              "    }\n",
              "\n",
              "    .colab-df-convert {\n",
              "      background-color: #E8F0FE;\n",
              "      border: none;\n",
              "      border-radius: 50%;\n",
              "      cursor: pointer;\n",
              "      display: none;\n",
              "      fill: #1967D2;\n",
              "      height: 32px;\n",
              "      padding: 0 0 0 0;\n",
              "      width: 32px;\n",
              "    }\n",
              "\n",
              "    .colab-df-convert:hover {\n",
              "      background-color: #E2EBFA;\n",
              "      box-shadow: 0px 1px 2px rgba(60, 64, 67, 0.3), 0px 1px 3px 1px rgba(60, 64, 67, 0.15);\n",
              "      fill: #174EA6;\n",
              "    }\n",
              "\n",
              "    [theme=dark] .colab-df-convert {\n",
              "      background-color: #3B4455;\n",
              "      fill: #D2E3FC;\n",
              "    }\n",
              "\n",
              "    [theme=dark] .colab-df-convert:hover {\n",
              "      background-color: #434B5C;\n",
              "      box-shadow: 0px 1px 3px 1px rgba(0, 0, 0, 0.15);\n",
              "      filter: drop-shadow(0px 1px 2px rgba(0, 0, 0, 0.3));\n",
              "      fill: #FFFFFF;\n",
              "    }\n",
              "  </style>\n",
              "\n",
              "      <script>\n",
              "        const buttonEl =\n",
              "          document.querySelector('#df-c519ff69-6f55-46c8-9ae4-b1a186981009 button.colab-df-convert');\n",
              "        buttonEl.style.display =\n",
              "          google.colab.kernel.accessAllowed ? 'block' : 'none';\n",
              "\n",
              "        async function convertToInteractive(key) {\n",
              "          const element = document.querySelector('#df-c519ff69-6f55-46c8-9ae4-b1a186981009');\n",
              "          const dataTable =\n",
              "            await google.colab.kernel.invokeFunction('convertToInteractive',\n",
              "                                                     [key], {});\n",
              "          if (!dataTable) return;\n",
              "\n",
              "          const docLinkHtml = 'Like what you see? Visit the ' +\n",
              "            '<a target=\"_blank\" href=https://colab.research.google.com/notebooks/data_table.ipynb>data table notebook</a>'\n",
              "            + ' to learn more about interactive tables.';\n",
              "          element.innerHTML = '';\n",
              "          dataTable['output_type'] = 'display_data';\n",
              "          await google.colab.output.renderOutput(dataTable, element);\n",
              "          const docLink = document.createElement('div');\n",
              "          docLink.innerHTML = docLinkHtml;\n",
              "          element.appendChild(docLink);\n",
              "        }\n",
              "      </script>\n",
              "    </div>\n",
              "  </div>\n",
              "  "
            ]
          },
          "metadata": {},
          "execution_count": 3
        }
      ]
    },
    {
      "cell_type": "code",
      "source": [
        "# get the overview of the dataset, including data type, the number of NA values, the number of rows etc.\n",
        "Transactions.info()"
      ],
      "metadata": {
        "colab": {
          "base_uri": "https://localhost:8080/"
        },
        "id": "ij8V5UlaLBn6",
        "outputId": "6a4f73fb-f81f-419d-d622-751be87eaffa"
      },
      "execution_count": 4,
      "outputs": [
        {
          "output_type": "stream",
          "name": "stdout",
          "text": [
            "<class 'pandas.core.frame.DataFrame'>\n",
            "RangeIndex: 20000 entries, 0 to 19999\n",
            "Data columns (total 13 columns):\n",
            " #   Column                   Non-Null Count  Dtype         \n",
            "---  ------                   --------------  -----         \n",
            " 0   transaction_id           20000 non-null  int64         \n",
            " 1   product_id               20000 non-null  int64         \n",
            " 2   customer_id              20000 non-null  int64         \n",
            " 3   transaction_date         20000 non-null  datetime64[ns]\n",
            " 4   online_order             19640 non-null  float64       \n",
            " 5   order_status             20000 non-null  object        \n",
            " 6   brand                    19803 non-null  object        \n",
            " 7   product_line             19803 non-null  object        \n",
            " 8   product_class            19803 non-null  object        \n",
            " 9   product_size             19803 non-null  object        \n",
            " 10  list_price               20000 non-null  float64       \n",
            " 11  standard_cost            19803 non-null  float64       \n",
            " 12  product_first_sold_date  19803 non-null  float64       \n",
            "dtypes: datetime64[ns](1), float64(4), int64(3), object(5)\n",
            "memory usage: 2.0+ MB\n"
          ]
        }
      ]
    },
    {
      "cell_type": "code",
      "source": [
        "Transactions.nunique()"
      ],
      "metadata": {
        "colab": {
          "base_uri": "https://localhost:8080/"
        },
        "id": "glG6bDroLSAz",
        "outputId": "6d849ef0-fd5d-4de2-9f99-a0c28a8a0301"
      },
      "execution_count": 5,
      "outputs": [
        {
          "output_type": "execute_result",
          "data": {
            "text/plain": [
              "transaction_id             20000\n",
              "product_id                   101\n",
              "customer_id                 3494\n",
              "transaction_date             364\n",
              "online_order                   2\n",
              "order_status                   2\n",
              "brand                          6\n",
              "product_line                   4\n",
              "product_class                  3\n",
              "product_size                   3\n",
              "list_price                   296\n",
              "standard_cost                103\n",
              "product_first_sold_date      100\n",
              "dtype: int64"
            ]
          },
          "metadata": {},
          "execution_count": 5
        }
      ]
    },
    {
      "cell_type": "code",
      "source": [
        "Transactions['transaction_date'].agg(['min', 'max'])"
      ],
      "metadata": {
        "colab": {
          "base_uri": "https://localhost:8080/"
        },
        "id": "1wHw_HedLXN-",
        "outputId": "c50c14e1-de36-46cd-c812-c508f88c31bb"
      },
      "execution_count": 6,
      "outputs": [
        {
          "output_type": "execute_result",
          "data": {
            "text/plain": [
              "min   2017-01-01\n",
              "max   2017-12-30\n",
              "Name: transaction_date, dtype: datetime64[ns]"
            ]
          },
          "metadata": {},
          "execution_count": 6
        }
      ]
    },
    {
      "cell_type": "code",
      "source": [
        "import matplotlib.pyplot as plt\n",
        "plt.hist(Transactions['customer_id'], bins=30)\n",
        "plt.title('Check customer_id')\n",
        "plt.xlabel('customer_id')\n",
        "plt.ylabel('n of transactions')\n",
        "plt.show()"
      ],
      "metadata": {
        "colab": {
          "base_uri": "https://localhost:8080/",
          "height": 472
        },
        "id": "aEFPmooJMS0F",
        "outputId": "f1c5c2ff-c3a7-47dc-9162-3b7c97b9fa11"
      },
      "execution_count": 21,
      "outputs": [
        {
          "output_type": "display_data",
          "data": {
            "text/plain": [
              "<Figure size 640x480 with 1 Axes>"
            ],
            "image/png": "[encoded data removed]"
          },
          "metadata": {}
        }
      ]
    },
    {
      "cell_type": "markdown",
      "source": [
        "there are extreme value in customer_id, and it is unreasonable and must be mistyped."
      ],
      "metadata": {
        "id": "2E1YZukFNORm"
      }
    },
    {
      "cell_type": "code",
      "source": [
        "CustomerDemographic.head()"
      ],
      "metadata": {
        "colab": {
          "base_uri": "https://localhost:8080/",
          "height": 374
        },
        "id": "6OSgw1GnLgOt",
        "outputId": "8a1ff582-a408-482a-e462-bca9b3afcce1"
      },
      "execution_count": 7,
      "outputs": [
        {
          "output_type": "execute_result",
          "data": {
            "text/plain": [
              "   customer_id      first_name  last_name  gender  \\\n",
              "0            1         Laraine  Medendorp       F   \n",
              "1            2             Eli    Bockman    Male   \n",
              "2            3           Arlin     Dearle    Male   \n",
              "3            4          Talbot        NaN    Male   \n",
              "4            5  Sheila-kathryn     Calton  Female   \n",
              "\n",
              "   past_3_years_bike_related_purchases        DOB               job_title  \\\n",
              "0                                   93 1953-10-12     Executive Secretary   \n",
              "1                                   81 1980-12-16  Administrative Officer   \n",
              "2                                   61 1954-01-20      Recruiting Manager   \n",
              "3                                   33 1961-10-03                     NaN   \n",
              "4                                   56 1977-05-13           Senior Editor   \n",
              "\n",
              "  job_industry_category     wealth_segment deceased_indicator  \\\n",
              "0                Health      Mass Customer                  N   \n",
              "1    Financial Services      Mass Customer                  N   \n",
              "2              Property      Mass Customer                  N   \n",
              "3                    IT      Mass Customer                  N   \n",
              "4                   NaN  Affluent Customer                  N   \n",
              "\n",
              "                                             default owns_car  tenure  \n",
              "0                                                 \"'      Yes    11.0  \n",
              "1                       <script>alert('hi')</script>      Yes    16.0  \n",
              "2                                2018-02-01 00:00:00      Yes    15.0  \n",
              "3  () { _; } >_[$($())] { touch /tmp/blns.shellsh...       No     7.0  \n",
              "4                                                NIL      Yes     8.0  "
            ],
            "text/html": [
              "\n",
              "  <div id=\"df-e7576c4d-0d6a-46c0-8ba4-1878e68ad377\">\n",
              "    <div class=\"colab-df-container\">\n",
              "      <div>\n",
              "<style scoped>\n",
              "    .dataframe tbody tr th:only-of-type {\n",
              "        vertical-align: middle;\n",
              "    }\n",
              "\n",
              "    .dataframe tbody tr th {\n",
              "        vertical-align: top;\n",
              "    }\n",
              "\n",
              "    .dataframe thead th {\n",
              "        text-align: right;\n",
              "    }\n",
              "</style>\n",
              "<table border=\"1\" class=\"dataframe\">\n",
              "  <thead>\n",
              "    <tr style=\"text-align: right;\">\n",
              "      <th></th>\n",
              "      <th>customer_id</th>\n",
              "      <th>first_name</th>\n",
              "      <th>last_name</th>\n",
              "      <th>gender</th>\n",
              "      <th>past_3_years_bike_related_purchases</th>\n",
              "      <th>DOB</th>\n",
              "      <th>job_title</th>\n",
              "      <th>job_industry_category</th>\n",
              "      <th>wealth_segment</th>\n",
              "      <th>deceased_indicator</th>\n",
              "      <th>default</th>\n",
              "      <th>owns_car</th>\n",
              "      <th>tenure</th>\n",
              "    </tr>\n",
              "  </thead>\n",
              "  <tbody>\n",
              "    <tr>\n",
              "      <th>0</th>\n",
              "      <td>1</td>\n",
              "      <td>Laraine</td>\n",
              "      <td>Medendorp</td>\n",
              "      <td>F</td>\n",
              "      <td>93</td>\n",
              "      <td>1953-10-12</td>\n",
              "      <td>Executive Secretary</td>\n",
              "      <td>Health</td>\n",
              "      <td>Mass Customer</td>\n",
              "      <td>N</td>\n",
              "      <td>\"'</td>\n",
              "      <td>Yes</td>\n",
              "      <td>11.0</td>\n",
              "    </tr>\n",
              "    <tr>\n",
              "      <th>1</th>\n",
              "      <td>2</td>\n",
              "      <td>Eli</td>\n",
              "      <td>Bockman</td>\n",
              "      <td>Male</td>\n",
              "      <td>81</td>\n",
              "      <td>1980-12-16</td>\n",
              "      <td>Administrative Officer</td>\n",
              "      <td>Financial Services</td>\n",
              "      <td>Mass Customer</td>\n",
              "      <td>N</td>\n",
              "      <td>&lt;script&gt;alert('hi')&lt;/script&gt;</td>\n",
              "      <td>Yes</td>\n",
              "      <td>16.0</td>\n",
              "    </tr>\n",
              "    <tr>\n",
              "      <th>2</th>\n",
              "      <td>3</td>\n",
              "      <td>Arlin</td>\n",
              "      <td>Dearle</td>\n",
              "      <td>Male</td>\n",
              "      <td>61</td>\n",
              "      <td>1954-01-20</td>\n",
              "      <td>Recruiting Manager</td>\n",
              "      <td>Property</td>\n",
              "      <td>Mass Customer</td>\n",
              "      <td>N</td>\n",
              "      <td>2018-02-01 00:00:00</td>\n",
              "      <td>Yes</td>\n",
              "      <td>15.0</td>\n",
              "    </tr>\n",
              "    <tr>\n",
              "      <th>3</th>\n",
              "      <td>4</td>\n",
              "      <td>Talbot</td>\n",
              "      <td>NaN</td>\n",
              "      <td>Male</td>\n",
              "      <td>33</td>\n",
              "      <td>1961-10-03</td>\n",
              "      <td>NaN</td>\n",
              "      <td>IT</td>\n",
              "      <td>Mass Customer</td>\n",
              "      <td>N</td>\n",
              "      <td>() { _; } &gt;_[$($())] { touch /tmp/blns.shellsh...</td>\n",
              "      <td>No</td>\n",
              "      <td>7.0</td>\n",
              "    </tr>\n",
              "    <tr>\n",
              "      <th>4</th>\n",
              "      <td>5</td>\n",
              "      <td>Sheila-kathryn</td>\n",
              "      <td>Calton</td>\n",
              "      <td>Female</td>\n",
              "      <td>56</td>\n",
              "      <td>1977-05-13</td>\n",
              "      <td>Senior Editor</td>\n",
              "      <td>NaN</td>\n",
              "      <td>Affluent Customer</td>\n",
              "      <td>N</td>\n",
              "      <td>NIL</td>\n",
              "      <td>Yes</td>\n",
              "      <td>8.0</td>\n",
              "    </tr>\n",
              "  </tbody>\n",
              "</table>\n",
              "</div>\n",
              "      <button class=\"colab-df-convert\" onclick=\"convertToInteractive('df-e7576c4d-0d6a-46c0-8ba4-1878e68ad377')\"\n",
              "              title=\"Convert this dataframe to an interactive table.\"\n",
              "              style=\"display:none;\">\n",
              "        \n",
              "  <svg xmlns=\"http://www.w3.org/2000/svg\" height=\"24px\"viewBox=\"0 0 24 24\"\n",
              "       width=\"24px\">\n",
              "    <path d=\"M0 0h24v24H0V0z\" fill=\"none\"/>\n",
              "    <path d=\"M18.56 5.44l.94 2.06.94-2.06 2.06-.94-2.06-.94-.94-2.06-.94 2.06-2.06.94zm-11 1L8.5 8.5l.94-2.06 2.06-.94-2.06-.94L8.5 2.5l-.94 2.06-2.06.94zm10 10l.94 2.06.94-2.06 2.06-.94-2.06-.94-.94-2.06-.94 2.06-2.06.94z\"/><path d=\"M17.41 7.96l-1.37-1.37c-.4-.4-.92-.59-1.43-.59-.52 0-1.04.2-1.43.59L10.3 9.45l-7.72 7.72c-.78.78-.78 2.05 0 2.83L4 21.41c.39.39.9.59 1.41.59.51 0 1.02-.2 1.41-.59l7.78-7.78 2.81-2.81c.8-.78.8-2.07 0-2.86zM5.41 20L4 18.59l7.72-7.72 1.47 1.35L5.41 20z\"/>\n",
              "  </svg>\n",
              "      </button>\n",
              "      \n",
              "  <style>\n",
              "    .colab-df-container {\n",
              "      display:flex;\n",
              "      flex-wrap:wrap;\n",
              "      gap: 12px;\n",
              "    }\n",
              "\n",
              "    .colab-df-convert {\n",
              "      background-color: #E8F0FE;\n",
              "      border: none;\n",
              "      border-radius: 50%;\n",
              "      cursor: pointer;\n",
              "      display: none;\n",
              "      fill: #1967D2;\n",
              "      height: 32px;\n",
              "      padding: 0 0 0 0;\n",
              "      width: 32px;\n",
              "    }\n",
              "\n",
              "    .colab-df-convert:hover {\n",
              "      background-color: #E2EBFA;\n",
              "      box-shadow: 0px 1px 2px rgba(60, 64, 67, 0.3), 0px 1px 3px 1px rgba(60, 64, 67, 0.15);\n",
              "      fill: #174EA6;\n",
              "    }\n",
              "\n",
              "    [theme=dark] .colab-df-convert {\n",
              "      background-color: #3B4455;\n",
              "      fill: #D2E3FC;\n",
              "    }\n",
              "\n",
              "    [theme=dark] .colab-df-convert:hover {\n",
              "      background-color: #434B5C;\n",
              "      box-shadow: 0px 1px 3px 1px rgba(0, 0, 0, 0.15);\n",
              "      filter: drop-shadow(0px 1px 2px rgba(0, 0, 0, 0.3));\n",
              "      fill: #FFFFFF;\n",
              "    }\n",
              "  </style>\n",
              "\n",
              "      <script>\n",
              "        const buttonEl =\n",
              "          document.querySelector('#df-e7576c4d-0d6a-46c0-8ba4-1878e68ad377 button.colab-df-convert');\n",
              "        buttonEl.style.display =\n",
              "          google.colab.kernel.accessAllowed ? 'block' : 'none';\n",
              "\n",
              "        async function convertToInteractive(key) {\n",
              "          const element = document.querySelector('#df-e7576c4d-0d6a-46c0-8ba4-1878e68ad377');\n",
              "          const dataTable =\n",
              "            await google.colab.kernel.invokeFunction('convertToInteractive',\n",
              "                                                     [key], {});\n",
              "          if (!dataTable) return;\n",
              "\n",
              "          const docLinkHtml = 'Like what you see? Visit the ' +\n",
              "            '<a target=\"_blank\" href=https://colab.research.google.com/notebooks/data_table.ipynb>data table notebook</a>'\n",
              "            + ' to learn more about interactive tables.';\n",
              "          element.innerHTML = '';\n",
              "          dataTable['output_type'] = 'display_data';\n",
              "          await google.colab.output.renderOutput(dataTable, element);\n",
              "          const docLink = document.createElement('div');\n",
              "          docLink.innerHTML = docLinkHtml;\n",
              "          element.appendChild(docLink);\n",
              "        }\n",
              "      </script>\n",
              "    </div>\n",
              "  </div>\n",
              "  "
            ]
          },
          "metadata": {},
          "execution_count": 7
        }
      ]
    },
    {
      "cell_type": "code",
      "source": [
        "CustomerDemographic.info()"
      ],
      "metadata": {
        "colab": {
          "base_uri": "https://localhost:8080/"
        },
        "id": "YbxAgbZ9Lh7R",
        "outputId": "47ee8939-b63d-4041-d19e-43c5efb37cde"
      },
      "execution_count": 8,
      "outputs": [
        {
          "output_type": "stream",
          "name": "stdout",
          "text": [
            "<class 'pandas.core.frame.DataFrame'>\n",
            "RangeIndex: 4000 entries, 0 to 3999\n",
            "Data columns (total 13 columns):\n",
            " #   Column                               Non-Null Count  Dtype         \n",
            "---  ------                               --------------  -----         \n",
            " 0   customer_id                          4000 non-null   int64         \n",
            " 1   first_name                           4000 non-null   object        \n",
            " 2   last_name                            3875 non-null   object        \n",
            " 3   gender                               4000 non-null   object        \n",
            " 4   past_3_years_bike_related_purchases  4000 non-null   int64         \n",
            " 5   DOB                                  3913 non-null   datetime64[ns]\n",
            " 6   job_title                            3494 non-null   object        \n",
            " 7   job_industry_category                3344 non-null   object        \n",
            " 8   wealth_segment                       4000 non-null   object        \n",
            " 9   deceased_indicator                   4000 non-null   object        \n",
            " 10  default                              3698 non-null   object        \n",
            " 11  owns_car                             4000 non-null   object        \n",
            " 12  tenure                               3913 non-null   float64       \n",
            "dtypes: datetime64[ns](1), float64(1), int64(2), object(9)\n",
            "memory usage: 406.4+ KB\n"
          ]
        }
      ]
    },
    {
      "cell_type": "code",
      "source": [
        "CustomerDemographic.nunique()"
      ],
      "metadata": {
        "colab": {
          "base_uri": "https://localhost:8080/"
        },
        "id": "dGv9aBxyLlfT",
        "outputId": "d8745181-90d1-4365-8dab-4ddc92b85575"
      },
      "execution_count": 9,
      "outputs": [
        {
          "output_type": "execute_result",
          "data": {
            "text/plain": [
              "customer_id                            4000\n",
              "first_name                             3139\n",
              "last_name                              3725\n",
              "gender                                    6\n",
              "past_3_years_bike_related_purchases     100\n",
              "DOB                                    3448\n",
              "job_title                               195\n",
              "job_industry_category                     9\n",
              "wealth_segment                            3\n",
              "deceased_indicator                        2\n",
              "default                                  90\n",
              "owns_car                                  2\n",
              "tenure                                   22\n",
              "dtype: int64"
            ]
          },
          "metadata": {},
          "execution_count": 9
        }
      ]
    },
    {
      "cell_type": "code",
      "source": [
        "import datetime\n",
        "year = CustomerDemographic['DOB'].dt.year\n",
        "print(sorted(year, reverse=True))\n",
        "plt.hist(year, bins=50)"
      ],
      "metadata": {
        "colab": {
          "base_uri": "https://localhost:8080/",
          "height": 718
        },
        "id": "SGyalNpdPI4i",
        "outputId": "1b01a7cf-b37a-44f1-c58a-8c5f1ba34380"
      },
      "execution_count": 37,
      "outputs": [
        {
          "output_type": "stream",
          "name": "stdout",
          "text": [
            "[2002.0, 2002.0, 2001.0, 2001.0, 2001.0, 2000.0, 2000.0, 2000.0, 1999.0, 1999.0, 1998.0, 1997.0, 1997.0, 1997.0, 1997.0, 1996.0, 1995.0, 1995.0, 1995.0, 1994.0, 1994.0, 1993.0, 1992.0, 1989.0, 1989.0, 1988.0, 1988.0, 1988.0, 1986.0, 1985.0, 1985.0, 1985.0, 1984.0, 1983.0, 1983.0, 1981.0, 1981.0, 1980.0, 1980.0, 1980.0, 1980.0, 1980.0, 1979.0, 1979.0, 1978.0, 1978.0, 1978.0, 1978.0, 1978.0, 1978.0, 1977.0, 1977.0, 1977.0, 1977.0, 1977.0, 1976.0, 1976.0, 1976.0, 1976.0, 1976.0, 1975.0, 1975.0, 1974.0, 1974.0, 1974.0, 1973.0, 1973.0, 1972.0, 1972.0, 1970.0, 1969.0, 1969.0, 1968.0, 1968.0, 1967.0, 1967.0, 1967.0, 1967.0, 1966.0, 1966.0, 1966.0, 1965.0, 1965.0, 1963.0, 1962.0, 1962.0, 1962.0, 1962.0, 1961.0, 1961.0, 1960.0, 1960.0, 1959.0, 1959.0, 1958.0, 1958.0, 1957.0, 1956.0, 1955.0, 1955.0, 1955.0, 1954.0, 1954.0, 1954.0, 1953.0, 1843.0, nan, nan, 2001.0, 1997.0, 1997.0, 1997.0, 1996.0, 1995.0, 1995.0, 1995.0, 1994.0, 1994.0, 1994.0, 1994.0, 1993.0, 1993.0, 1992.0, 1992.0, 1992.0, 1990.0, 1989.0, 1989.0, 1988.0, 1988.0, 1987.0, 1987.0, 1985.0, 1985.0, 1985.0, 1985.0, 1985.0, 1984.0, 1984.0, 1983.0, 1982.0, 1982.0, 1981.0, 1981.0, 1981.0, 1981.0, 1981.0, 1981.0, 1979.0, 1979.0, 1979.0, 1979.0, 1979.0, 1979.0, 1979.0, 1978.0, 1978.0, 1978.0, 1978.0, 1978.0, 1977.0, 1977.0, 1977.0, 1977.0, 1976.0, 1976.0, 1976.0, 1975.0, 1975.0, 1975.0, 1975.0, 1975.0, 1975.0, 1974.0, 1974.0, 1974.0, 1974.0, 1974.0, 1974.0, 1973.0, 1973.0, 1971.0, 1971.0, 1970.0, 1969.0, 1968.0, 1968.0, 1967.0, 1967.0, 1966.0, 1966.0, 1966.0, 1966.0, 1965.0, 1964.0, 1964.0, 1964.0, 1964.0, 1964.0, 1964.0, 1963.0, 1963.0, 1963.0, 1960.0, 1960.0, 1960.0, 1959.0, 1958.0, 1958.0, 1958.0, 1957.0, 1957.0, 1957.0, 1957.0, 1957.0, 1957.0, 1956.0, 1956.0, 1956.0, 1955.0, 1954.0, 1954.0, 1954.0, 1954.0, nan, 1997.0, 1995.0, 1992.0, 1992.0, 1992.0, 1992.0, 1991.0, 1991.0, 1991.0, 1990.0, 1989.0, 1989.0, 1989.0, 1988.0, 1987.0, 1987.0, 1987.0, 1986.0, 1986.0, 1985.0, 1984.0, 1983.0, 1983.0, 1983.0, 1983.0, 1981.0, 1980.0, 1979.0, 1978.0, 1978.0, 1978.0, 1977.0, 1977.0, 1977.0, 1977.0, 1977.0, 1977.0, 1976.0, 1976.0, 1976.0, 1975.0, 1974.0, 1974.0, 1973.0, 1972.0, 1970.0, 1969.0, 1967.0, 1966.0, 1966.0, 1965.0, 1963.0, 1961.0, 1956.0, 1955.0, 1954.0, 1954.0, 1954.0, 1954.0, nan, 2001.0, 2001.0, 1999.0, 1999.0, 1997.0, 1996.0, 1995.0, nan, nan, nan, 2001.0, 2000.0, 1999.0, 1999.0, 1999.0, 1999.0, 1998.0, 1998.0, 1997.0, 1997.0, 1996.0, 1996.0, 1995.0, 1995.0, 1992.0, 1991.0, 1991.0, 1991.0, 1991.0, 1991.0, 1990.0, 1990.0, 1990.0, 1990.0, 1989.0, 1989.0, 1989.0, 1989.0, 1988.0, 1987.0, 1987.0, 1987.0, 1987.0, 1986.0, 1986.0, 1986.0, 1986.0, 1986.0, 1986.0, 1985.0, 1985.0, 1985.0, 1985.0, 1985.0, 1985.0, 1984.0, 1984.0, 1984.0, 1983.0, 1983.0, 1981.0, 1981.0, 1981.0, 1981.0, 1980.0, 1980.0, 1980.0, 1980.0, 1980.0, 1980.0, 1980.0, 1980.0, 1980.0, 1979.0, 1979.0, 1979.0, 1979.0, 1979.0, 1978.0, 1978.0, 1978.0, 1978.0, 1978.0, 1978.0, 1978.0, 1977.0, 1977.0, 1977.0, 1977.0, 1977.0, 1977.0, 1977.0, 1977.0, 1977.0, 1977.0, 1976.0, 1976.0, 1976.0, 1976.0, 1976.0, 1976.0, 1976.0, 1976.0, 1976.0, 1976.0, 1976.0, 1975.0, 1975.0, 1975.0, 1975.0, 1975.0, 1974.0, 1974.0, 1974.0, 1974.0, 1974.0, 1974.0, 1974.0, 1974.0, 1974.0, 1974.0, 1973.0, 1973.0, 1973.0, 1973.0, 1973.0, 1973.0, 1972.0, 1972.0, 1972.0, 1971.0, 1971.0, 1971.0, 1971.0, 1971.0, 1970.0, 1970.0, 1969.0, 1969.0, 1969.0, 1969.0, 1969.0, 1968.0, 1967.0, 1967.0, 1966.0, 1966.0, 1966.0, 1965.0, 1965.0, 1964.0, 1964.0, 1962.0, 1962.0, 1962.0, 1961.0, 1960.0, 1960.0, 1959.0, 1959.0, 1959.0, 1959.0, 1958.0, 1958.0, 1958.0, 1958.0, 1958.0, 1958.0, 1958.0, 1957.0, 1957.0, 1957.0, 1957.0, 1956.0, 1956.0, 1956.0, 1956.0, 1956.0, 1956.0, 1956.0, 1956.0, 1955.0, 1955.0, 1954.0, 1954.0, 1954.0, 1953.0, nan, nan, 2001.0, 2001.0, 2001.0, 2000.0, 2000.0, 2000.0, 1999.0, 1998.0, 1998.0, 1996.0, 1996.0, 1996.0, 1995.0, 1995.0, 1994.0, 1994.0, 1993.0, 1993.0, 1992.0, 1992.0, 1990.0, nan, nan, nan, 1999.0, 1996.0, 1995.0, 1995.0, 1995.0, 1994.0, 1993.0, 1993.0, 1992.0, 1992.0, 1992.0, 1991.0, 1990.0, 1990.0, 1990.0, 1989.0, 1989.0, 1989.0, 1989.0, 1989.0, 1988.0, 1988.0, 1987.0, 1987.0, 1986.0, 1985.0, 1985.0, 1985.0, 1985.0, 1985.0, 1985.0, 1984.0, 1984.0, 1984.0, 1984.0, 1983.0, 1983.0, 1983.0, 1982.0, 1982.0, 1981.0, 1981.0, 1981.0, 1981.0, 1980.0, 1980.0, 1980.0, 1980.0, 1980.0, 1980.0, 1979.0, 1979.0, 1979.0, 1979.0, 1979.0, 1979.0, 1979.0, 1978.0, 1978.0, 1978.0, 1978.0, 1978.0, 1978.0, 1978.0, 1978.0, 1978.0, 1978.0, 1978.0, 1978.0, 1977.0, 1977.0, 1977.0, 1977.0, 1977.0, 1977.0, 1977.0, 1977.0, 1977.0, 1976.0, 1976.0, 1976.0, 1976.0, 1976.0, 1976.0, 1976.0, 1976.0, 1975.0, 1975.0, 1975.0, 1975.0, 1974.0, 1974.0, 1974.0, 1974.0, 1974.0, 1974.0, 1974.0, 1974.0, 1974.0, 1974.0, 1974.0, 1973.0, 1973.0, 1973.0, 1973.0, 1973.0, 1973.0, 1973.0, 1972.0, 1971.0, 1971.0, 1971.0, 1970.0, 1970.0, 1970.0, 1970.0, 1969.0, 1969.0, 1968.0, 1968.0, 1967.0, 1967.0, 1967.0, 1967.0, 1967.0, 1966.0, 1966.0, 1966.0, 1966.0, 1965.0, 1965.0, 1965.0, 1964.0, 1964.0, 1964.0, 1964.0, 1963.0, 1963.0, 1962.0, 1962.0, 1961.0, 1961.0, 1961.0, 1961.0, 1961.0, 1961.0, 1960.0, 1960.0, 1959.0, 1959.0, 1959.0, 1958.0, 1958.0, 1958.0, 1957.0, 1957.0, 1956.0, 1956.0, 1956.0, 1956.0, 1955.0, 1955.0, 1955.0, 1955.0, 1954.0, 1954.0, 1953.0, nan, 2000.0, 1999.0, 1998.0, 1998.0, 1997.0, 1997.0, 1996.0, 1995.0, 1995.0, 1995.0, 1995.0, 1994.0, 1993.0, 1993.0, 1992.0, 1992.0, 1992.0, 1989.0, 1989.0, 1988.0, 1988.0, 1987.0, 1986.0, 1986.0, 1986.0, 1982.0, 1981.0, 1980.0, 1979.0, 1978.0, 1978.0, 1978.0, 1977.0, 1977.0, 1976.0, 1976.0, 1976.0, 1976.0, 1975.0, 1974.0, 1974.0, 1974.0, 1974.0, 1974.0, 1974.0, 1973.0, 1973.0, 1973.0, 1972.0, 1972.0, 1971.0, 1971.0, 1970.0, 1968.0, 1968.0, 1967.0, 1966.0, 1964.0, 1962.0, 1962.0, 1960.0, 1960.0, 1958.0, 1957.0, 1956.0, 1944.0, nan, nan, 1998.0, 1997.0, 1996.0, 1994.0, 1994.0, 1993.0, 1992.0, 1990.0, 1990.0, 1987.0, 1987.0, 1987.0, 1987.0, 1986.0, 1984.0, 1983.0, 1980.0, 1979.0, 1979.0, 1978.0, 1978.0, 1977.0, 1977.0, 1976.0, 1976.0, 1975.0, 1975.0, 1974.0, 1973.0, 1972.0, 1972.0, 1971.0, 1970.0, 1970.0, 1969.0, 1968.0, 1968.0, 1968.0, 1967.0, 1966.0, 1966.0, 1966.0, 1966.0, 1964.0, 1964.0, 1963.0, 1962.0, 1961.0, 1960.0, 1959.0, 1956.0, 1956.0, 1954.0, 1954.0, 1954.0, 1953.0, 1931.0, nan, 2001.0, 1999.0, 1999.0, 1998.0, 1997.0, nan, 2000.0, 1999.0, 1998.0, 1996.0, 1995.0, 1992.0, 1992.0, 1991.0, 1990.0, 1990.0, 1989.0, 1989.0, 1989.0, 1988.0, 1986.0, 1984.0, 1981.0, 1981.0, 1980.0, 1980.0, 1979.0, 1979.0, 1978.0, 1978.0, 1978.0, 1977.0, 1977.0, 1977.0, 1977.0, 1975.0, 1975.0, 1975.0, 1974.0, 1974.0, 1973.0, 1973.0, 1973.0, 1973.0, 1973.0, 1973.0, 1971.0, 1969.0, 1968.0, 1968.0, 1968.0, 1966.0, 1964.0, 1964.0, 1962.0, 1960.0, 1959.0, 1957.0, 1957.0, 1957.0, 1955.0, 1954.0, nan, nan, 2000.0, 1999.0, 1999.0, 1998.0, 1997.0, 1992.0, 1990.0, 1989.0, 1988.0, 1988.0, 1987.0, 1986.0, 1984.0, 1983.0, 1982.0, 1981.0, 1981.0, 1980.0, 1980.0, 1980.0, 1980.0, 1979.0, 1978.0, 1978.0, 1978.0, 1978.0, 1978.0, 1978.0, 1977.0, 1977.0, 1977.0, 1975.0, 1974.0, 1974.0, 1974.0, 1974.0, 1974.0, 1973.0, 1973.0, 1971.0, 1970.0, 1970.0, 1969.0, 1968.0, 1968.0, 1967.0, 1966.0, 1966.0, 1965.0, 1965.0, 1964.0, 1964.0, 1963.0, 1963.0, 1963.0, 1961.0, 1961.0, 1960.0, 1959.0, nan, 1999.0, 1999.0, 1998.0, 1997.0, 1996.0, 1996.0, 1996.0, 1995.0, 1995.0, 1994.0, 1994.0, 1994.0, 1991.0, 1991.0, 1989.0, 1989.0, 1988.0, 1988.0, 1987.0, 1987.0, 1986.0, 1986.0, 1986.0, 1985.0, 1984.0, 1981.0, 1980.0, 1979.0, 1979.0, 1979.0, 1979.0, 1978.0, 1978.0, 1978.0, 1977.0, 1977.0, 1976.0, 1976.0, 1976.0, 1975.0, 1975.0, 1974.0, 1973.0, 1972.0, 1971.0, 1971.0, 1969.0, 1968.0, 1968.0, 1966.0, 1965.0, 1965.0, 1964.0, 1964.0, 1961.0, 1961.0, 1960.0, 1955.0, nan, 1971.0, nan, nan, 2001.0, 2000.0, 1999.0, 1998.0, 1998.0, 1998.0, 1997.0, 1997.0, 1997.0, 1996.0, 1996.0, 1995.0, 1995.0, 1994.0, 1994.0, 1994.0, 1994.0, 1994.0, 1993.0, 1993.0, 1992.0, 1992.0, 1992.0, 1992.0, 1991.0, 1991.0, 1991.0, 1991.0, 1991.0, 1990.0, 1990.0, 1990.0, 1990.0, 1989.0, 1988.0, 1987.0, 1986.0, 1985.0, 1985.0, 1985.0, 1985.0, 1984.0, 1983.0, 1982.0, 1982.0, 1982.0, 1981.0, 1981.0, 1981.0, 1981.0, 1981.0, 1980.0, 1980.0, 1979.0, 1979.0, 1978.0, 1978.0, 1978.0, 1978.0, 1978.0, 1977.0, 1977.0, 1977.0, 1977.0, 1977.0, 1977.0, 1977.0, 1977.0, 1977.0, 1976.0, 1976.0, 1976.0, 1976.0, 1976.0, 1976.0, 1975.0, 1975.0, 1975.0, 1975.0, 1975.0, 1975.0, 1974.0, 1974.0, 1974.0, 1974.0, 1974.0, 1973.0, 1973.0, 1973.0, 1970.0, 1970.0, 1969.0, 1968.0, 1968.0, 1968.0, 1967.0, 1967.0, 1966.0, 1965.0, 1965.0, 1965.0, 1965.0, 1965.0, 1965.0, 1964.0, 1963.0, 1962.0, 1962.0, 1962.0, 1962.0, 1960.0, 1960.0, 1960.0, 1959.0, 1959.0, 1959.0, 1959.0, 1958.0, 1957.0, 1956.0, 1956.0, 1955.0, 1955.0, 1955.0, 1954.0, nan, 1975.0, nan, 2000.0, 1999.0, 1996.0, nan, 1996.0, 1996.0, 1995.0, 1995.0, 1995.0, 1994.0, 1989.0, 1989.0, 1989.0, 1988.0, 1988.0, 1988.0, 1987.0, 1987.0, 1986.0, 1986.0, 1986.0, 1986.0, 1985.0, 1983.0, 1983.0, 1980.0, 1980.0, 1979.0, 1978.0, 1978.0, 1977.0, 1977.0, 1976.0, 1976.0, 1976.0, 1976.0, 1976.0, 1975.0, 1975.0, 1975.0, 1975.0, 1975.0, 1975.0, 1974.0, 1973.0, 1969.0, 1969.0, 1968.0, 1968.0, 1968.0, 1967.0, 1966.0, 1965.0, 1962.0, 1962.0, 1961.0, 1959.0, 1958.0, 1957.0, 1955.0, 1955.0, 1935.0, nan, 2000.0, 1998.0, 1998.0, 1997.0, 1997.0, 1996.0, 1996.0, 1992.0, nan, 1995.0, 1992.0, 1989.0, 1989.0, 1988.0, 1988.0, 1988.0, 1988.0, 1987.0, 1986.0, 1985.0, 1984.0, 1983.0, 1982.0, 1981.0, 1978.0, 1978.0, 1978.0, 1978.0, 1978.0, 1978.0, 1977.0, 1977.0, 1977.0, 1976.0, 1975.0, 1975.0, 1974.0, 1974.0, 1973.0, 1973.0, 1972.0, 1971.0, 1971.0, 1971.0, 1970.0, 1970.0, 1969.0, 1968.0, 1968.0, 1968.0, 1968.0, 1967.0, 1967.0, 1965.0, 1965.0, 1964.0, 1962.0, 1959.0, 1958.0, 1958.0, 1955.0, 1953.0, nan, 2001.0, 2001.0, 1998.0, 1998.0, 1997.0, 1997.0, 1997.0, 1995.0, 1995.0, 1994.0, 1994.0, 1991.0, 1991.0, 1990.0, 1989.0, 1989.0, 1989.0, 1988.0, 1988.0, 1987.0, 1986.0, 1986.0, 1986.0, 1985.0, 1984.0, 1980.0, nan, 2001.0, 2000.0, 2000.0, 2000.0, 1999.0, 1999.0, 1998.0, 1998.0, 1998.0, 1998.0, 1998.0, 1998.0, 1998.0, 1998.0, 1998.0, 1997.0, 1997.0, 1997.0, 1996.0, 1996.0, 1996.0, 1995.0, 1995.0, nan, 1995.0, 1994.0, 1994.0, 1994.0, 1994.0, 1994.0, 1994.0, 1994.0, 1993.0, 1993.0, 1993.0, 1993.0, 1992.0, 1992.0, 1992.0, 1991.0, 1990.0, 1989.0, 1989.0, 1989.0, 1989.0, 1989.0, 1988.0, 1987.0, 1987.0, 1987.0, 1986.0, 1986.0, 1986.0, 1986.0, 1986.0, 1986.0, 1986.0, 1985.0, 1985.0, 1985.0, 1985.0, 1984.0, 1984.0, 1983.0, 1983.0, 1982.0, 1982.0, 1981.0, 1981.0, 1981.0, 1980.0, 1980.0, 1980.0, 1980.0, 1980.0, 1980.0, 1980.0, 1980.0, 1980.0, 1979.0, 1979.0, 1979.0, 1979.0, 1979.0, 1978.0, 1978.0, 1978.0, 1978.0, 1978.0, 1978.0, 1978.0, 1978.0, 1978.0, 1978.0, 1978.0, 1978.0, 1978.0, 1978.0, 1978.0, 1978.0, 1978.0, 1977.0, 1977.0, 1977.0, 1977.0, 1977.0, 1977.0, 1977.0, 1977.0, 1977.0, 1977.0, 1977.0, 1976.0, 1976.0, 1976.0, 1976.0, 1976.0, 1976.0, 1975.0, 1975.0, 1975.0, 1975.0, 1975.0, 1974.0, 1974.0, 1974.0, 1974.0, 1974.0, 1974.0, 1974.0, 1973.0, 1973.0, 1973.0, 1973.0, 1973.0, 1973.0, 1973.0, 1973.0, 1973.0, 1973.0, 1973.0, 1973.0, 1973.0, 1973.0, 1973.0, 1972.0, 1972.0, 1972.0, 1972.0, 1972.0, 1971.0, 1971.0, 1970.0, 1970.0, 1970.0, 1970.0, 1970.0, 1970.0, 1969.0, 1969.0, 1968.0, 1968.0, 1968.0, 1967.0, 1967.0, 1967.0, 1967.0, 1967.0, 1967.0, 1967.0, 1967.0, 1966.0, 1966.0, 1966.0, 1966.0, 1966.0, 1965.0, 1965.0, 1965.0, 1965.0, 1965.0, 1965.0, 1964.0, 1964.0, 1964.0, 1964.0, 1964.0, 1963.0, 1963.0, 1962.0, 1962.0, 1962.0, 1961.0, 1961.0, 1960.0, 1960.0, 1960.0, 1960.0, 1959.0, 1959.0, 1959.0, 1959.0, 1959.0, 1958.0, 1958.0, 1958.0, 1958.0, 1957.0, 1957.0, 1957.0, 1957.0, 1957.0, 1957.0, 1957.0, 1956.0, 1956.0, 1956.0, 1956.0, 1955.0, 1955.0, 1954.0, 1953.0, nan, 2001.0, 1998.0, 1998.0, 1997.0, 1997.0, 1997.0, 1997.0, 1997.0, 1996.0, 1995.0, 1994.0, 1993.0, 1993.0, 1993.0, 1990.0, 1990.0, 1990.0, 1989.0, 1989.0, 1989.0, 1987.0, 1987.0, 1986.0, 1986.0, 1986.0, 1986.0, 1986.0, 1984.0, 1980.0, 1979.0, 1979.0, 1979.0, 1979.0, 1978.0, 1978.0, 1977.0, 1977.0, 1977.0, 1976.0, 1976.0, 1975.0, 1975.0, 1973.0, 1973.0, 1973.0, 1972.0, 1971.0, 1971.0, 1970.0, 1970.0, 1969.0, 1969.0, 1968.0, 1967.0, 1966.0, 1966.0, 1965.0, 1964.0, 1962.0, 1962.0, 1960.0, 1959.0, 1959.0, 1958.0, 1954.0, nan, 1999.0, 1995.0, 1995.0, 1995.0, 1994.0, 1994.0, 1993.0, 1992.0, 1992.0, 1991.0, 1990.0, 1989.0, 1989.0, 1988.0, 1988.0, 1988.0, 1987.0, 1986.0, 1986.0, 1986.0, 1986.0, 1985.0, 1985.0, 1985.0, 1984.0, 1983.0, 1981.0, 1981.0, 1980.0, 1980.0, 1980.0, 1979.0, 1979.0, 1978.0, 1978.0, 1978.0, 1977.0, 1977.0, 1976.0, 1976.0, 1976.0, 1975.0, 1975.0, 1975.0, 1975.0, 1974.0, 1973.0, 1973.0, 1971.0, 1969.0, 1965.0, 1964.0, 1963.0, 1962.0, 1962.0, 1961.0, 1960.0, 1957.0, 1956.0, 1956.0, 1953.0, nan, nan, 1999.0, 1998.0, 1996.0, 1996.0, 1995.0, 1995.0, 1995.0, 1994.0, 1994.0, 1994.0, 1993.0, 1993.0, 1992.0, 1992.0, 1991.0, 1991.0, 1991.0, 1991.0, 1989.0, 1989.0, 1988.0, 1988.0, 1988.0, 1988.0, 1988.0, 1987.0, 1987.0, 1987.0, 1987.0, 1986.0, 1986.0, 1985.0, 1985.0, 1984.0, 1984.0, 1983.0, 1982.0, 1981.0, 1981.0, 1980.0, 1980.0, 1980.0, 1980.0, 1980.0, 1980.0, 1979.0, 1979.0, 1979.0, 1979.0, 1979.0, 1979.0, 1979.0, 1978.0, 1978.0, 1978.0, 1978.0, 1978.0, 1978.0, 1978.0, 1978.0, 1978.0, 1978.0, 1977.0, 1977.0, 1977.0, 1977.0, 1977.0, 1977.0, 1977.0, 1977.0, 1977.0, 1977.0, 1976.0, 1975.0, 1975.0, 1975.0, 1974.0, 1974.0, 1974.0, 1973.0, 1973.0, 1972.0, 1972.0, 1971.0, 1971.0, 1971.0, 1971.0, 1971.0, 1970.0, 1969.0, 1969.0, 1969.0, 1969.0, 1967.0, 1966.0, 1965.0, 1965.0, 1964.0, 1963.0, 1963.0, 1963.0, 1962.0, 1962.0, 1962.0, 1961.0, 1961.0, 1961.0, 1960.0, 1959.0, 1959.0, 1958.0, 1958.0, 1958.0, 1957.0, 1956.0, 1956.0, 1955.0, 1955.0, 1955.0, 1955.0, 1954.0, nan, nan, 2002.0, 2000.0, 2000.0, 1998.0, 1997.0, 1997.0, 1997.0, 1997.0, 1996.0, 1995.0, 1995.0, 1995.0, 1995.0, 1995.0, 1994.0, nan, 1995.0, 1994.0, 1994.0, 1994.0, 1994.0, 1993.0, 1992.0, 1992.0, 1992.0, 1991.0, 1990.0, 1990.0, 1989.0, 1988.0, 1988.0, 1988.0, 1987.0, 1986.0, 1986.0, 1986.0, 1985.0, 1985.0, 1984.0, 1984.0, 1982.0, 1981.0, 1980.0, 1980.0, 1980.0, 1978.0, 1978.0, 1978.0, 1978.0, 1978.0, 1977.0, 1977.0, 1977.0, 1977.0, 1976.0, 1976.0, 1976.0, 1974.0, 1974.0, 1974.0, 1974.0, 1972.0, 1971.0, 1969.0, 1969.0, 1969.0, 1967.0, 1966.0, 1966.0, 1966.0, 1966.0, 1965.0, 1965.0, 1964.0, 1962.0, 1962.0, 1960.0, 1960.0, 1960.0, 1959.0, 1959.0, 1958.0, 1956.0, 1955.0, 1954.0, nan, 2001.0, 1999.0, 1996.0, 1995.0, 1994.0, 1993.0, 1988.0, 1988.0, 1987.0, 1987.0, 1987.0, 1985.0, 1984.0, 1980.0, 1978.0, 1978.0, 1978.0, 1978.0, 1978.0, 1978.0, 1978.0, 1977.0, 1977.0, 1977.0, 1977.0, 1977.0, 1977.0, 1976.0, 1976.0, 1976.0, 1975.0, 1975.0, 1974.0, 1974.0, 1974.0, 1973.0, 1973.0, 1972.0, 1971.0, 1969.0, 1969.0, 1968.0, 1967.0, 1967.0, 1967.0, 1965.0, 1964.0, 1964.0, 1963.0, 1962.0, 1961.0, 1961.0, 1959.0, 1959.0, 1959.0, 1958.0, 1957.0, 1955.0, 1955.0, 1955.0, 1954.0, nan, 1988.0, 1986.0, 1982.0, 1980.0, 1979.0, 1978.0, 1977.0, 1977.0, 1976.0, 1976.0, 1975.0, 1974.0, 1973.0, 1973.0, 1973.0, 1973.0, 1973.0, 1973.0, 1972.0, 1972.0, 1969.0, 1968.0, 1968.0, 1967.0, 1967.0, 1966.0, 1965.0, 1964.0, 1964.0, 1963.0, 1960.0, 1960.0, 1959.0, 1959.0, 1957.0, 1957.0, 1954.0, 1953.0, 1953.0, nan, 2000.0, 1999.0, 1998.0, 1998.0, 1996.0, 1994.0, 1994.0, 1993.0, 1992.0, 1992.0, 1992.0, 1989.0, 1987.0, 1986.0, 1986.0, 1985.0, 1985.0, 1985.0, 1982.0, 1982.0, 1980.0, 1980.0, 1980.0, 1980.0, 1978.0, 1978.0, 1978.0, 1978.0, 1977.0, 1977.0, 1977.0, 1977.0, 1977.0, 1977.0, 1975.0, 1975.0, 1974.0, 1974.0, 1974.0, 1973.0, 1973.0, 1970.0, 1969.0, 1968.0, 1967.0, 1965.0, 1965.0, 1964.0, 1964.0, 1964.0, 1963.0, 1963.0, 1963.0, 1963.0, 1961.0, 1960.0, 1960.0, 1959.0, 1958.0, 1957.0, 1955.0, 1954.0, nan, nan, nan, 2001.0, 2001.0, 2001.0, 2001.0, 2000.0, 2000.0, 2000.0, 1999.0, 1999.0, 1998.0, 1998.0, 1998.0, 1998.0, 1998.0, 1998.0, 1998.0, 1998.0, 1998.0, 1997.0, 1996.0, 1995.0, 1995.0, 1995.0, 1995.0, 1993.0, 1993.0, 1993.0, 1993.0, 1992.0, 1990.0, 1990.0, 1989.0, 1989.0, 1989.0, 1987.0, 1987.0, 1986.0, 1986.0, 1985.0, 1984.0, 1983.0, 1982.0, 1982.0, 1981.0, 1980.0, 1979.0, 1978.0, 1978.0, 1978.0, 1978.0, 1977.0, 1977.0, 1977.0, 1976.0, 1975.0, 1975.0, 1974.0, 1974.0, 1974.0, 1973.0, 1972.0, 1971.0, 1971.0, 1971.0, 1971.0, 1970.0, 1969.0, 1969.0, 1968.0, 1964.0, 1963.0, 1963.0, 1962.0, 1962.0, 1961.0, 1960.0, 1959.0, 1959.0, 1957.0, 1957.0, 1956.0, 1953.0, nan, 1999.0, 1998.0, 1997.0, 1997.0, 1995.0, 1992.0, 1992.0, 1989.0, 1989.0, 1988.0, 1986.0, 1986.0, 1985.0, 1984.0, 1983.0, 1981.0, 1980.0, 1980.0, 1980.0, 1979.0, 1979.0, 1979.0, 1978.0, 1978.0, 1978.0, 1978.0, 1978.0, 1977.0, 1977.0, 1976.0, 1976.0, 1975.0, 1974.0, 1973.0, 1973.0, 1972.0, 1971.0, 1970.0, 1969.0, 1969.0, 1969.0, 1969.0, 1969.0, 1969.0, 1969.0, 1965.0, 1964.0, 1963.0, 1962.0, 1960.0, 1960.0, 1959.0, 1959.0, 1959.0, 1959.0, 1959.0, 1958.0, 1956.0, 1956.0, 1956.0, 1955.0, 1954.0, nan, 1997.0, 1996.0, 1986.0, 1985.0, 1985.0, 1984.0, 1982.0, 1980.0, 1980.0, 1980.0, 1979.0, 1979.0, 1979.0, 1979.0, 1978.0, 1978.0, 1978.0, 1978.0, 1978.0, 1978.0, 1977.0, 1976.0, 1976.0, 1976.0, 1975.0, 1975.0, 1974.0, 1974.0, 1974.0, 1973.0, 1973.0, 1973.0, 1972.0, 1971.0, 1971.0, 1971.0, 1970.0, 1968.0, 1967.0, 1965.0, 1964.0, 1964.0, 1963.0, 1963.0, 1963.0, 1960.0, 1959.0, 1959.0, 1958.0, 1954.0, nan, 1998.0, 1997.0, 1996.0, 1995.0, 1993.0, 1993.0, 1992.0, 1990.0, 1988.0, 1987.0, 1986.0, 1986.0, 1985.0, 1985.0, 1983.0, 1982.0, 1981.0, 1981.0, 1979.0, 1979.0, 1979.0, 1977.0, 1977.0, 1977.0, 1976.0, 1976.0, 1976.0, 1975.0, 1974.0, 1974.0, 1974.0, 1973.0, 1972.0, 1972.0, 1971.0, 1971.0, 1968.0, 1967.0, 1967.0, 1966.0, 1963.0, 1963.0, 1962.0, 1962.0, 1962.0, 1960.0, 1960.0, 1959.0, 1959.0, 1959.0, 1958.0, 1957.0, 1957.0, 1956.0, 1955.0, 1955.0, 1954.0, 1954.0, nan, nan, 2002.0, 2001.0, 2000.0, 1999.0, 1998.0, 1998.0, 1998.0, 1998.0, 1997.0, 1997.0, 1997.0, 1996.0, 1996.0, 1996.0, 1996.0, 1996.0, 1995.0, 1995.0, 1995.0, 1995.0, 1994.0, 1994.0, 1993.0, 1993.0, 1992.0, 1992.0, 1992.0, 1989.0, 1989.0, 1989.0, 1987.0, 1987.0, 1987.0, 1986.0, 1985.0, 1985.0, 1984.0, 1983.0, 1982.0, 1981.0, 1981.0, 1981.0, 1980.0, 1980.0, 1980.0, 1980.0, 1979.0, 1979.0, 1979.0, 1978.0, 1978.0, 1978.0, 1978.0, 1977.0, 1977.0, 1977.0, 1977.0, 1976.0, 1975.0, 1974.0, 1974.0, 1974.0, 1974.0, 1973.0, 1972.0, 1972.0, 1971.0, 1971.0, 1969.0, 1969.0, 1967.0, 1966.0, 1965.0, 1964.0, 1964.0, 1964.0, 1963.0, 1960.0, 1960.0, 1959.0, 1959.0, 1958.0, 1957.0, 1955.0, 1954.0, nan, 2000.0, 1999.0, 1994.0, nan, 1999.0, 1998.0, 1994.0, 1993.0, 1993.0, 1993.0, 1993.0, 1992.0, 1992.0, 1990.0, 1989.0, 1988.0, 1988.0, 1986.0, 1986.0, 1986.0, 1986.0, 1985.0, 1985.0, 1984.0, 1980.0, 1979.0, 1979.0, 1979.0, 1978.0, 1978.0, 1978.0, 1978.0, 1978.0, 1977.0, 1976.0, 1974.0, 1972.0, 1971.0, 1970.0, 1966.0, 1966.0, 1966.0, 1966.0, 1966.0, 1965.0, 1964.0, 1963.0, 1963.0, 1963.0, 1962.0, 1960.0, 1959.0, 1959.0, 1959.0, 1958.0, 1958.0, 1957.0, 1957.0, 1957.0, 1957.0, 1954.0, nan, 1982.0, 1981.0, 1981.0, 1980.0, 1978.0, 1978.0, 1978.0, 1977.0, 1977.0, 1977.0, 1976.0, 1976.0, 1975.0, 1974.0, 1974.0, 1973.0, 1973.0, 1973.0, 1973.0, 1971.0, 1970.0, 1966.0, 1966.0, 1964.0, 1964.0, 1961.0, 1961.0, 1960.0, 1959.0, 1959.0, 1958.0, 1958.0, 1957.0, 1957.0, 1957.0, 1956.0, 1955.0, 1954.0, 1943.0, nan, 1999.0, 1998.0, 1997.0, nan, 1996.0, 1995.0, 1992.0, 1992.0, 1991.0, 1990.0, 1989.0, 1988.0, 1987.0, 1986.0, 1986.0, 1984.0, 1983.0, 1983.0, 1982.0, 1981.0, 1980.0, 1980.0, 1980.0, 1980.0, 1979.0, 1979.0, 1978.0, 1978.0, 1978.0, 1977.0, 1977.0, 1977.0, 1977.0, 1977.0, 1976.0, 1976.0, 1976.0, 1976.0, 1975.0, 1975.0, 1975.0, 1974.0, 1973.0, 1971.0, 1970.0, 1968.0, 1968.0, 1967.0, 1966.0, 1964.0, 1961.0, 1960.0, 1959.0, 1959.0, 1957.0, 1957.0, 1956.0, 1956.0, 1956.0, 1955.0, 1954.0, 1953.0, nan, 2001.0, 2000.0, 1999.0, 1998.0, 1997.0, 1997.0, 1996.0, 1996.0, 1995.0, 1995.0, 1994.0, 1993.0, 1992.0, 1992.0, 1991.0, 1991.0, 1991.0, 1990.0, 1989.0, 1988.0, 1988.0, 1988.0, 1987.0, 1987.0, 1986.0, 1986.0, 1985.0, 1985.0, 1983.0, 1982.0, 1981.0, 1981.0, 1981.0, 1981.0, 1980.0, 1980.0, 1980.0, 1980.0, 1980.0, 1980.0, 1980.0, 1980.0, 1980.0, 1980.0, 1979.0, 1979.0, 1979.0, 1979.0, 1978.0, 1978.0, 1978.0, 1978.0, 1978.0, 1978.0, 1978.0, 1977.0, 1977.0, 1977.0, 1977.0, 1977.0, 1977.0, 1976.0, 1976.0, 1976.0, 1976.0, 1976.0, 1975.0, 1975.0, 1975.0, 1975.0, 1975.0, 1974.0, 1974.0, 1974.0, 1974.0, 1974.0, 1974.0, 1974.0, 1973.0, 1973.0, 1973.0, 1973.0, 1971.0, 1971.0, 1971.0, 1970.0, 1969.0, 1969.0, 1969.0, 1969.0, 1969.0, 1969.0, 1969.0, 1968.0, 1967.0, 1967.0, 1967.0, 1966.0, 1966.0, 1965.0, 1965.0, 1965.0, 1964.0, 1964.0, 1964.0, 1964.0, 1963.0, 1963.0, 1962.0, 1961.0, 1960.0, 1959.0, 1959.0, 1957.0, 1957.0, 1955.0, 1954.0, 1954.0, 1954.0, 1954.0, 1954.0, 1953.0, nan, 2000.0, 1999.0, 1998.0, 1998.0, 1995.0, nan, 1998.0, 1995.0, 1995.0, 1995.0, 1993.0, 1991.0, 1990.0, 1989.0, 1986.0, 1986.0, 1986.0, 1985.0, 1982.0, 1980.0, 1979.0, 1978.0, 1978.0, 1978.0, 1978.0, 1978.0, 1977.0, 1977.0, 1977.0, 1977.0, 1977.0, 1977.0, 1977.0, 1976.0, 1976.0, 1974.0, 1974.0, 1974.0, 1973.0, 1972.0, 1972.0, 1972.0, 1971.0, 1971.0, 1970.0, 1969.0, 1966.0, 1966.0, 1965.0, 1965.0, 1964.0, 1964.0, 1963.0, 1959.0, 1959.0, 1959.0, 1958.0, 1957.0, 1957.0, 1956.0, 1954.0, nan, nan, 2000.0, 2000.0, 1999.0, 1998.0, 1998.0, 1998.0, 1997.0, 1996.0, 1996.0, 1995.0, 1994.0, 1994.0, 1993.0, 1990.0, 1988.0, 1988.0, 1988.0, 1988.0, 1987.0, 1987.0, 1987.0, 1985.0, 1985.0, 1985.0, 1983.0, 1981.0, 1980.0, 1980.0, 1980.0, 1978.0, 1978.0, 1978.0, 1978.0, 1977.0, 1976.0, 1976.0, 1976.0, 1976.0, 1976.0, 1975.0, 1974.0, 1974.0, 1970.0, 1969.0, 1968.0, 1967.0, 1965.0, 1965.0, 1964.0, 1964.0, 1963.0, 1962.0, 1962.0, 1961.0, 1960.0, 1960.0, 1959.0, 1959.0, 1958.0, 1957.0, 1954.0, nan, 2002.0, 2001.0, 2001.0, 2000.0, 1999.0, 1999.0, 1999.0, 1999.0, 1998.0, 1998.0, 1997.0, 1997.0, 1997.0, 1997.0, 1996.0, 1995.0, 1995.0, 1995.0, 1995.0, 1995.0, 1994.0, 1994.0, 1992.0, 1992.0, 1992.0, 1992.0, 1992.0, 1989.0, 1989.0, 1989.0, 1988.0, 1988.0, 1988.0, 1988.0, 1987.0, 1987.0, 1987.0, 1986.0, 1986.0, 1985.0, 1985.0, 1985.0, 1985.0, 1985.0, 1985.0, 1985.0, 1981.0, 1981.0, 1980.0, 1980.0, 1980.0, 1980.0, 1979.0, 1979.0, 1979.0, 1979.0, 1979.0, 1979.0, 1979.0, 1978.0, 1978.0, 1978.0, 1977.0, 1977.0, 1977.0, 1977.0, 1977.0, 1977.0, 1977.0, 1976.0, 1976.0, 1976.0, 1976.0, 1976.0, 1976.0, 1975.0, 1975.0, 1975.0, 1975.0, 1974.0, 1974.0, 1974.0, 1973.0, 1973.0, 1972.0, 1971.0, 1971.0, 1971.0, 1971.0, 1970.0, 1970.0, 1969.0, 1969.0, 1969.0, 1968.0, 1968.0, 1968.0, 1968.0, 1968.0, 1967.0, 1967.0, 1966.0, 1966.0, 1965.0, 1965.0, 1965.0, 1964.0, 1964.0, 1963.0, 1963.0, 1963.0, 1962.0, 1961.0, 1961.0, 1961.0, 1960.0, 1958.0, 1957.0, 1957.0, 1956.0, 1956.0, 1955.0, 1955.0, 1955.0, 1954.0, 1954.0, 1953.0, 1953.0, nan, nan, 2000.0, 1999.0, 1998.0, 1997.0, 1997.0, 1995.0, 1992.0, 1992.0, 1990.0, 1990.0, 1990.0, 1989.0, 1988.0, 1987.0, 1986.0, 1986.0, 1986.0, 1986.0, 1986.0, 1986.0, 1986.0, 1985.0, 1985.0, 1985.0, 1984.0, 1984.0, 1982.0, 1982.0, 1981.0, 1981.0, 1981.0, 1981.0, 1980.0, 1980.0, 1980.0, 1979.0, 1979.0, 1979.0, 1979.0, 1979.0, 1978.0, 1978.0, 1978.0, 1978.0, 1977.0, 1977.0, 1977.0, 1977.0, 1977.0, 1977.0, 1977.0, 1977.0, 1977.0, 1977.0, 1977.0, 1976.0, 1976.0, 1976.0, 1976.0, 1976.0, 1975.0, 1975.0, 1975.0, 1975.0, 1975.0, 1974.0, 1974.0, 1974.0, 1974.0, 1974.0, 1974.0, 1974.0, 1974.0, 1974.0, 1974.0, 1972.0, 1972.0, 1972.0, 1972.0, 1972.0, 1971.0, 1971.0, 1970.0, 1970.0, 1970.0, 1969.0, 1969.0, 1969.0, 1969.0, 1968.0, 1968.0, 1967.0, 1967.0, 1967.0, 1965.0, 1965.0, 1964.0, 1964.0, 1964.0, 1964.0, 1963.0, 1963.0, 1962.0, 1962.0, 1962.0, 1962.0, 1962.0, 1961.0, 1960.0, 1959.0, 1959.0, 1959.0, 1957.0, 1956.0, 1955.0, 1955.0, 1955.0, 1955.0, 1953.0, nan, nan, 2001.0, 2000.0, 2000.0, 2000.0, 1999.0, 1999.0, 1998.0, 1997.0, 1997.0, 1996.0, 1996.0, 1995.0, 1994.0, 1994.0, 1992.0, 1990.0, 1988.0, 1988.0, 1988.0, 1986.0, 1985.0, 1984.0, 1983.0, 1982.0, 1981.0, 1980.0, 1979.0, 1978.0, 1977.0, 1977.0, 1977.0, 1977.0, 1977.0, 1976.0, 1976.0, 1974.0, 1974.0, 1973.0, 1973.0, 1973.0, 1971.0, 1971.0, 1971.0, 1970.0, 1969.0, 1969.0, 1968.0, 1968.0, 1967.0, 1967.0, 1966.0, 1965.0, 1965.0, 1964.0, 1963.0, 1962.0, 1959.0, 1958.0, 1956.0, 1956.0, 1956.0, 1955.0, 1955.0, nan, 2001.0, 2000.0, 2000.0, 1999.0, 1998.0, 1998.0, 1997.0, 1997.0, 1996.0, 1995.0, 1995.0, 1995.0, 1995.0, 1994.0, 1994.0, 1993.0, 1992.0, 1991.0, 1991.0, 1991.0, 1990.0, 1990.0, 1989.0, 1989.0, 1989.0, 1988.0, 1987.0, 1986.0, 1986.0, 1982.0, 1982.0, 1981.0, 1980.0, 1979.0, 1978.0, 1978.0, 1978.0, 1978.0, 1976.0, 1974.0, 1974.0, 1973.0, 1972.0, 1971.0, 1971.0, 1969.0, 1969.0, 1968.0, 1967.0, 1967.0, 1965.0, 1964.0, 1962.0, 1960.0, 1959.0, 1959.0, 1959.0, 1958.0, 1958.0, 1958.0, 1954.0, 1953.0, nan, 2001.0, 1999.0, 1999.0, 1999.0, 1998.0, 1998.0, 1998.0, 1997.0, 1997.0, 1997.0, 1996.0, 1995.0, 1995.0, 1994.0, 1993.0, 1993.0, nan, nan, 2002.0, 2001.0, nan, 1998.0, 1995.0, 1994.0, 1993.0, 1992.0, 1991.0, 1990.0, 1987.0, 1987.0, 1987.0, 1986.0, 1986.0, 1985.0, nan, nan, 1991.0, 1987.0, 1986.0, 1986.0, 1986.0, 1986.0, 1986.0, 1982.0, 1981.0, 1981.0, 1981.0, 1980.0, 1980.0, 1979.0, 1979.0, 1979.0, 1978.0, 1978.0, 1978.0, 1978.0, 1978.0, 1977.0, 1976.0, 1975.0, 1975.0, 1975.0, 1974.0, 1973.0, 1973.0, 1968.0, 1967.0, 1967.0, 1964.0, 1962.0, 1962.0, 1961.0, 1961.0, 1959.0, 1959.0, 1959.0, 1959.0, 1957.0, 1957.0, 1956.0, 1956.0, 1953.0, nan, nan, nan, 2000.0, 1999.0, 1998.0, 1996.0, 1995.0, 1995.0, 1994.0, 1994.0, 1994.0, 1994.0, 1993.0, 1991.0, 1991.0, 1991.0, 1985.0, 1982.0, 1981.0, nan, 2000.0, 2000.0, nan, 2000.0, 1999.0, 1999.0, 1999.0, 1999.0, 1998.0, 1998.0, 1997.0, 1997.0, 1996.0, 1996.0, 1996.0, 1996.0, 1996.0, 1996.0, 1996.0, 1995.0, 1995.0, 1995.0, 1995.0, 1995.0, 1994.0, 1994.0, 1993.0, 1993.0, 1993.0, 1993.0, 1993.0, 1993.0, 1993.0, 1993.0, 1992.0, 1991.0, 1991.0, 1991.0, 1990.0, 1989.0, 1989.0, 1988.0, 1988.0, 1988.0, 1988.0, 1987.0, 1987.0, 1987.0, 1987.0, 1987.0, 1986.0, 1986.0, 1986.0, 1986.0, 1986.0, 1986.0, 1986.0, 1986.0, 1985.0, 1985.0, 1985.0, 1985.0, 1985.0, 1985.0, 1985.0, 1984.0, 1984.0, 1982.0, 1982.0, 1982.0, 1981.0, 1981.0, 1981.0, 1981.0, 1981.0, 1980.0, 1980.0, 1980.0, 1980.0, 1980.0, 1980.0, 1980.0, 1980.0, 1980.0, 1979.0, 1979.0, 1979.0, 1979.0, 1979.0, 1979.0, 1979.0, 1979.0, 1979.0, 1979.0, 1979.0, 1978.0, 1978.0, 1978.0, 1978.0, 1978.0, 1978.0, 1978.0, 1978.0, 1978.0, 1978.0, 1978.0, 1978.0, 1977.0, 1977.0, 1977.0, 1977.0, 1977.0, 1977.0, 1977.0, 1977.0, 1977.0, 1977.0, 1977.0, 1977.0, 1977.0, 1977.0, 1977.0, 1977.0, 1976.0, 1976.0, 1976.0, 1976.0, 1976.0, 1976.0, 1976.0, 1976.0, 1976.0, 1976.0, 1976.0, 1976.0, 1976.0, 1976.0, 1976.0, 1976.0, 1976.0, 1976.0, 1976.0, 1975.0, 1975.0, 1975.0, 1975.0, 1975.0, 1975.0, 1975.0, 1974.0, 1974.0, 1974.0, 1974.0, 1974.0, 1974.0, 1974.0, 1974.0, 1974.0, 1974.0, 1973.0, 1973.0, 1973.0, 1973.0, 1973.0, 1973.0, 1973.0, 1973.0, 1973.0, 1973.0, 1973.0, 1973.0, 1973.0, 1972.0, 1972.0, 1972.0, 1972.0, 1971.0, 1971.0, 1971.0, 1971.0, 1971.0, 1971.0, 1971.0, 1971.0, 1971.0, 1970.0, 1970.0, 1970.0, 1970.0, 1969.0, 1969.0, 1969.0, 1969.0, 1968.0, 1968.0, 1968.0, 1968.0, 1968.0, 1967.0, 1967.0, 1967.0, 1967.0, 1967.0, 1967.0, 1967.0, 1966.0, 1966.0, 1966.0, 1966.0, 1965.0, 1965.0, 1965.0, 1964.0, 1964.0, 1964.0, 1964.0, 1964.0, 1964.0, 1964.0, 1964.0, 1964.0, 1964.0, 1964.0, 1963.0, 1963.0, 1963.0, 1963.0, 1962.0, 1962.0, 1962.0, 1962.0, 1962.0, 1962.0, 1961.0, 1961.0, 1961.0, 1961.0, 1960.0, 1960.0, 1960.0, 1959.0, 1959.0, 1959.0, 1959.0, 1959.0, 1959.0, 1959.0, 1959.0, 1959.0, 1959.0, 1959.0, 1959.0, 1958.0, 1958.0, 1958.0, 1957.0, 1957.0, 1956.0, 1956.0, 1956.0, 1956.0, 1956.0, 1955.0, 1955.0, 1955.0, 1955.0, 1954.0, 1954.0, 1954.0, 1954.0, 1953.0, 1940.0, nan, nan, 1999.0, 1999.0, 1998.0, 1997.0, 1997.0, 1997.0, 1996.0, 1995.0, 1994.0, 1994.0, 1992.0, 1990.0, 1989.0, 1988.0, 1986.0, 1986.0, 1986.0, 1986.0, 1985.0, 1985.0, 1983.0, 1981.0, 1980.0, 1980.0, 1979.0, 1979.0, 1978.0, 1978.0, 1978.0, 1978.0, 1978.0, 1978.0, 1977.0, 1977.0, 1976.0, 1975.0, 1975.0, 1975.0, 1975.0, 1975.0, 1975.0, 1974.0, 1974.0, 1974.0, 1973.0, 1973.0, 1970.0, 1969.0, 1967.0, 1967.0, 1966.0, 1966.0, 1964.0, 1963.0, 1963.0, 1962.0, 1962.0, 1960.0, 1958.0, 1957.0, 1955.0, 1954.0, 1954.0, nan, 2001.0, 2001.0, 1997.0, 1997.0, 1996.0, 1996.0, 1996.0, 1994.0, 1994.0, 1991.0, 1991.0, 1990.0, 1990.0, 1988.0, 1987.0, 1987.0, 1986.0, 1986.0, 1983.0, 1980.0, 1980.0, 1979.0, 1979.0, 1978.0, 1978.0, 1978.0, 1977.0, 1976.0, 1976.0, 1975.0, 1975.0, 1975.0, 1973.0, 1973.0, 1973.0, 1973.0, 1972.0, 1972.0, 1972.0, 1971.0, 1970.0, 1969.0, 1968.0, 1966.0, 1965.0, 1964.0, 1962.0, 1962.0, 1962.0, 1962.0, 1962.0, 1961.0, 1961.0, 1961.0, 1957.0, 1957.0, 1956.0, 1956.0, 1955.0, 1954.0, 1954.0, 1954.0, nan, 1999.0, 1998.0, 1998.0, 1998.0, 1996.0, 1995.0, 1994.0, 1993.0, 1993.0, 1992.0, 1992.0, 1991.0, 1990.0, 1990.0, 1989.0, 1989.0, 1987.0, 1986.0, 1985.0, 1984.0, 1984.0, 1983.0, 1983.0, 1983.0, 1981.0, 1981.0, 1979.0, 1978.0, 1978.0, 1978.0, 1977.0, 1977.0, 1977.0, 1977.0, 1977.0, 1976.0, 1976.0, 1976.0, 1975.0, 1974.0, 1974.0, 1974.0, 1974.0, 1971.0, 1971.0, 1970.0, 1969.0, 1968.0, 1965.0, 1965.0, 1963.0, 1962.0, 1962.0, 1962.0, 1962.0, 1961.0, 1961.0, 1961.0, 1958.0, 1957.0, 1957.0, 1955.0, 1955.0, 1954.0, 1953.0, nan, 1994.0, 1993.0, 1993.0, nan, 2001.0, 2000.0, 1999.0, 1999.0, 1998.0, 1997.0, 1995.0, 1994.0, nan, 1998.0, 1998.0, 1997.0, 1997.0, 1996.0, 1996.0, 1995.0, 1994.0, 1994.0, 1994.0, 1993.0, 1993.0, 1993.0, 1992.0, 1992.0, 1992.0, 1990.0, 1990.0, 1990.0, 1989.0, 1988.0, 1988.0, 1987.0, 1987.0, 1986.0, 1986.0, 1985.0, 1985.0, 1985.0, 1985.0, 1985.0, 1984.0, 1983.0, 1983.0, 1983.0, 1982.0, 1982.0, 1981.0, 1981.0, 1980.0, 1980.0, 1980.0, 1979.0, 1979.0, 1978.0, 1978.0, 1978.0, 1978.0, 1978.0, 1978.0, 1977.0, 1977.0, 1977.0, 1977.0, 1976.0, 1976.0, 1976.0, 1976.0, 1976.0, 1975.0, 1974.0, 1974.0, 1974.0, 1974.0, 1973.0, 1973.0, 1973.0, 1972.0, 1972.0, 1971.0, 1971.0, 1971.0, 1971.0, 1971.0, 1971.0, 1970.0, 1970.0, 1969.0, 1969.0, 1969.0, 1969.0, 1968.0, 1968.0, 1968.0, 1967.0, 1965.0, 1965.0, 1965.0, 1964.0, 1964.0, 1963.0, 1963.0, 1963.0, 1962.0, 1962.0, 1961.0, 1961.0, 1961.0, 1961.0, 1961.0, 1959.0, 1959.0, 1959.0, 1959.0, 1958.0, 1957.0, 1957.0, 1957.0, 1957.0, 1956.0, 1956.0, 1956.0, 1956.0, 1955.0, 1955.0, 1954.0, 1954.0, nan, 1999.0, 1997.0, 1996.0, 1996.0, 1996.0, 1994.0, 1989.0, 1988.0, 1988.0, 1987.0, 1987.0, 1986.0, 1986.0, 1986.0, 1985.0, 1982.0, 1982.0, 1981.0, 1981.0, 1980.0, 1979.0, 1979.0, 1978.0, nan, 1986.0, 1983.0, 1982.0, 1978.0, 1978.0, 1978.0, 1978.0, 1978.0, 1977.0, 1977.0, nan, 2001.0, 2001.0, 2000.0, 2000.0, 1999.0, 1999.0, 1998.0, 1998.0, 1997.0, 1994.0, 1994.0, 1994.0, 1992.0, 1992.0, 1992.0, 1992.0, 1991.0, 1991.0, 1989.0, 1986.0, 1985.0, 1984.0, 1981.0, 1980.0, 1979.0, 1979.0, 1978.0, 1978.0, 1978.0, 1977.0, 1977.0, 1977.0, 1977.0, 1976.0, 1975.0, 1975.0, 1975.0, 1974.0, 1973.0, 1973.0, 1972.0, 1971.0, 1970.0, 1970.0, 1970.0, 1969.0, 1968.0, 1968.0, 1968.0, 1965.0, 1965.0, 1965.0, 1964.0, 1964.0, 1963.0, 1962.0, nan, 1991.0, 1990.0, 1990.0, 1986.0, 1986.0, 1985.0, 1984.0, 1981.0, 1981.0, 1979.0, 1978.0, 1978.0, 1978.0, 1977.0, 1977.0, 1977.0, 1977.0, 1977.0, 1976.0, 1976.0, 1976.0, 1976.0, 1976.0, 1976.0, 1975.0, 1975.0, 1975.0, 1974.0, 1974.0, 1974.0, 1974.0, 1974.0, 1973.0, 1973.0, 1973.0, 1972.0, 1971.0, 1971.0, 1971.0, 1971.0, 1971.0, 1970.0, 1970.0, 1968.0, 1967.0, 1967.0, 1967.0, 1967.0, 1966.0, 1964.0, 1963.0, 1963.0, 1962.0, 1962.0, 1962.0, 1961.0, 1961.0, 1961.0, 1961.0, 1961.0, 1961.0, 1961.0, 1961.0, 1960.0, 1960.0, 1960.0, 1960.0, 1960.0, 1959.0, 1959.0, 1959.0, 1958.0, 1958.0, 1958.0, 1957.0, 1957.0, 1957.0, 1957.0, 1956.0, 1956.0, 1956.0, 1955.0, 1955.0, 1954.0, 1954.0, 1954.0]\n"
          ]
        },
        {
          "output_type": "execute_result",
          "data": {
            "text/plain": [
              "(array([  1.,   0.,   0.,   0.,   0.,   0.,   0.,   0.,   0.,   0.,   0.,\n",
              "          0.,   0.,   0.,   0.,   0.,   0.,   0.,   0.,   0.,   0.,   0.,\n",
              "          0.,   0.,   0.,   0.,   0.,   1.,   1.,   0.,   1.,   2.,   0.,\n",
              "          0.,  80., 192., 207., 195., 292., 204., 264., 418., 539., 243.,\n",
              "        288., 218., 175., 229., 221., 142.]),\n",
              " array([1843.  , 1846.18, 1849.36, 1852.54, 1855.72, 1858.9 , 1862.08,\n",
              "        1865.26, 1868.44, 1871.62, 1874.8 , 1877.98, 1881.16, 1884.34,\n",
              "        1887.52, 1890.7 , 1893.88, 1897.06, 1900.24, 1903.42, 1906.6 ,\n",
              "        1909.78, 1912.96, 1916.14, 1919.32, 1922.5 , 1925.68, 1928.86,\n",
              "        1932.04, 1935.22, 1938.4 , 1941.58, 1944.76, 1947.94, 1951.12,\n",
              "        1954.3 , 1957.48, 1960.66, 1963.84, 1967.02, 1970.2 , 1973.38,\n",
              "        1976.56, 1979.74, 1982.92, 1986.1 , 1989.28, 1992.46, 1995.64,\n",
              "        1998.82, 2002.  ]),\n",
              " <BarContainer object of 50 artists>)"
            ]
          },
          "metadata": {},
          "execution_count": 37
        },
        {
          "output_type": "display_data",
          "data": {
            "text/plain": [
              "<Figure size 640x480 with 1 Axes>"
            ],
            "image/png": "[encoded data removed]"
          },
          "metadata": {}
        }
      ]
    },
    {
      "cell_type": "markdown",
      "source": [
        "DOB data column years before 1923, which means some of the customers are over 100 years old. It is not reasonable when the lifespan is 100."
      ],
      "metadata": {
        "id": "JlKOHP24QkxI"
      }
    },
    {
      "cell_type": "code",
      "source": [
        "CustomerAddress.head()"
      ],
      "metadata": {
        "colab": {
          "base_uri": "https://localhost:8080/",
          "height": 206
        },
        "id": "GjHIec9mLo7p",
        "outputId": "4ceaf285-235b-41ef-9062-4b8c0652e532"
      },
      "execution_count": 10,
      "outputs": [
        {
          "output_type": "execute_result",
          "data": {
            "text/plain": [
              "   customer_id              address  postcode            state    country  \\\n",
              "0            1   060 Morning Avenue      2016  New South Wales  Australia   \n",
              "1            2  6 Meadow Vale Court      2153  New South Wales  Australia   \n",
              "2            4   0 Holy Cross Court      4211              QLD  Australia   \n",
              "3            5  17979 Del Mar Point      2448  New South Wales  Australia   \n",
              "4            6     9 Oakridge Court      3216              VIC  Australia   \n",
              "\n",
              "   property_valuation  \n",
              "0                  10  \n",
              "1                  10  \n",
              "2                   9  \n",
              "3                   4  \n",
              "4                   9  "
            ],
            "text/html": [
              "\n",
              "  <div id=\"df-d504c5d7-00d9-4f6e-be12-bcfbcf5d1115\">\n",
              "    <div class=\"colab-df-container\">\n",
              "      <div>\n",
              "<style scoped>\n",
              "    .dataframe tbody tr th:only-of-type {\n",
              "        vertical-align: middle;\n",
              "    }\n",
              "\n",
              "    .dataframe tbody tr th {\n",
              "        vertical-align: top;\n",
              "    }\n",
              "\n",
              "    .dataframe thead th {\n",
              "        text-align: right;\n",
              "    }\n",
              "</style>\n",
              "<table border=\"1\" class=\"dataframe\">\n",
              "  <thead>\n",
              "    <tr style=\"text-align: right;\">\n",
              "      <th></th>\n",
              "      <th>customer_id</th>\n",
              "      <th>address</th>\n",
              "      <th>postcode</th>\n",
              "      <th>state</th>\n",
              "      <th>country</th>\n",
              "      <th>property_valuation</th>\n",
              "    </tr>\n",
              "  </thead>\n",
              "  <tbody>\n",
              "    <tr>\n",
              "      <th>0</th>\n",
              "      <td>1</td>\n",
              "      <td>060 Morning Avenue</td>\n",
              "      <td>2016</td>\n",
              "      <td>New South Wales</td>\n",
              "      <td>Australia</td>\n",
              "      <td>10</td>\n",
              "    </tr>\n",
              "    <tr>\n",
              "      <th>1</th>\n",
              "      <td>2</td>\n",
              "      <td>6 Meadow Vale Court</td>\n",
              "      <td>2153</td>\n",
              "      <td>New South Wales</td>\n",
              "      <td>Australia</td>\n",
              "      <td>10</td>\n",
              "    </tr>\n",
              "    <tr>\n",
              "      <th>2</th>\n",
              "      <td>4</td>\n",
              "      <td>0 Holy Cross Court</td>\n",
              "      <td>4211</td>\n",
              "      <td>QLD</td>\n",
              "      <td>Australia</td>\n",
              "      <td>9</td>\n",
              "    </tr>\n",
              "    <tr>\n",
              "      <th>3</th>\n",
              "      <td>5</td>\n",
              "      <td>17979 Del Mar Point</td>\n",
              "      <td>2448</td>\n",
              "      <td>New South Wales</td>\n",
              "      <td>Australia</td>\n",
              "      <td>4</td>\n",
              "    </tr>\n",
              "    <tr>\n",
              "      <th>4</th>\n",
              "      <td>6</td>\n",
              "      <td>9 Oakridge Court</td>\n",
              "      <td>3216</td>\n",
              "      <td>VIC</td>\n",
              "      <td>Australia</td>\n",
              "      <td>9</td>\n",
              "    </tr>\n",
              "  </tbody>\n",
              "</table>\n",
              "</div>\n",
              "      <button class=\"colab-df-convert\" onclick=\"convertToInteractive('df-d504c5d7-00d9-4f6e-be12-bcfbcf5d1115')\"\n",
              "              title=\"Convert this dataframe to an interactive table.\"\n",
              "              style=\"display:none;\">\n",
              "        \n",
              "  <svg xmlns=\"http://www.w3.org/2000/svg\" height=\"24px\"viewBox=\"0 0 24 24\"\n",
              "       width=\"24px\">\n",
              "    <path d=\"M0 0h24v24H0V0z\" fill=\"none\"/>\n",
              "    <path d=\"M18.56 5.44l.94 2.06.94-2.06 2.06-.94-2.06-.94-.94-2.06-.94 2.06-2.06.94zm-11 1L8.5 8.5l.94-2.06 2.06-.94-2.06-.94L8.5 2.5l-.94 2.06-2.06.94zm10 10l.94 2.06.94-2.06 2.06-.94-2.06-.94-.94-2.06-.94 2.06-2.06.94z\"/><path d=\"M17.41 7.96l-1.37-1.37c-.4-.4-.92-.59-1.43-.59-.52 0-1.04.2-1.43.59L10.3 9.45l-7.72 7.72c-.78.78-.78 2.05 0 2.83L4 21.41c.39.39.9.59 1.41.59.51 0 1.02-.2 1.41-.59l7.78-7.78 2.81-2.81c.8-.78.8-2.07 0-2.86zM5.41 20L4 18.59l7.72-7.72 1.47 1.35L5.41 20z\"/>\n",
              "  </svg>\n",
              "      </button>\n",
              "      \n",
              "  <style>\n",
              "    .colab-df-container {\n",
              "      display:flex;\n",
              "      flex-wrap:wrap;\n",
              "      gap: 12px;\n",
              "    }\n",
              "\n",
              "    .colab-df-convert {\n",
              "      background-color: #E8F0FE;\n",
              "      border: none;\n",
              "      border-radius: 50%;\n",
              "      cursor: pointer;\n",
              "      display: none;\n",
              "      fill: #1967D2;\n",
              "      height: 32px;\n",
              "      padding: 0 0 0 0;\n",
              "      width: 32px;\n",
              "    }\n",
              "\n",
              "    .colab-df-convert:hover {\n",
              "      background-color: #E2EBFA;\n",
              "      box-shadow: 0px 1px 2px rgba(60, 64, 67, 0.3), 0px 1px 3px 1px rgba(60, 64, 67, 0.15);\n",
              "      fill: #174EA6;\n",
              "    }\n",
              "\n",
              "    [theme=dark] .colab-df-convert {\n",
              "      background-color: #3B4455;\n",
              "      fill: #D2E3FC;\n",
              "    }\n",
              "\n",
              "    [theme=dark] .colab-df-convert:hover {\n",
              "      background-color: #434B5C;\n",
              "      box-shadow: 0px 1px 3px 1px rgba(0, 0, 0, 0.15);\n",
              "      filter: drop-shadow(0px 1px 2px rgba(0, 0, 0, 0.3));\n",
              "      fill: #FFFFFF;\n",
              "    }\n",
              "  </style>\n",
              "\n",
              "      <script>\n",
              "        const buttonEl =\n",
              "          document.querySelector('#df-d504c5d7-00d9-4f6e-be12-bcfbcf5d1115 button.colab-df-convert');\n",
              "        buttonEl.style.display =\n",
              "          google.colab.kernel.accessAllowed ? 'block' : 'none';\n",
              "\n",
              "        async function convertToInteractive(key) {\n",
              "          const element = document.querySelector('#df-d504c5d7-00d9-4f6e-be12-bcfbcf5d1115');\n",
              "          const dataTable =\n",
              "            await google.colab.kernel.invokeFunction('convertToInteractive',\n",
              "                                                     [key], {});\n",
              "          if (!dataTable) return;\n",
              "\n",
              "          const docLinkHtml = 'Like what you see? Visit the ' +\n",
              "            '<a target=\"_blank\" href=https://colab.research.google.com/notebooks/data_table.ipynb>data table notebook</a>'\n",
              "            + ' to learn more about interactive tables.';\n",
              "          element.innerHTML = '';\n",
              "          dataTable['output_type'] = 'display_data';\n",
              "          await google.colab.output.renderOutput(dataTable, element);\n",
              "          const docLink = document.createElement('div');\n",
              "          docLink.innerHTML = docLinkHtml;\n",
              "          element.appendChild(docLink);\n",
              "        }\n",
              "      </script>\n",
              "    </div>\n",
              "  </div>\n",
              "  "
            ]
          },
          "metadata": {},
          "execution_count": 10
        }
      ]
    },
    {
      "cell_type": "code",
      "source": [
        "CustomerAddress.info()"
      ],
      "metadata": {
        "colab": {
          "base_uri": "https://localhost:8080/"
        },
        "id": "hEyu3M8ZLqXc",
        "outputId": "f907f1a7-f41b-4883-d5d9-a05c198f1448"
      },
      "execution_count": 11,
      "outputs": [
        {
          "output_type": "stream",
          "name": "stdout",
          "text": [
            "<class 'pandas.core.frame.DataFrame'>\n",
            "RangeIndex: 3999 entries, 0 to 3998\n",
            "Data columns (total 6 columns):\n",
            " #   Column              Non-Null Count  Dtype \n",
            "---  ------              --------------  ----- \n",
            " 0   customer_id         3999 non-null   int64 \n",
            " 1   address             3999 non-null   object\n",
            " 2   postcode            3999 non-null   int64 \n",
            " 3   state               3999 non-null   object\n",
            " 4   country             3999 non-null   object\n",
            " 5   property_valuation  3999 non-null   int64 \n",
            "dtypes: int64(3), object(3)\n",
            "memory usage: 187.6+ KB\n"
          ]
        }
      ]
    },
    {
      "cell_type": "code",
      "source": [
        "CustomerAddress.nunique()"
      ],
      "metadata": {
        "colab": {
          "base_uri": "https://localhost:8080/"
        },
        "id": "xkGuzVAHLr_E",
        "outputId": "d1e19754-86a8-4a8b-c5f3-1f0c3372de5a"
      },
      "execution_count": 12,
      "outputs": [
        {
          "output_type": "execute_result",
          "data": {
            "text/plain": [
              "customer_id           3999\n",
              "address               3996\n",
              "postcode               873\n",
              "state                    5\n",
              "country                  1\n",
              "property_valuation      12\n",
              "dtype: int64"
            ]
          },
          "metadata": {},
          "execution_count": 12
        }
      ]
    },
    {
      "cell_type": "code",
      "source": [
        "# check the category in state\n",
        "CustomerAddress['state'].unique()"
      ],
      "metadata": {
        "colab": {
          "base_uri": "https://localhost:8080/"
        },
        "id": "V43KcNuANdOD",
        "outputId": "63fb6c09-2eb0-4191-9a40-ad466b9476c5"
      },
      "execution_count": 22,
      "outputs": [
        {
          "output_type": "execute_result",
          "data": {
            "text/plain": [
              "array(['New South Wales', 'QLD', 'VIC', 'NSW', 'Victoria'], dtype=object)"
            ]
          },
          "metadata": {},
          "execution_count": 22
        }
      ]
    },
    {
      "cell_type": "markdown",
      "source": [
        "1. New South Wales should be NSW.\n",
        "2. Victoria should be VIC."
      ],
      "metadata": {
        "id": "63DhNdctNom7"
      }
    },
    {
      "cell_type": "code",
      "source": [
        "demographoic_id = set(CustomerDemographic['customer_id'])\n",
        "address_id = set(CustomerAddress['customer_id'])\n",
        "missing_id_in_demo = address_id - demographoic_id \n",
        "print(sorted(missing_id_in_demo))\n",
        "missing_id_in_address = demographoic_id - address_id\n",
        "print(sorted(missing_id_in_address))"
      ],
      "metadata": {
        "colab": {
          "base_uri": "https://localhost:8080/"
        },
        "id": "vv29VuReLxNF",
        "outputId": "8cbf6c34-f2b2-4f21-b894-ff7453dd5919"
      },
      "execution_count": 25,
      "outputs": [
        {
          "output_type": "stream",
          "name": "stdout",
          "text": [
            "[4001, 4002, 4003]\n",
            "[3, 10, 22, 23]\n"
          ]
        }
      ]
    },
    {
      "cell_type": "markdown",
      "source": [
        "1. The customer_id 4001, 4002, and 4003 only appear in CustomerAddress not in CustomerDemographic.\n",
        "2. The customer_id 3, 10, 22, and 23 only appear in CustomerDemographic not in CustomerAddress"
      ],
      "metadata": {
        "id": "guMtp2QVNzYq"
      }
    }
  ]
}